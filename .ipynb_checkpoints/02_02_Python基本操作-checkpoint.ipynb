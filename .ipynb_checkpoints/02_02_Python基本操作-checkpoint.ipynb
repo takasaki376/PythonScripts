{
 "cells": [
  {
   "cell_type": "markdown",
   "metadata": {},
   "source": [
    "### 変数 "
   ]
  },
  {
   "cell_type": "code",
   "execution_count": 1,
   "metadata": {},
   "outputs": [],
   "source": [
    "a = 123                       # 整数\n",
    "b_123 = 123.456               # 小数\n",
    "hello_world = \"Hello World!\"  # 文字列"
   ]
  },
  {
   "cell_type": "code",
   "execution_count": 2,
   "metadata": {},
   "outputs": [
    {
     "name": "stdout",
     "output_type": "stream",
     "text": [
      "整数　： 123\n",
      "少数　： 123.456\n",
      "文字列： Hello World!\n"
     ]
    }
   ],
   "source": [
    "print('整数　：',a)\n",
    "print('少数　：',b_123)\n",
    "print('文字列：',hello_world)"
   ]
  },
  {
   "cell_type": "markdown",
   "metadata": {},
   "source": [
    "### 四則計算"
   ]
  },
  {
   "cell_type": "code",
   "execution_count": 3,
   "metadata": {},
   "outputs": [
    {
     "name": "stdout",
     "output_type": "stream",
     "text": [
      "足し算： 7\n",
      "引き算： -1\n",
      "掛け算： 12\n",
      "割り算： 0.75\n",
      "べき乗（aのb乗）： 81\n"
     ]
    }
   ],
   "source": [
    "a = 3\n",
    "b = 4\n",
    "\n",
    "c = a + b  # 足し算\n",
    "print('足し算：',c) \n",
    "\n",
    "d = a - b  # 引き算\n",
    "print('引き算：',d)\n",
    "\n",
    "e = a * b  # 掛け算\n",
    "print('掛け算：',e)\n",
    "\n",
    "f = a / b  # 割り算\n",
    "print('割り算：',f)\n",
    "\n",
    "g = a ** b  # べき乗（aのb乗）\n",
    "print('べき乗（aのb乗）：',g)"
   ]
  },
  {
   "cell_type": "code",
   "execution_count": 4,
   "metadata": {},
   "outputs": [
    {
     "name": "stdout",
     "output_type": "stream",
     "text": [
      "足し算： 8\n",
      "引き算： 2\n"
     ]
    }
   ],
   "source": [
    "h = 5\n",
    "h += 3  # h = h + 3と同じ。\n",
    "print('足し算：',h)\n",
    "\n",
    "i = 5\n",
    "i -= 3  # i = i + 3と同じ\n",
    "print('引き算：',i)"
   ]
  },
  {
   "cell_type": "markdown",
   "metadata": {},
   "source": [
    "### リスト"
   ]
  },
  {
   "cell_type": "code",
   "execution_count": 5,
   "metadata": {},
   "outputs": [
    {
     "name": "stdout",
     "output_type": "stream",
     "text": [
      "[1, 2, 3, 4]\n"
     ]
    }
   ],
   "source": [
    "# リストの定義\n",
    "a = [1, 2, 3, 4]\n",
    "print(a)"
   ]
  },
  {
   "cell_type": "code",
   "execution_count": 8,
   "metadata": {},
   "outputs": [
    {
     "name": "stdout",
     "output_type": "stream",
     "text": [
      "6\n"
     ]
    }
   ],
   "source": [
    "# リストの中から特定項目の取り出し \n",
    "# (１番目の項目を指定する時は 0 )\n",
    "b = [4, 5, 6, 7]\n",
    "print(b[2])"
   ]
  },
  {
   "cell_type": "code",
   "execution_count": 9,
   "metadata": {},
   "outputs": [
    {
     "name": "stdout",
     "output_type": "stream",
     "text": [
      "[1, 2, 3, 4, 5, 6]\n"
     ]
    }
   ],
   "source": [
    "# 値を追加したい場合は、append\n",
    "c = [1, 2, 3, 4, 5]\n",
    "c.append(6)\n",
    "print(c)"
   ]
  },
  {
   "cell_type": "code",
   "execution_count": 11,
   "metadata": {},
   "outputs": [
    {
     "name": "stdout",
     "output_type": "stream",
     "text": [
      "[[1, 2, 3], [4, 5, 6]]\n"
     ]
    }
   ],
   "source": [
    "# リストの中にさらにリストを作成する事も可能である\n",
    "d = [[1, 2, 3], [4, 5, 6]]\n",
    "print(d)"
   ]
  },
  {
   "cell_type": "markdown",
   "metadata": {},
   "source": [
    "### 条件分岐"
   ]
  },
  {
   "cell_type": "code",
   "execution_count": 20,
   "metadata": {},
   "outputs": [
    {
     "name": "stdout",
     "output_type": "stream",
     "text": [
      "7\n",
      "-----------\n"
     ]
    }
   ],
   "source": [
    "a = 5\n",
    "if a>3:                     # : (コロン) をつけると次の行から\n",
    "    print(a + 2)            # インデントを記載して、処理を記述する\n",
    "else:                       # インデントがなくなると、IF文から抜ける\n",
    "    print(a - 2)\n",
    "    print('+++++++++++')    # インデントがあるため、ELSE文の中\n",
    "print('-----------')        # インデントがないため、IF文の外側"
   ]
  },
  {
   "cell_type": "code",
   "execution_count": 21,
   "metadata": {},
   "outputs": [
    {
     "name": "stdout",
     "output_type": "stream",
     "text": [
      "-1\n",
      "+++++++++++\n",
      "-----------\n"
     ]
    }
   ],
   "source": [
    "a = 1\n",
    "if a>3:                     # : (コロン) をつけると次の行から\n",
    "    print(a + 2)            # インデントを記載して、処理を記述する\n",
    "else:                       # インデントがなくなると、IF文から抜ける\n",
    "    print(a - 2)\n",
    "    print('+++++++++++')    # インデントがあるため、ELSE文の中\n",
    "print('-----------')        # インデントがないため、IF文の外側"
   ]
  },
  {
   "cell_type": "code",
   "execution_count": null,
   "metadata": {},
   "outputs": [],
   "source": []
  }
 ],
 "metadata": {
  "kernelspec": {
   "display_name": "Python 3",
   "language": "python",
   "name": "python3"
  },
  "language_info": {
   "codemirror_mode": {
    "name": "ipython",
    "version": 3
   },
   "file_extension": ".py",
   "mimetype": "text/x-python",
   "name": "python",
   "nbconvert_exporter": "python",
   "pygments_lexer": "ipython3",
   "version": "3.7.1"
  }
 },
 "nbformat": 4,
 "nbformat_minor": 4
}
