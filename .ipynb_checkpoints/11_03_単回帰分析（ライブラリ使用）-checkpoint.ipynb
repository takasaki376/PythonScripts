{
 "cells": [
  {
   "cell_type": "markdown",
   "metadata": {},
   "source": [
    "# 単回帰分析\n",
    "\n",
    "グラフの表示対象となる関数を求める"
   ]
  },
  {
   "cell_type": "markdown",
   "metadata": {},
   "source": [
    "●ライブラリのインポート"
   ]
  },
  {
   "cell_type": "code",
   "execution_count": 1,
   "metadata": {},
   "outputs": [
    {
     "name": "stderr",
     "output_type": "stream",
     "text": [
      "C:\\Users\\takasaki\\Anaconda3\\envs\\matplotlib\\lib\\site-packages\\japanize_matplotlib\\japanize_matplotlib.py:15: MatplotlibDeprecationWarning: \n",
      "The createFontList function was deprecated in Matplotlib 3.2 and will be removed two minor releases later. Use FontManager.addfont instead.\n",
      "  font_list = font_manager.createFontList(font_files)\n"
     ]
    }
   ],
   "source": [
    "import numpy as np\n",
    "import matplotlib.pyplot as plt\n",
    "import japanize_matplotlib\n",
    "# 機械学習のライブラリ（全てインポートすると重たいので、回帰分析に関係する部分のみインポートする）\n",
    "from sklearn.linear_model import LinearRegression"
   ]
  },
  {
   "cell_type": "markdown",
   "metadata": {},
   "source": [
    "### ●x,yに、3つのデータを入れる"
   ]
  },
  {
   "cell_type": "code",
   "execution_count": 2,
   "metadata": {},
   "outputs": [
    {
     "name": "stdout",
     "output_type": "stream",
     "text": [
      "[[25]\n",
      " [27]\n",
      " [29]]\n",
      "[[ 5]\n",
      " [21]\n",
      " [25]]\n"
     ]
    }
   ],
   "source": [
    "# sklearn は入力データとして、１レコードに対して複数項目を持つデータ（重回帰分析）にも対応しているため、定数定義の記載方法を変更\n",
    "\n",
    "# 気温\n",
    "x = np.array([[25],[27],[29]])\n",
    "# それぞれ、気温に対してアイスクリームが売れた個数とする\n",
    "y = np.array([[5],[21],[25]])\n",
    "\n",
    "print(x)\n",
    "print(y)"
   ]
  },
  {
   "cell_type": "markdown",
   "metadata": {},
   "source": [
    "## ①「モデル」を決める\n",
    "## ②「評価関数」を決める。\n",
    "## ③「評価関数」を最小化する"
   ]
  },
  {
   "cell_type": "code",
   "execution_count": 3,
   "metadata": {
    "scrolled": true
   },
   "outputs": [
    {
     "name": "stdout",
     "output_type": "stream",
     "text": [
      "a [[5.]]\n",
      "b [-118.]\n"
     ]
    }
   ],
   "source": [
    "model = LinearRegression()\n",
    "model.fit(x,y)\n",
    "\n",
    "# 求まったモデルの結果\n",
    "a = model.coef_               ##傾き\n",
    "b = model.intercept_          ##切片\n",
    "print('a',a)\n",
    "print('b',b)"
   ]
  },
  {
   "cell_type": "markdown",
   "metadata": {},
   "source": [
    "# 予測する"
   ]
  },
  {
   "cell_type": "code",
   "execution_count": 4,
   "metadata": {},
   "outputs": [
    {
     "name": "stdout",
     "output_type": "stream",
     "text": [
      "[[12.]]\n"
     ]
    }
   ],
   "source": [
    "# 気温が26度の場合の予測値\n",
    "print(model.predict([[26]]))"
   ]
  },
  {
   "cell_type": "code",
   "execution_count": 5,
   "metadata": {},
   "outputs": [
    {
     "data": {
      "text/plain": [
       "0.8928571428571426"
      ]
     },
     "execution_count": 5,
     "metadata": {},
     "output_type": "execute_result"
    }
   ],
   "source": [
    "#スコア  予測精度　（一般的に0.7以上が高い　、0～1の範囲で示されて、1に近づくほど精度が高い\n",
    "model.score(x,y)"
   ]
  },
  {
   "cell_type": "code",
   "execution_count": 6,
   "metadata": {},
   "outputs": [
    {
     "data": {
      "text/plain": [
       "<function matplotlib.pyplot.show(*args, **kw)>"
      ]
     },
     "execution_count": 6,
     "metadata": {},
     "output_type": "execute_result"
    },
    {
     "data": {
      "image/png": "[encoded data removed]",
      "text/plain": [
       "<Figure size 432x288 with 1 Axes>"
      ]
     },
     "metadata": {
      "needs_background": "light"
     },
     "output_type": "display_data"
    }
   ],
   "source": [
    "# 散布図\n",
    "y_hat= a * x + b\n",
    "plt.scatter(x,y,s=100,c='blue',label= 'data')\n",
    "plt.plot(x , y_hat, c='red' ,label='予測値')\n",
    "\n",
    "plt.legend(loc='upper left')\n",
    "plt.title('アイスクリームと気温の関係')    \n",
    "plt.xlabel('最高気温')   \n",
    "plt.ylabel('売れた個数')   \n",
    "\n",
    "plt.show"
   ]
  },
  {
   "cell_type": "code",
   "execution_count": null,
   "metadata": {},
   "outputs": [],
   "source": []
  }
 ],
 "metadata": {
  "kernelspec": {
   "display_name": "Python 3",
   "language": "python",
   "name": "python3"
  },
  "language_info": {
   "codemirror_mode": {
    "name": "ipython",
    "version": 3
   },
   "file_extension": ".py",
   "mimetype": "text/x-python",
   "name": "python",
   "nbconvert_exporter": "python",
   "pygments_lexer": "ipython3",
   "version": "3.7.1"
  }
 },
 "nbformat": 4,
 "nbformat_minor": 4
}
