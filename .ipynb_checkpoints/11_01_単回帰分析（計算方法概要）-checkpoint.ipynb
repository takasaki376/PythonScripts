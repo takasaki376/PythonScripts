{
 "cells": [
  {
   "cell_type": "markdown",
   "metadata": {},
   "source": [
    "# 予測に対する誤差が大きいか小さいかの判断\n",
    "\n",
    "機械学習を行う際に、誤差が小さくなるように学習していく。\n",
    "その過程で、「誤差が小さい」とは、どのように求めるかのサンプルプログラム\n",
    "\n",
    "※平均２乗誤差の検証を行う。誤差の判断方法は他にもある。それぞれメリット・デメリットがあるので、どういった判断にするのかは検討すること。"
   ]
  },
  {
   "cell_type": "markdown",
   "metadata": {},
   "source": [
    "## 関数定義"
   ]
  },
  {
   "cell_type": "markdown",
   "metadata": {},
   "source": [
    "●Numpyのインポート"
   ]
  },
  {
   "cell_type": "code",
   "execution_count": 2,
   "metadata": {},
   "outputs": [],
   "source": [
    "import numpy as np"
   ]
  },
  {
   "cell_type": "markdown",
   "metadata": {},
   "source": [
    "## データ準備"
   ]
  },
  {
   "cell_type": "markdown",
   "metadata": {},
   "source": [
    "●x,yに、3つのデータを入れる"
   ]
  },
  {
   "cell_type": "code",
   "execution_count": 18,
   "metadata": {},
   "outputs": [
    {
     "name": "stdout",
     "output_type": "stream",
     "text": [
      "[ 5 21 25]\n"
     ]
    }
   ],
   "source": [
    "# 入力データ（気温）\n",
    "x = np.array([25,27,29])\n",
    "# 出力データ（それぞれ、気温に対してアイスクリームが売れた個数とする）\n",
    "y = np.array([5,21,25])\n",
    "print(y)"
   ]
  },
  {
   "cell_type": "markdown",
   "metadata": {},
   "source": [
    "●一関数：y_orange = 5x-115"
   ]
  },
  {
   "cell_type": "code",
   "execution_count": 14,
   "metadata": {},
   "outputs": [
    {
     "name": "stdout",
     "output_type": "stream",
     "text": [
      "[10 20 30]\n"
     ]
    }
   ],
   "source": [
    "# 気温とアイスクリームの関係（案１）\n",
    "y_orange = 5 * x -115\n",
    "# 案１に対する予測値\n",
    "print (y_orange)"
   ]
  },
  {
   "cell_type": "markdown",
   "metadata": {},
   "source": [
    "●一関数：y_green = 3x-63"
   ]
  },
  {
   "cell_type": "code",
   "execution_count": 15,
   "metadata": {},
   "outputs": [
    {
     "name": "stdout",
     "output_type": "stream",
     "text": [
      "[12 18 24]\n"
     ]
    }
   ],
   "source": [
    "# 気温とアイスクリームの関係（案２）\n",
    "y_green = 3 * x -63\n",
    "# 案２に対する予測値\n",
    "print (y_green)"
   ]
  },
  {
   "cell_type": "markdown",
   "metadata": {},
   "source": [
    "## グラフ描画"
   ]
  },
  {
   "cell_type": "markdown",
   "metadata": {},
   "source": [
    "●Matplotlibのインポート"
   ]
  },
  {
   "cell_type": "code",
   "execution_count": 19,
   "metadata": {},
   "outputs": [],
   "source": [
    "import matplotlib.pyplot as plt\n",
    "import japanize_matplotlib"
   ]
  },
  {
   "cell_type": "code",
   "execution_count": 20,
   "metadata": {},
   "outputs": [
    {
     "data": {
      "image/png": "[encoded data removed]",
      "text/plain": [
       "<Figure size 432x288 with 1 Axes>"
      ]
     },
     "metadata": {
      "needs_background": "light"
     },
     "output_type": "display_data"
    }
   ],
   "source": [
    "plt.scatter(x,y,s=100,c='blue',label= '実際に売れた個数')\n",
    "plt.plot(x,y_orange,lw=5, c= 'orange',label= '案１')\n",
    "plt.plot(x,y_green,lw=5,c='green',label= '案２')\n",
    "\n",
    "plt.legend(loc='upper left')\n",
    "plt.title('アイスクリームと気温の関係')    \n",
    "plt.xlabel('最高気温')   \n",
    "plt.ylabel('売れた個数')   \n",
    "plt.show()"
   ]
  },
  {
   "cell_type": "markdown",
   "metadata": {},
   "source": [
    "## 誤差の算出　（誤差と正解の差を合計）\n",
    "\n",
    "案１と案２で、どちらの方が誤差が小さいかを判断する。（＝誤差が小さい方が正確な予測ができる）"
   ]
  },
  {
   "cell_type": "code",
   "execution_count": 21,
   "metadata": {},
   "outputs": [
    {
     "name": "stdout",
     "output_type": "stream",
     "text": [
      "[-5  1 -5]\n",
      "オレンジ線の誤差の和： -9\n"
     ]
    }
   ],
   "source": [
    "#実データ（y）と直線（y_orange）の誤差\n",
    "y_orange_e = y - y_orange\n",
    "print(y_orange_e)\n",
    "#誤差の和：y_orange_e\n",
    "print('オレンジ線の誤差の和：', np.sum(y_orange_e))"
   ]
  },
  {
   "cell_type": "code",
   "execution_count": 22,
   "metadata": {},
   "outputs": [
    {
     "name": "stdout",
     "output_type": "stream",
     "text": [
      "[-7  3  1]\n",
      "緑線の誤差の和： -3\n"
     ]
    }
   ],
   "source": [
    "#実データ（y）と直線（y_green）の誤差\n",
    "y_green_e = y - y_green\n",
    "print(y_green_e)\n",
    "#誤差の和：y_green_e\n",
    "print('緑線の誤差の和：', np.sum(y_green_e))"
   ]
  },
  {
   "cell_type": "markdown",
   "metadata": {},
   "source": [
    "この時点だと、案２の方が合計すると０に近い "
   ]
  },
  {
   "cell_type": "markdown",
   "metadata": {},
   "source": [
    "## 絶対値の和\n",
    "ただ、マイナスを含むと０に近づいているか判断ができないので、絶対値の和を取ってみる"
   ]
  },
  {
   "cell_type": "code",
   "execution_count": 23,
   "metadata": {},
   "outputs": [
    {
     "name": "stdout",
     "output_type": "stream",
     "text": [
      "[5 1 5]\n",
      "オレンジ線の誤差（絶対値）の和： 11\n"
     ]
    }
   ],
   "source": [
    "#実データ（y）と直線（y_orange）の誤差（絶対値）\n",
    "y_orange_e = abs(y - y_orange)\n",
    "print(y_orange_e)\n",
    "#誤差の和：y_orange_e\n",
    "print('オレンジ線の誤差（絶対値）の和：', np.sum(y_orange_e))"
   ]
  },
  {
   "cell_type": "code",
   "execution_count": 24,
   "metadata": {},
   "outputs": [
    {
     "name": "stdout",
     "output_type": "stream",
     "text": [
      "[7 3 1]\n",
      "緑線の誤差（絶対値）の和： 11\n"
     ]
    }
   ],
   "source": [
    "#実データ（y）と直線（y_green）の誤差（絶対値）\n",
    "y_green_e = abs(y - y_green)\n",
    "print(y_green_e)\n",
    "#誤差の和：y_green_e\n",
    "print('緑線の誤差（絶対値）の和：', np.sum(y_green_e))"
   ]
  },
  {
   "cell_type": "markdown",
   "metadata": {},
   "source": [
    "絶対値を取ると、合計値としては同じ値のため、判断できない。"
   ]
  },
  {
   "cell_type": "markdown",
   "metadata": {},
   "source": [
    "## 誤差の算出　（二乗誤差の合計）"
   ]
  },
  {
   "cell_type": "code",
   "execution_count": 48,
   "metadata": {},
   "outputs": [
    {
     "name": "stdout",
     "output_type": "stream",
     "text": [
      "[25  1 25]\n",
      "オレンジ線の二乗誤差の和： 51\n"
     ]
    }
   ],
   "source": [
    "#実データ（y）と直線（y_orange）の二乗誤差\n",
    "y_orange_e = (y - y_orange) ** 2\n",
    "print(y_orange_e)\n",
    "#二乗誤差の和：y_orange_e\n",
    "print('オレンジ線の二乗誤差の和：', np.sum(y_orange_e))"
   ]
  },
  {
   "cell_type": "code",
   "execution_count": 49,
   "metadata": {},
   "outputs": [
    {
     "name": "stdout",
     "output_type": "stream",
     "text": [
      "[49  9  1]\n",
      "緑線の二乗誤差の和： 59\n"
     ]
    }
   ],
   "source": [
    "#実データ（y）と直線（y_green_e）の二乗誤差\n",
    "y_green_e = (y - y_green) ** 2\n",
    "print(y_green_e)\n",
    "#二乗誤差の和：y_green_e\n",
    "print('緑線の二乗誤差の和：', np.sum(y_green_e))"
   ]
  },
  {
   "cell_type": "markdown",
   "metadata": {},
   "source": [
    "二乗すると、マイナスの値がプラスに変わるため、比較可能な形になる。　\\\n",
    "ただ合計していると数字が大きいので１個当たりの平均の誤差の形にする。"
   ]
  },
  {
   "cell_type": "code",
   "execution_count": 50,
   "metadata": {},
   "outputs": [
    {
     "name": "stdout",
     "output_type": "stream",
     "text": [
      "オレンジ線の１個のデータに対する平均誤差： 2.3804761428476167\n"
     ]
    }
   ],
   "source": [
    "print('オレンジ線の１個のデータに対する平均誤差：', np.sqrt(np.sum(y_orange_e)) / len(y_orange_e))"
   ]
  },
  {
   "cell_type": "code",
   "execution_count": 51,
   "metadata": {},
   "outputs": [
    {
     "name": "stdout",
     "output_type": "stream",
     "text": [
      "緑線の１個のデータに対する平均誤差　　　： 2.5603819159562025\n"
     ]
    }
   ],
   "source": [
    "print('緑線の１個のデータに対する平均誤差　　　：', np.sqrt(np.sum(y_green_e))/len(y_green_e))"
   ]
  },
  {
   "cell_type": "code",
   "execution_count": null,
   "metadata": {},
   "outputs": [],
   "source": []
  }
 ],
 "metadata": {
  "kernelspec": {
   "display_name": "Python 3",
   "language": "python",
   "name": "python3"
  },
  "language_info": {
   "codemirror_mode": {
    "name": "ipython",
    "version": 3
   },
   "file_extension": ".py",
   "mimetype": "text/x-python",
   "name": "python",
   "nbconvert_exporter": "python",
   "pygments_lexer": "ipython3",
   "version": "3.7.1"
  }
 },
 "nbformat": 4,
 "nbformat_minor": 4
}
