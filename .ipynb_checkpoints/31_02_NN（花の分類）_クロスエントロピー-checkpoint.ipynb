{
 "cells": [
  {
   "cell_type": "markdown",
   "metadata": {},
   "source": [
    "## ライブラリのインポート"
   ]
  },
  {
   "cell_type": "code",
   "execution_count": 12,
   "metadata": {},
   "outputs": [],
   "source": [
    "import numpy as np\n",
    "# アイリスの計測データ\n",
    "from sklearn.datasets import load_iris\n",
    "# 訓練データと検証データの分割\n",
    "from sklearn.model_selection import train_test_split\n",
    "# データを扱う\n",
    "import pandas as pd\n",
    "# 予測結果の精度表示\n",
    "from sklearn import metrics\n",
    "# グラフ描画\n",
    "from matplotlib import pyplot as plt\n",
    "import japanize_matplotlib\n",
    "import collections"
   ]
  },
  {
   "cell_type": "code",
   "execution_count": 13,
   "metadata": {},
   "outputs": [],
   "source": [
    "import torch\n",
    "# 自動微分の関数 \n",
    "from torch.autograd import Variable\n",
    "# ニューラルネットワークの関数\n",
    "import torch.nn as nn\n",
    "# 活性化関数\n",
    "import torch.nn.functional as F\n",
    "# 最適化のアルゴリズムの関数\n",
    "import torch.optim as optim\n",
    "#ユーティリティのデータから\n",
    "from torch.utils.data import DataLoader ,TensorDataset, Dataset"
   ]
  },
  {
   "cell_type": "markdown",
   "metadata": {},
   "source": [
    "# テスト用データの読み込み"
   ]
  },
  {
   "cell_type": "code",
   "execution_count": 23,
   "metadata": {},
   "outputs": [],
   "source": [
    "class IrisDataset(Dataset):\n",
    "    def __init__(self, testsize=0.2):\n",
    "        iris = load_iris()\n",
    "        X=iris.data\n",
    "        self.Y = iris.target\n",
    "        \n",
    "        # 訓練データと検証データに分割する\n",
    "        X_train,X_test,Y_train,Y_test=train_test_split(X, self.Y, test_size=testsize, random_state=1) \n",
    "        \n",
    "        # テンソルに変換\n",
    "        self.X_data = torch.FloatTensor(X_train)\n",
    "        self.X_test = torch.FloatTensor(X_test)\n",
    "        self.Y_data = torch.LongTensor(Y_train)\n",
    "        self.Y_test = torch.LongTensor(Y_test)\n",
    "        self.X_fulldata = torch.FloatTensor(X)\n",
    "        self.Y_fulldata = torch.LongTensor(self.Y)\n",
    "        \n",
    "        self.datalen = len(self.Y_data)\n",
    "        self.in_size = self.X_data.shape[1]\n",
    "        self.out_size = len(list(collections.Counter(self.Y).keys()))\n",
    "        print('X_size=', self.in_size)\n",
    "        print('Y_size=', self.out_size)\n",
    "        print('record_cnt=', self.datalen)\n",
    "        \n",
    "    def __getitem__(self, index):\n",
    "        return self.X_data[index], self.Y_data[index]\n",
    "    \n",
    "    def __len__(self):\n",
    "        return self.datalen"
   ]
  },
  {
   "cell_type": "code",
   "execution_count": 24,
   "metadata": {},
   "outputs": [
    {
     "name": "stdout",
     "output_type": "stream",
     "text": [
      "X_size= 4\n",
      "Y_size= 3\n",
      "record_cnt= 120\n"
     ]
    }
   ],
   "source": [
    "Batch_size = 20\n",
    "dataset = IrisDataset()\n",
    "trainloader = DataLoader(dataset=dataset, batch_size = Batch_size, shuffle=True)"
   ]
  },
  {
   "cell_type": "markdown",
   "metadata": {},
   "source": [
    "# ニューラルネットワークの定義"
   ]
  },
  {
   "cell_type": "markdown",
   "metadata": {},
   "source": [
    "ニューラルネットワークのノード数や階層を定義する \\\n",
    "出力値を求める関数を定義する（ノード数によって変わる、求めたい値によっても変わる）"
   ]
  },
  {
   "cell_type": "code",
   "execution_count": 25,
   "metadata": {},
   "outputs": [],
   "source": [
    "# Module を継承して、Netクラスを作成する\n",
    "#  ノード数や階層を増やす　⇒　精度が向上する、学習のパフォーマンスは落ちる\n",
    "#  ノード数や階層を減らす　⇒　精度が下がる、学習のパフォーマンスは上がる\n",
    "#   　ノードや階層を変更しても精度が上がらない　⇒　入力データが不足している\n",
    "class Net(nn.Module):\n",
    "    # 初期化の関数\n",
    "    def __init__(self, in_features, out_features, h1=10, h2=8):\n",
    "        super(Net ,self).__init__()\n",
    "        #   中間層のノード数は、精度向上やパフォーマンス向上を狙って調整する\n",
    "        self.fc1 = nn.Linear(in_features , h1)         # nn.Linear (入力のノード数 , 中間層ノード数)\n",
    "        self.fc2 = nn.Linear(h1, h2)                   # nn.Linear (中間層ノード数 , 中間層ノード数)\n",
    "        self.fc3 = nn.Linear(h2, out_features)         # nn.Linear (中間層ノード数 , 出力のノード数)\n",
    "        \n",
    "    # ネットワークを通して、出力値を求める関数\n",
    "    def forward(self ,x):\n",
    "        x = F.relu(self.fc1(x))              # 入力のノードを中間層（１階層目）に渡して結果を得る\n",
    "        x = F.relu(self.fc2(x))              # 中間層（１階層目）の結果を中間層（２階層目）に渡して結果を得る\n",
    "        x = self.fc3(x)                      # 中間層（２階層目）の結果を出力層に渡す\n",
    "        return x"
   ]
  },
  {
   "cell_type": "markdown",
   "metadata": {},
   "source": [
    "# 学習する"
   ]
  },
  {
   "cell_type": "code",
   "execution_count": 26,
   "metadata": {},
   "outputs": [],
   "source": [
    "# モデルの定義\n",
    "model = Net(in_features = dataset.in_size, out_features = dataset.out_size)\n",
    "# 損失の定義 (平均二乗誤差)\n",
    "criterion = nn.CrossEntropyLoss()"
   ]
  },
  {
   "cell_type": "code",
   "execution_count": 27,
   "metadata": {},
   "outputs": [],
   "source": [
    "# 最適化のアルゴリズムの選択　（確率的勾配効果法（SGD：Stochastic Gradient Descent）\n",
    "## model.parameters  調整する値\n",
    "## lr(learning rate) ：学習率　どれぐらいの幅でパラメータを更新していくのか\n",
    "optimizer = optim.Adam(model.parameters() , lr=0.01)"
   ]
  },
  {
   "cell_type": "code",
   "execution_count": 28,
   "metadata": {},
   "outputs": [
    {
     "name": "stderr",
     "output_type": "stream",
     "text": [
      "..\\aten\\src\\ATen\\native\\BinaryOps.cpp:81: UserWarning: Integer division of tensors using div or / is deprecated, and in a future release div will perform true division as in Python 3. Use true_divide or floor_divide (// in Python) instead.\n"
     ]
    },
    {
     "name": "stdout",
     "output_type": "stream",
     "text": [
      "Epoch\t20\t\tLoss\t0.00022387\t\taccuracy:\t84.000%\n",
      "Epoch\t40\t\tLoss\t0.00017857\t\taccuracy:\t96.000%\n",
      "Epoch\t60\t\tLoss\t0.00015174\t\taccuracy:\t96.000%\n",
      "Epoch\t80\t\tLoss\t0.00014510\t\taccuracy:\t97.000%\n",
      "Epoch\t100\t\tLoss\t0.00015186\t\taccuracy:\t97.000%\n",
      "Epoch\t120\t\tLoss\t0.00015625\t\taccuracy:\t97.000%\n",
      "Epoch\t140\t\tLoss\t0.00011907\t\taccuracy:\t97.000%\n",
      "Epoch\t160\t\tLoss\t0.00013766\t\taccuracy:\t97.000%\n",
      "Epoch\t180\t\tLoss\t0.00014647\t\taccuracy:\t96.000%\n",
      "Epoch\t200\t\tLoss\t0.00018867\t\taccuracy:\t97.000%\n",
      "Epoch\t220\t\tLoss\t0.00015758\t\taccuracy:\t97.000%\n",
      "Epoch\t240\t\tLoss\t0.00012754\t\taccuracy:\t97.000%\n",
      "Epoch\t260\t\tLoss\t0.00015819\t\taccuracy:\t97.000%\n",
      "Epoch\t280\t\tLoss\t0.00011996\t\taccuracy:\t98.000%\n",
      "Epoch\t300\t\tLoss\t0.00014677\t\taccuracy:\t97.000%\n",
      "Epoch\t320\t\tLoss\t0.00016026\t\taccuracy:\t97.000%\n",
      "Epoch\t340\t\tLoss\t0.00012857\t\taccuracy:\t97.000%\n",
      "Epoch\t360\t\tLoss\t0.00013281\t\taccuracy:\t97.000%\n",
      "Epoch\t380\t\tLoss\t0.00015269\t\taccuracy:\t96.000%\n",
      "Epoch\t400\t\tLoss\t0.00014505\t\taccuracy:\t97.000%\n",
      "Epoch\t420\t\tLoss\t0.00017321\t\taccuracy:\t97.000%\n",
      "Epoch\t440\t\tLoss\t0.00011765\t\taccuracy:\t98.000%\n",
      "Epoch\t460\t\tLoss\t0.00012277\t\taccuracy:\t98.000%\n",
      "Epoch\t480\t\tLoss\t0.00019628\t\taccuracy:\t97.000%\n",
      "Epoch\t500\t\tLoss\t0.00022756\t\taccuracy:\t96.000%\n"
     ]
    }
   ],
   "source": [
    "loss_list = []\n",
    "loss_temp = 0\n",
    "\n",
    "epochs=500\n",
    "logdisp=20\n",
    "\n",
    "accuracy_list = []\n",
    "\n",
    "correct_counter = 0\n",
    "acccnt=len(dataset)*logdisp\n",
    "\n",
    "# トレーニングの回数分ループする。\n",
    "for epoch in range(epochs):\n",
    "    # 損失を初期化　\n",
    "    total_loss = 0\n",
    "    \n",
    "    # データの件数分ループする。（x_train , y_train　に１レコードずつ格納される）\n",
    "    for x_train , y_train in trainloader:\n",
    "        # Variable ：　torch,autograd.Variable  ：テンソルをwrapして計算操作を記録する\n",
    "        x_train ,y_train = Variable(x_train) ,Variable(y_train)\n",
    "        # 出力を計算する \n",
    "        output = model(x_train)\n",
    "        # 損失の計算 (出力の結果；output と 正解：y_trainを渡す)\n",
    "        loss = criterion(output ,y_train.data)\n",
    "        \n",
    "        y_pred = torch.max(output.data, axis=1)[1]\n",
    "        correct_temp = (y_train == y_pred).sum()\n",
    "        correct_counter += correct_temp\n",
    "        \n",
    "        # パラメータの勾配を初期化する\n",
    "        optimizer.zero_grad()\n",
    "        # ロスを伝播する\n",
    "        loss.backward()\n",
    "        # パラメータを更新する\n",
    "        optimizer.step()\n",
    "        # トータルロスを格納\n",
    "        total_loss += loss.item()\n",
    "        \n",
    "    # 10回毎に回数とトータルロスを表示する\n",
    "    if (epoch+1)%logdisp == 0:\n",
    "        loss_tmp=total_loss/acccnt\n",
    "        print(f'Epoch\\t{epoch+1}\\t\\tLoss\\t{loss_tmp:.8f}\\t\\taccuracy:\\t{(correct_counter*100)/acccnt:.3f}%')\n",
    "        \n",
    "        accuracy_list.append(correct_counter.item()*100/(acccnt))\n",
    "        loss_list.append(loss_tmp)\n",
    "        loss_temp=0\n",
    "        total_loss=0\n",
    "        correct_counter = 0\n",
    "        "
   ]
  },
  {
   "cell_type": "code",
   "execution_count": 29,
   "metadata": {},
   "outputs": [
    {
     "data": {
      "text/plain": [
       "[<matplotlib.lines.Line2D at 0x1449f177470>]"
      ]
     },
     "execution_count": 29,
     "metadata": {},
     "output_type": "execute_result"
    },
    {
     "data": {
      "image/png": "[encoded data removed]",
      "text/plain": [
       "<Figure size 432x288 with 1 Axes>"
      ]
     },
     "metadata": {
      "needs_background": "light"
     },
     "output_type": "display_data"
    }
   ],
   "source": [
    "# ロスのプロット\n",
    "plt.plot(loss_list)"
   ]
  },
  {
   "cell_type": "code",
   "execution_count": 30,
   "metadata": {},
   "outputs": [
    {
     "data": {
      "text/plain": [
       "[<matplotlib.lines.Line2D at 0x144a3dd5780>]"
      ]
     },
     "execution_count": 30,
     "metadata": {},
     "output_type": "execute_result"
    },
    {
     "data": {
      "image/png": "[encoded data removed]",
      "text/plain": [
       "<Figure size 432x288 with 1 Axes>"
      ]
     },
     "metadata": {
      "needs_background": "light"
     },
     "output_type": "display_data"
    }
   ],
   "source": [
    "plt.plot(accuracy_list)"
   ]
  },
  {
   "cell_type": "markdown",
   "metadata": {},
   "source": [
    "## 誤差の確認"
   ]
  },
  {
   "cell_type": "code",
   "execution_count": 33,
   "metadata": {},
   "outputs": [],
   "source": [
    "# 学習を行わないモードに変更\n",
    "model.eval()\n",
    "\n",
    "# テストデータ\n",
    "x_test ,y_test = Variable(dataset.X_test) ,Variable(dataset.Y_test)\n",
    "# テストデータｘに対する結果　（値の大きい方を取得する）\n",
    "y_hat = torch.max(model(x_test).data ,1)[1]\n",
    "# テストｘの結果とｙの比較　（結果が一致したら加算して、不一致は加算しない。その結果をデータ数で割る）\n",
    "accuracy = np.sum(y_test.numpy() == y_hat.numpy()) /len(y_test.data)"
   ]
  },
  {
   "cell_type": "code",
   "execution_count": 35,
   "metadata": {},
   "outputs": [
    {
     "data": {
      "text/plain": [
       "array([0, 1, 1, 0, 2, 1, 2, 0, 0, 2, 1, 0, 2, 1, 1, 0, 1, 1, 0, 0, 1, 1,\n",
       "       1, 0, 2, 1, 0, 0, 1, 2], dtype=int64)"
      ]
     },
     "execution_count": 35,
     "metadata": {},
     "output_type": "execute_result"
    }
   ],
   "source": [
    "# 正解データ\n",
    "y_test.numpy()"
   ]
  },
  {
   "cell_type": "code",
   "execution_count": 36,
   "metadata": {},
   "outputs": [
    {
     "data": {
      "text/plain": [
       "array([0, 1, 1, 0, 2, 1, 2, 0, 0, 2, 1, 0, 2, 1, 1, 0, 1, 1, 0, 0, 1, 1,\n",
       "       2, 0, 2, 1, 0, 0, 1, 2], dtype=int64)"
      ]
     },
     "execution_count": 36,
     "metadata": {},
     "output_type": "execute_result"
    }
   ],
   "source": [
    "# 予測値\n",
    "y_hat.numpy()"
   ]
  },
  {
   "cell_type": "code",
   "execution_count": 37,
   "metadata": {},
   "outputs": [
    {
     "data": {
      "text/plain": [
       "0.9666666666666667"
      ]
     },
     "execution_count": 37,
     "metadata": {},
     "output_type": "execute_result"
    }
   ],
   "source": [
    "# 予測値の正解率\n",
    "accuracy"
   ]
  },
  {
   "cell_type": "code",
   "execution_count": 39,
   "metadata": {},
   "outputs": [
    {
     "name": "stdout",
     "output_type": "stream",
     "text": [
      "              precision    recall  f1-score   support\n",
      "\n",
      "           0       1.00      1.00      1.00        11\n",
      "           1       1.00      0.92      0.96        13\n",
      "           2       0.86      1.00      0.92         6\n",
      "\n",
      "    accuracy                           0.97        30\n",
      "   macro avg       0.95      0.97      0.96        30\n",
      "weighted avg       0.97      0.97      0.97        30\n",
      "\n",
      "-----\n",
      "[[11  0  0]\n",
      " [ 0 12  1]\n",
      " [ 0  0  6]]\n"
     ]
    }
   ],
   "source": [
    "y_hat_numpy = y_hat.numpy()\n",
    "print(metrics.classification_report(y_test.numpy(),y_hat.numpy() ))  # 正解率など\n",
    "print('-----')\n",
    "print(metrics.confusion_matrix(y_test.numpy(), y_hat.numpy() ))     # 行:正解、列:予測"
   ]
  },
  {
   "cell_type": "code",
   "execution_count": 40,
   "metadata": {},
   "outputs": [
    {
     "data": {
      "image/png": "[encoded data removed]",
      "text/plain": [
       "<Figure size 432x288 with 1 Axes>"
      ]
     },
     "metadata": {
      "needs_background": "light"
     },
     "output_type": "display_data"
    },
    {
     "data": {
      "image/png": "[encoded data removed]",
      "text/plain": [
       "<Figure size 432x288 with 1 Axes>"
      ]
     },
     "metadata": {
      "needs_background": "light"
     },
     "output_type": "display_data"
    }
   ],
   "source": [
    "#予測結果を格納\n",
    "st_predict_sepal = [[],[]]  # Setosa\n",
    "st_predict_petal = [[],[]]  # Setosa\n",
    "vc_predict_sepal = [[],[]]   # Versicolor\n",
    "vc_predict_petal = [[],[]]   # Versicolor\n",
    "vn_predict_sepal = [[],[]]   # Versinica\n",
    "vn_predict_petal = [[],[]]   # Versinica\n",
    "i = 0\n",
    "# 予測値に対してデータを分割\n",
    "for _y_hat in y_hat.numpy():\n",
    "    if _y_hat == 0:\n",
    "        st_predict_sepal[0].append(dataset.X_test[i][0])\n",
    "        st_predict_sepal[1].append(dataset.X_test[i][1])\n",
    "        st_predict_petal[0].append(dataset.X_test[i][2])\n",
    "        st_predict_petal[1].append(dataset.X_test[i][3])\n",
    "    elif _y_hat == 1:\n",
    "        vc_predict_sepal[0].append(dataset.X_test[i][0])\n",
    "        vc_predict_sepal[1].append(dataset.X_test[i][1])\n",
    "        vc_predict_petal[0].append(dataset.X_test[i][2])\n",
    "        vc_predict_petal[1].append(dataset.X_test[i][3])\n",
    "    elif _y_hat == 2:\n",
    "        vn_predict_sepal[0].append(dataset.X_test[i][0])\n",
    "        vn_predict_sepal[1].append(dataset.X_test[i][1])\n",
    "        vn_predict_petal[0].append(dataset.X_test[i][2])\n",
    "        vn_predict_petal[1].append(dataset.X_test[i][3])\n",
    "    else:\n",
    "        continue\n",
    "    i += 1\n",
    "\n",
    "plt.scatter(st_predict_sepal[0], st_predict_sepal[1], label=\"Setosa\")      # Sepal lengthとSepal width\n",
    "plt.scatter(vc_predict_sepal[0], vc_predict_sepal[1], label=\"Versicolor\")  # Sepal lengthとSepal width\n",
    "plt.scatter(vn_predict_sepal[0], vn_predict_sepal[1], label=\"Versinica\")  # Sepal lengthとSepal width\n",
    "plt.legend()\n",
    "plt.title('ガクの長さと幅での分布(全データ）')\n",
    "plt.xlabel(\"Sepal length (cm)\")    # ガクの長さ\n",
    "plt.ylabel(\"Sepal width (cm)\")     # ガクの幅\n",
    "plt.show()\n",
    "\n",
    "plt.scatter(st_predict_petal[0], st_predict_petal[1], label=\"Setosa\")      # Petal lengthとPetal width\n",
    "plt.scatter(vc_predict_petal[0], vc_predict_petal[1], label=\"Versicolor\")  # Petal lengthとPetal width\n",
    "plt.scatter(vn_predict_petal[0], vn_predict_petal[1], label=\"Versinica\")   # Petal lengthとPetal width\n",
    "plt.legend()\n",
    "plt.title('花弁の長さと幅での分布(全データ)')\n",
    "plt.xlabel(\"Petal length (cm)\")   # 花弁の長さ\n",
    "plt.ylabel(\"Petal width (cm)\")    # 花弁の幅\n",
    "plt.show()"
   ]
  },
  {
   "cell_type": "code",
   "execution_count": 41,
   "metadata": {},
   "outputs": [
    {
     "data": {
      "image/png": "[encoded data removed]",
      "text/plain": [
       "<Figure size 432x288 with 1 Axes>"
      ]
     },
     "metadata": {
      "needs_background": "light"
     },
     "output_type": "display_data"
    },
    {
     "data": {
      "image/png": "[encoded data removed]",
      "text/plain": [
       "<Figure size 432x288 with 1 Axes>"
      ]
     },
     "metadata": {
      "needs_background": "light"
     },
     "output_type": "display_data"
    }
   ],
   "source": [
    "y_hat2 = torch.max(model(dataset.X_fulldata) ,1)[1]\n",
    "\n",
    "#予測結果を格納\n",
    "st_predict_sepal = [[],[]]  # Setosa\n",
    "st_predict_petal = [[],[]]  # Setosa\n",
    "vc_predict_sepal = [[],[]]   # Versicolor\n",
    "vc_predict_petal = [[],[]]   # Versicolor\n",
    "vn_predict_sepal = [[],[]]   # Versinica\n",
    "vn_predict_petal = [[],[]]   # Versinica\n",
    "i = 0\n",
    "# 予測値に対してデータを分割\n",
    "for _y_hat in y_hat2.numpy():\n",
    "    if _y_hat == 0:\n",
    "        st_predict_sepal[0].append(dataset.X_fulldata[i][0])\n",
    "        st_predict_sepal[1].append(dataset.X_fulldata[i][1])\n",
    "        st_predict_petal[0].append(dataset.X_fulldata[i][2])\n",
    "        st_predict_petal[1].append(dataset.X_fulldata[i][3])\n",
    "    elif _y_hat == 1:\n",
    "        vc_predict_sepal[0].append(dataset.X_fulldata[i][0])\n",
    "        vc_predict_sepal[1].append(dataset.X_fulldata[i][1])\n",
    "        vc_predict_petal[0].append(dataset.X_fulldata[i][2])\n",
    "        vc_predict_petal[1].append(dataset.X_fulldata[i][3])\n",
    "    elif _y_hat == 2:\n",
    "        vn_predict_sepal[0].append(dataset.X_fulldata[i][0])\n",
    "        vn_predict_sepal[1].append(dataset.X_fulldata[i][1])\n",
    "        vn_predict_petal[0].append(dataset.X_fulldata[i][2])\n",
    "        vn_predict_petal[1].append(dataset.X_fulldata[i][3])\n",
    "    else:\n",
    "        continue\n",
    "    i += 1\n",
    "\n",
    "plt.scatter(st_predict_sepal[0], st_predict_sepal[1], label=\"Setosa\")      # Sepal lengthとSepal width\n",
    "plt.scatter(vc_predict_sepal[0], vc_predict_sepal[1], label=\"Versicolor\")  # Sepal lengthとSepal width\n",
    "plt.scatter(vn_predict_sepal[0], vn_predict_sepal[1], label=\"Versinica\")  # Sepal lengthとSepal width\n",
    "plt.legend()\n",
    "plt.title('ガクの長さと幅での分布(全データ）')\n",
    "plt.xlabel(\"Sepal length (cm)\")    # ガクの長さ\n",
    "plt.ylabel(\"Sepal width (cm)\")     # ガクの幅\n",
    "plt.show()\n",
    "\n",
    "plt.scatter(st_predict_petal[0], st_predict_petal[1], label=\"Setosa\")      # Petal lengthとPetal width\n",
    "plt.scatter(vc_predict_petal[0], vc_predict_petal[1], label=\"Versicolor\")  # Petal lengthとPetal width\n",
    "plt.scatter(vn_predict_petal[0], vn_predict_petal[1], label=\"Versinica\")   # Petal lengthとPetal width\n",
    "plt.legend()\n",
    "plt.title('花弁の長さと幅での分布(全データ)')\n",
    "plt.xlabel(\"Petal length (cm)\")   # 花弁の長さ\n",
    "plt.ylabel(\"Petal width (cm)\")    # 花弁の幅\n",
    "plt.show()"
   ]
  },
  {
   "cell_type": "code",
   "execution_count": 43,
   "metadata": {},
   "outputs": [
    {
     "name": "stdout",
     "output_type": "stream",
     "text": [
      "              precision    recall  f1-score   support\n",
      "\n",
      "           0       1.00      1.00      1.00        50\n",
      "           1       1.00      0.90      0.95        50\n",
      "           2       0.91      1.00      0.95        50\n",
      "\n",
      "    accuracy                           0.97       150\n",
      "   macro avg       0.97      0.97      0.97       150\n",
      "weighted avg       0.97      0.97      0.97       150\n",
      "\n",
      "-----\n",
      "[[50  0  0]\n",
      " [ 0 45  5]\n",
      " [ 0  0 50]]\n"
     ]
    }
   ],
   "source": [
    "print(metrics.classification_report(dataset.Y , y_hat2.numpy() ))  # 正解率など\n",
    "print('-----')\n",
    "print(metrics.confusion_matrix(dataset.Y, y_hat2.numpy() ))     # 行:正解、列:予測"
   ]
  },
  {
   "cell_type": "markdown",
   "metadata": {},
   "source": [
    "## 予測する"
   ]
  },
  {
   "cell_type": "code",
   "execution_count": 44,
   "metadata": {},
   "outputs": [],
   "source": [
    "def print_predict(_x , _y):\n",
    "    print('入力データ',_x)\n",
    "    y_predict = model(_x).data\n",
    "    print('予測値(確率)',y_predict)\n",
    "    print('予測値',torch.max(y_predict ,1)[1])\n",
    "    print('正解',_y)"
   ]
  },
  {
   "cell_type": "code",
   "execution_count": 46,
   "metadata": {},
   "outputs": [
    {
     "name": "stdout",
     "output_type": "stream",
     "text": [
      "入力データ tensor([[5.1000, 3.5000, 1.4000, 0.2000]])\n",
      "予測値(確率) tensor([[  7.6728,  -5.8159, -22.1732]])\n",
      "予測値 tensor([0])\n",
      "正解 [0]\n"
     ]
    }
   ],
   "source": [
    "# 全データの１件目　　：　Setosa\n",
    "print_predict(dataset.X_fulldata[0:1] , dataset.Y[0:1])"
   ]
  },
  {
   "cell_type": "code",
   "execution_count": 47,
   "metadata": {},
   "outputs": [
    {
     "name": "stdout",
     "output_type": "stream",
     "text": [
      "入力データ tensor([[6.4000, 3.2000, 4.5000, 1.5000]])\n",
      "予測値(確率) tensor([[-5.8790,  3.9458, -2.6612]])\n",
      "予測値 tensor([1])\n",
      "正解 [1]\n"
     ]
    }
   ],
   "source": [
    "# 全データの５１件目：　Versicolor\n",
    "print_predict(dataset.X_fulldata[51:52] , dataset.Y[51:52])"
   ]
  },
  {
   "cell_type": "code",
   "execution_count": 48,
   "metadata": {},
   "outputs": [
    {
     "name": "stdout",
     "output_type": "stream",
     "text": [
      "入力データ tensor([[5.8000, 2.7000, 5.1000, 1.9000]])\n",
      "予測値(確率) tensor([[-10.2531,  -0.7772,   4.3799]])\n",
      "予測値 tensor([2])\n",
      "正解 [2]\n"
     ]
    }
   ],
   "source": [
    "# 全データの１０１件目　　：　Versinica\n",
    "print_predict(dataset.X_fulldata[101:102] , dataset.Y[101:102])"
   ]
  },
  {
   "cell_type": "code",
   "execution_count": null,
   "metadata": {},
   "outputs": [],
   "source": []
  }
 ],
 "metadata": {
  "kernelspec": {
   "display_name": "Python 3",
   "language": "python",
   "name": "python3"
  },
  "language_info": {
   "codemirror_mode": {
    "name": "ipython",
    "version": 3
   },
   "file_extension": ".py",
   "mimetype": "text/x-python",
   "name": "python",
   "nbconvert_exporter": "python",
   "pygments_lexer": "ipython3",
   "version": "3.7.1"
  }
 },
 "nbformat": 4,
 "nbformat_minor": 4
}
