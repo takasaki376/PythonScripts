{
 "cells": [
  {
   "cell_type": "markdown",
   "metadata": {},
   "source": [
    "### 変数 "
   ]
  },
  {
   "cell_type": "code",
   "execution_count": 32,
   "metadata": {},
   "outputs": [],
   "source": [
    "a = 123                        # 整数\n",
    "b_123 = 123.456                # 小数\n",
    "hello_world1 = 'Hello World シングル'  # 文字列\n",
    "hello_world2 = \"Hello World ダブル \"  # 文字列"
   ]
  },
  {
   "cell_type": "code",
   "execution_count": 33,
   "metadata": {},
   "outputs": [
    {
     "name": "stdout",
     "output_type": "stream",
     "text": [
      "整数　： 123\n",
      "少数　： 123.456\n",
      "文字列： Hello World シングル\n",
      "文字列： Hello World ダブル \n"
     ]
    }
   ],
   "source": [
    "print('整数　：',a)\n",
    "print('少数　：',b_123)\n",
    "print('文字列：',hello_world1)\n",
    "print('文字列：',hello_world2)"
   ]
  },
  {
   "cell_type": "markdown",
   "metadata": {},
   "source": [
    "### 四則計算"
   ]
  },
  {
   "cell_type": "code",
   "execution_count": 3,
   "metadata": {},
   "outputs": [
    {
     "name": "stdout",
     "output_type": "stream",
     "text": [
      "足し算： 7\n",
      "引き算： -1\n",
      "掛け算： 12\n",
      "割り算： 0.75\n",
      "べき乗（aのb乗）： 81\n"
     ]
    }
   ],
   "source": [
    "a = 3\n",
    "b = 4\n",
    "\n",
    "c = a + b  # 足し算\n",
    "print('足し算：',c) \n",
    "\n",
    "d = a - b  # 引き算\n",
    "print('引き算：',d)\n",
    "\n",
    "e = a * b  # 掛け算\n",
    "print('掛け算：',e)\n",
    "\n",
    "f = a / b  # 割り算\n",
    "print('割り算：',f)\n",
    "\n",
    "g = a ** b  # べき乗（aのb乗）\n",
    "print('べき乗（aのb乗）：',g)"
   ]
  },
  {
   "cell_type": "code",
   "execution_count": 4,
   "metadata": {},
   "outputs": [
    {
     "name": "stdout",
     "output_type": "stream",
     "text": [
      "足し算： 8\n",
      "引き算： 2\n"
     ]
    }
   ],
   "source": [
    "h = 5\n",
    "h += 3  # h = h + 3と同じ。\n",
    "print('足し算：',h)\n",
    "\n",
    "i = 5\n",
    "i -= 3  # i = i + 3と同じ\n",
    "print('引き算：',i)"
   ]
  },
  {
   "cell_type": "markdown",
   "metadata": {},
   "source": [
    "### リスト"
   ]
  },
  {
   "cell_type": "code",
   "execution_count": 5,
   "metadata": {},
   "outputs": [
    {
     "name": "stdout",
     "output_type": "stream",
     "text": [
      "[1, 2, 3, 4]\n"
     ]
    }
   ],
   "source": [
    "# リストの定義\n",
    "a = [1, 2, 3, 4]\n",
    "print(a)"
   ]
  },
  {
   "cell_type": "code",
   "execution_count": 8,
   "metadata": {},
   "outputs": [
    {
     "name": "stdout",
     "output_type": "stream",
     "text": [
      "6\n"
     ]
    }
   ],
   "source": [
    "# リストの中から特定項目の取り出し \n",
    "# (１番目の項目を指定する時は 0 )\n",
    "b = [4, 5, 6, 7]\n",
    "print(b[2])"
   ]
  },
  {
   "cell_type": "code",
   "execution_count": 9,
   "metadata": {},
   "outputs": [
    {
     "name": "stdout",
     "output_type": "stream",
     "text": [
      "[1, 2, 3, 4, 5, 6]\n"
     ]
    }
   ],
   "source": [
    "# 値を追加したい場合は、append\n",
    "c = [1, 2, 3, 4, 5]\n",
    "c.append(6)\n",
    "print(c)"
   ]
  },
  {
   "cell_type": "code",
   "execution_count": 11,
   "metadata": {},
   "outputs": [
    {
     "name": "stdout",
     "output_type": "stream",
     "text": [
      "[[1, 2, 3], [4, 5, 6]]\n"
     ]
    }
   ],
   "source": [
    "# リストの中にさらにリストを作成する事も可能である\n",
    "d = [[1, 2, 3], [4, 5, 6]]\n",
    "print(d)"
   ]
  },
  {
   "cell_type": "markdown",
   "metadata": {},
   "source": [
    "### 条件分岐"
   ]
  },
  {
   "cell_type": "code",
   "execution_count": 20,
   "metadata": {},
   "outputs": [
    {
     "name": "stdout",
     "output_type": "stream",
     "text": [
      "7\n",
      "-----------\n"
     ]
    }
   ],
   "source": [
    "a = 5\n",
    "if a>3:                     # : (コロン) をつけると次の行から\n",
    "    print(a + 2)            # インデントを記載して、処理を記述する\n",
    "else:                       # インデントがなくなると、IF文から抜ける\n",
    "    print(a - 2)\n",
    "    print('+++++++++++')    # インデントがあるため、ELSE文の中\n",
    "print('-----------')        # インデントがないため、IF文の外側"
   ]
  },
  {
   "cell_type": "code",
   "execution_count": 21,
   "metadata": {},
   "outputs": [
    {
     "name": "stdout",
     "output_type": "stream",
     "text": [
      "-1\n",
      "+++++++++++\n",
      "-----------\n"
     ]
    }
   ],
   "source": [
    "a = 1\n",
    "if a>3:                     # : (コロン) をつけると次の行から\n",
    "    print(a + 2)            # インデントを記載して、処理を記述する\n",
    "else:                       # インデントがなくなると、IF文から抜ける\n",
    "    print(a - 2)\n",
    "    print('+++++++++++')    # インデントがあるため、ELSE文の中\n",
    "print('-----------')        # インデントがないため、IF文の外側"
   ]
  },
  {
   "cell_type": "markdown",
   "metadata": {},
   "source": [
    "###  ループ文"
   ]
  },
  {
   "cell_type": "code",
   "execution_count": 22,
   "metadata": {
    "scrolled": true
   },
   "outputs": [
    {
     "name": "stdout",
     "output_type": "stream",
     "text": [
      "0\n",
      "1\n",
      "2\n",
      "3\n",
      "4\n"
     ]
    }
   ],
   "source": [
    "# rangeを使ったループ 0から4までの範囲でループする\n",
    "# a には 0 からの順に値が格納される\n",
    "for a in range(5):\n",
    "    print(a)"
   ]
  },
  {
   "cell_type": "code",
   "execution_count": 49,
   "metadata": {},
   "outputs": [
    {
     "name": "stdout",
     "output_type": "stream",
     "text": [
      "2\n",
      "3\n",
      "4\n"
     ]
    }
   ],
   "source": [
    "# 開始値を指定する場合は、rangeに２つの値を渡す。\n",
    "for a in range(2 ,5):\n",
    "    print(a)"
   ]
  },
  {
   "cell_type": "code",
   "execution_count": 25,
   "metadata": {},
   "outputs": [
    {
     "name": "stdout",
     "output_type": "stream",
     "text": [
      "0\n",
      "1\n",
      "2\n",
      "end： 3\n"
     ]
    }
   ],
   "source": [
    "# 途中で処理を抜ける場合は、break\n",
    "for a in range(5):\n",
    "    if a == 3:\n",
    "        print('end：',a)\n",
    "        break\n",
    "    print(a)"
   ]
  },
  {
   "cell_type": "code",
   "execution_count": 27,
   "metadata": {},
   "outputs": [
    {
     "name": "stdout",
     "output_type": "stream",
     "text": [
      "0\n",
      "1\n",
      "2\n",
      "continue： 3\n",
      "4\n"
     ]
    }
   ],
   "source": [
    "# 途中で処理をスキップする場合は、continue\n",
    "for a in range(5):\n",
    "    if a == 3:\n",
    "        print('continue：',a)\n",
    "        continue\n",
    "    print(a)"
   ]
  },
  {
   "cell_type": "code",
   "execution_count": 28,
   "metadata": {},
   "outputs": [
    {
     "name": "stdout",
     "output_type": "stream",
     "text": [
      "0\n",
      "1\n",
      "2\n",
      "3\n",
      "4\n",
      "finish\n"
     ]
    }
   ],
   "source": [
    "# ループ終了後に行いたい処理は、elseで記述する\n",
    "for a in range(5):\n",
    "    print(a)\n",
    "else:\n",
    "    print('finish')"
   ]
  },
  {
   "cell_type": "code",
   "execution_count": 34,
   "metadata": {},
   "outputs": [
    {
     "name": "stdout",
     "output_type": "stream",
     "text": [
      "0\n",
      "1\n",
      "2\n",
      "end： 3\n"
     ]
    }
   ],
   "source": [
    "# breakした場合は、elseを通らない\n",
    "for a in range(5):\n",
    "    if a == 3:\n",
    "        print('end：',a)\n",
    "        break\n",
    "    print(a)\n",
    "else:\n",
    "    print('finish')"
   ]
  },
  {
   "cell_type": "code",
   "execution_count": 50,
   "metadata": {},
   "outputs": [
    {
     "name": "stdout",
     "output_type": "stream",
     "text": [
      "2\n",
      "4\n",
      "6\n"
     ]
    }
   ],
   "source": [
    "# リストを使ったループ\n",
    "list = [1, 3, 5]\n",
    "for a in list:\n",
    "    print(a + 1)"
   ]
  },
  {
   "cell_type": "code",
   "execution_count": 39,
   "metadata": {},
   "outputs": [
    {
     "name": "stdout",
     "output_type": "stream",
     "text": [
      "1 10\n",
      "1 20\n",
      "1 30\n",
      "-----------\n",
      "2 10\n",
      "2 20\n",
      "2 30\n",
      "-----------\n",
      "3 10\n",
      "3 20\n",
      "3 30\n",
      "-----------\n"
     ]
    }
   ],
   "source": [
    "# ２重のループ\n",
    "l1 = [1, 2, 3]\n",
    "l2 = [10, 20, 30]\n",
    "\n",
    "for i in l1:\n",
    "    for j in l2:\n",
    "        print(i, j)\n",
    "    print('-----------')"
   ]
  },
  {
   "cell_type": "code",
   "execution_count": 44,
   "metadata": {},
   "outputs": [
    {
     "name": "stdout",
     "output_type": "stream",
     "text": [
      "1 10\n",
      "1 20\n",
      "1 30\n",
      "-----------\n",
      "2 10\n",
      "BREAK\n",
      "-----------\n",
      "3 10\n",
      "3 20\n",
      "3 30\n",
      "-----------\n"
     ]
    }
   ],
   "source": [
    "# ２重のループの途中にbreak　→外側のループは抜けない\n",
    "for i in l1:\n",
    "    for j in l2:\n",
    "        print(i, j)\n",
    "        if i == 2 and j == 10 :\n",
    "            print('BREAK')\n",
    "            break\n",
    "    print('-----------')"
   ]
  },
  {
   "cell_type": "code",
   "execution_count": 54,
   "metadata": {},
   "outputs": [
    {
     "name": "stdout",
     "output_type": "stream",
     "text": [
      "1 10\n",
      "1 20\n",
      "1 30\n",
      "2 10\n",
      "BREAK\n",
      "-----------\n",
      "finish\n"
     ]
    }
   ],
   "source": [
    "# else と continue を組み合わせれば外側のループを抜ける\n",
    "# 事ができるが、Pythonの記述ルールを理解していない場合は\n",
    "# わかりにくい\n",
    "for i in l1:\n",
    "    for j in l2:\n",
    "        print(i, j)\n",
    "        if i == 2 and j == 10 :\n",
    "            print('BREAK')\n",
    "            break\n",
    "    else:\n",
    "        continue\n",
    "    print('-----------')\n",
    "    break\n",
    "print('finish')"
   ]
  },
  {
   "cell_type": "markdown",
   "metadata": {},
   "source": [
    "###  関数"
   ]
  },
  {
   "cell_type": "code",
   "execution_count": 55,
   "metadata": {},
   "outputs": [],
   "source": [
    "# 引数なし\n",
    "def my_func_1():  # my_func_1が関数名\n",
    "    a = 2\n",
    "    b = 3\n",
    "    print(a + b)"
   ]
  },
  {
   "cell_type": "code",
   "execution_count": 56,
   "metadata": {},
   "outputs": [
    {
     "name": "stdout",
     "output_type": "stream",
     "text": [
      "5\n"
     ]
    }
   ],
   "source": [
    "my_func_1()  # 関数の呼び出し"
   ]
  },
  {
   "cell_type": "code",
   "execution_count": 58,
   "metadata": {},
   "outputs": [
    {
     "name": "stdout",
     "output_type": "stream",
     "text": [
      "5\n"
     ]
    }
   ],
   "source": [
    "# 引数あり\n",
    "def my_func_2(a , b):\n",
    "    print(a + b)\n",
    "    \n",
    "my_func_2(2 ,3)"
   ]
  },
  {
   "cell_type": "code",
   "execution_count": 61,
   "metadata": {},
   "outputs": [
    {
     "name": "stdout",
     "output_type": "stream",
     "text": [
      "5\n"
     ]
    }
   ],
   "source": [
    "# 戻り値あり\n",
    "def my_func_3(a , b):\n",
    "    return a + b\n",
    "    \n",
    "print(my_func_3(2 ,3))"
   ]
  },
  {
   "cell_type": "markdown",
   "metadata": {},
   "source": [
    "### クラス"
   ]
  },
  {
   "cell_type": "code",
   "execution_count": 1,
   "metadata": {},
   "outputs": [
    {
     "name": "stdout",
     "output_type": "stream",
     "text": [
      "5\n"
     ]
    }
   ],
   "source": [
    "# クラスの定義\n",
    "class Calc:\n",
    "    def __init__(self, a, b):\n",
    "        self.a = a\n",
    "        self.b = b\n",
    "    \n",
    "    def Sum(self):\n",
    "        self.sum = self.a + self.b\n",
    "        return self.sum\n",
    "\n",
    "    \n",
    "# インスタンス生成\n",
    "ins = Calc(2, 3)\n",
    "# メソッド呼び出し\n",
    "print(ins.Sum())"
   ]
  },
  {
   "cell_type": "code",
   "execution_count": null,
   "metadata": {},
   "outputs": [],
   "source": []
  }
 ],
 "metadata": {
  "kernelspec": {
   "display_name": "Python 3",
   "language": "python",
   "name": "python3"
  },
  "language_info": {
   "codemirror_mode": {
    "name": "ipython",
    "version": 3
   },
   "file_extension": ".py",
   "mimetype": "text/x-python",
   "name": "python",
   "nbconvert_exporter": "python",
   "pygments_lexer": "ipython3",
   "version": "3.7.1"
  }
 },
 "nbformat": 4,
 "nbformat_minor": 4
}
