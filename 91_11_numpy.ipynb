{
 "cells": [
  {
   "cell_type": "code",
   "execution_count": 3,
   "metadata": {},
   "outputs": [],
   "source": [
    "# NumPyのインポート\n",
    "import numpy as np"
   ]
  },
  {
   "cell_type": "markdown",
   "metadata": {},
   "source": [
    "### NumPy の配列"
   ]
  },
  {
   "cell_type": "code",
   "execution_count": 5,
   "metadata": {},
   "outputs": [
    {
     "name": "stdout",
     "output_type": "stream",
     "text": [
      "[1 2 3 4]\n"
     ]
    }
   ],
   "source": [
    "# PythonのリストからNumPyの配列を作る\n",
    "# １行４列\n",
    "a = np.array([1, 2, 3, 4])  \n",
    "print(a) "
   ]
  },
  {
   "cell_type": "code",
   "execution_count": 6,
   "metadata": {},
   "outputs": [
    {
     "name": "stdout",
     "output_type": "stream",
     "text": [
      "[[1 2 3]\n",
      " [4 5 6]]\n"
     ]
    }
   ],
   "source": [
    "# ２行３列の配列\n",
    "b = np.array([[1, 2, 3], [4, 5, 6]])\n",
    "print(b)"
   ]
  },
  {
   "cell_type": "code",
   "execution_count": 7,
   "metadata": {},
   "outputs": [
    {
     "name": "stdout",
     "output_type": "stream",
     "text": [
      "[[[ 1  2  3]\n",
      "  [ 4  5  6]]\n",
      "\n",
      " [[11 12 13]\n",
      "  [14 15 16]]]\n"
     ]
    }
   ],
   "source": [
    "# ３次元配列\n",
    "c = np.array([[[1, 2, 3], [4, 5, 6]] , [[11, 12, 13], [14, 15, 16]]])\n",
    "print(c)"
   ]
  },
  {
   "cell_type": "markdown",
   "metadata": {},
   "source": [
    "### 配列の初期設定"
   ]
  },
  {
   "cell_type": "code",
   "execution_count": 9,
   "metadata": {},
   "outputs": [
    {
     "name": "stdout",
     "output_type": "stream",
     "text": [
      "[-100.          -95.91836735  -91.83673469  -87.75510204  -83.67346939\n",
      "  -79.59183673  -75.51020408  -71.42857143  -67.34693878  -63.26530612\n",
      "  -59.18367347  -55.10204082  -51.02040816  -46.93877551  -42.85714286\n",
      "  -38.7755102   -34.69387755  -30.6122449   -26.53061224  -22.44897959\n",
      "  -18.36734694  -14.28571429  -10.20408163   -6.12244898   -2.04081633\n",
      "    2.04081633    6.12244898   10.20408163   14.28571429   18.36734694\n",
      "   22.44897959   26.53061224   30.6122449    34.69387755   38.7755102\n",
      "   42.85714286   46.93877551   51.02040816   55.10204082   59.18367347\n",
      "   63.26530612   67.34693878   71.42857143   75.51020408   79.59183673\n",
      "   83.67346939   87.75510204   91.83673469   95.91836735  100.        ]\n"
     ]
    }
   ],
   "source": [
    "# 開始値と終了値を指定して、50個の配列を作成する。\n",
    "d = np.linspace(-100, 100)\n",
    "print(d)"
   ]
  },
  {
   "cell_type": "code",
   "execution_count": 10,
   "metadata": {},
   "outputs": [
    {
     "name": "stdout",
     "output_type": "stream",
     "text": [
      "[-100.          -89.47368421  -78.94736842  -68.42105263  -57.89473684\n",
      "  -47.36842105  -36.84210526  -26.31578947  -15.78947368   -5.26315789\n",
      "    5.26315789   15.78947368   26.31578947   36.84210526   47.36842105\n",
      "   57.89473684   68.42105263   78.94736842   89.47368421  100.        ]\n"
     ]
    }
   ],
   "source": [
    "# 開始値と終了値を指定して、指定個数の配列を作成する。\n",
    "e = np.linspace(-100, 100 ,20)\n",
    "print(e)"
   ]
  },
  {
   "cell_type": "code",
   "execution_count": 24,
   "metadata": {},
   "outputs": [
    {
     "name": "stdout",
     "output_type": "stream",
     "text": [
      "[-100  -98  -96  -94  -92  -90  -88  -86  -84  -82  -80  -78  -76  -74\n",
      "  -72  -70  -68  -66  -64  -62  -60  -58  -56  -54  -52  -50  -48  -46\n",
      "  -44  -42  -40  -38  -36  -34  -32  -30  -28  -26  -24  -22  -20  -18\n",
      "  -16  -14  -12  -10   -8   -6   -4   -2    0    2    4    6    8   10\n",
      "   12   14   16   18   20   22   24   26   28   30   32   34   36   38\n",
      "   40   42   44   46   48   50   52   54   56   58   60   62   64   66\n",
      "   68   70   72   74   76   78   80   82   84   86   88   90   92   94\n",
      "   96   98  100]\n"
     ]
    }
   ],
   "source": [
    "# 開始値と終了値（+1を指定）と各項目の間隔を指定して、配列を作成する。\n",
    "f = np.arange(-100, 101 ,2)\n",
    "print(f)"
   ]
  },
  {
   "cell_type": "code",
   "execution_count": 14,
   "metadata": {},
   "outputs": [
    {
     "name": "stdout",
     "output_type": "stream",
     "text": [
      "[0. 0. 0. 0. 0. 0. 0. 0. 0. 0.]\n"
     ]
    }
   ],
   "source": [
    "# 指定した個数の配列を作成し、ゼロで初期化する\n",
    "g = np.zeros(10)\n",
    "print(g)"
   ]
  },
  {
   "cell_type": "code",
   "execution_count": 16,
   "metadata": {},
   "outputs": [
    {
     "name": "stdout",
     "output_type": "stream",
     "text": [
      "[1. 1. 1. 1. 1. 1. 1. 1. 1. 1.]\n"
     ]
    }
   ],
   "source": [
    "# 指定した個数の配列を作成し、1初期化する\n",
    "h = np.ones(10)\n",
    "print(h)"
   ]
  },
  {
   "cell_type": "code",
   "execution_count": 19,
   "metadata": {},
   "outputs": [
    {
     "name": "stdout",
     "output_type": "stream",
     "text": [
      "0.8172630201901663\n"
     ]
    }
   ],
   "source": [
    "# 0.0以上、1.0未満のランダムな数値　（スカラー）\n",
    "i = np.random.rand()\n",
    "print(i)"
   ]
  },
  {
   "cell_type": "code",
   "execution_count": 20,
   "metadata": {},
   "outputs": [
    {
     "name": "stdout",
     "output_type": "stream",
     "text": [
      "[0.14847158 0.90903334]\n"
     ]
    }
   ],
   "source": [
    "# 0.0以上、1.0未満のランダムな数値　（２列の行列）\n",
    "j = np.random.rand(2)\n",
    "print(j)"
   ]
  },
  {
   "cell_type": "code",
   "execution_count": 22,
   "metadata": {},
   "outputs": [
    {
     "name": "stdout",
     "output_type": "stream",
     "text": [
      "[[0.98351019 0.84347576 0.66428383 0.81074996]\n",
      " [0.78185959 0.78705815 0.08931375 0.61615395]\n",
      " [0.33083251 0.040239   0.38164392 0.77483195]]\n"
     ]
    }
   ],
   "source": [
    "# 0.0以上、1.0未満のランダムな数値　（３行４列の行列）\n",
    "k = np.random.rand(3 ,4)\n",
    "print(k)"
   ]
  },
  {
   "cell_type": "code",
   "execution_count": 23,
   "metadata": {
    "scrolled": true
   },
   "outputs": [
    {
     "name": "stdout",
     "output_type": "stream",
     "text": [
      "[[[0.0196836  0.33470059 0.28480757 0.61484681 0.85746324]\n",
      "  [0.82231922 0.25100477 0.37986726 0.79116899 0.65891561]\n",
      "  [0.21109227 0.48614631 0.51473355 0.47175201 0.01938493]\n",
      "  [0.00192873 0.49037009 0.15732254 0.19632605 0.26340596]]\n",
      "\n",
      " [[0.88105288 0.89934083 0.51811328 0.68498222 0.1976033 ]\n",
      "  [0.64500007 0.97430142 0.68405462 0.59717823 0.12957006]\n",
      "  [0.0494362  0.27185095 0.58559123 0.63224943 0.16741656]\n",
      "  [0.34125154 0.10192119 0.00733085 0.10668936 0.85630591]]\n",
      "\n",
      " [[0.04896227 0.83856048 0.29339543 0.10902629 0.09755183]\n",
      "  [0.29343095 0.11850884 0.54442258 0.60520501 0.93106636]\n",
      "  [0.02676297 0.32070771 0.76684864 0.82024545 0.74477185]\n",
      "  [0.73849586 0.11194481 0.42766944 0.91030371 0.60580073]]]\n"
     ]
    }
   ],
   "source": [
    "# 0.0以上、1.0未満のランダムな数値　（４行５列の行列を３個）\n",
    "l = np.random.rand(3, 4, 5)\n",
    "print(l)"
   ]
  },
  {
   "cell_type": "code",
   "execution_count": 27,
   "metadata": {},
   "outputs": [
    {
     "name": "stdout",
     "output_type": "stream",
     "text": [
      "[[2.63472076 4.07787201 3.54790753 4.447642  ]\n",
      " [4.40273957 3.26351203 4.75988755 3.06590816]\n",
      " [2.32251134 3.89825195 2.40916652 4.79037908]]\n"
     ]
    }
   ],
   "source": [
    "# 任意の範囲内（例として2.0以上、5.0未満）のランダムな数値　（３行４列の行列）\n",
    "m1 = 2      #この指定値以上\n",
    "m2 = 5      #この指定値未満\n",
    "m = (m2 - m1) * np.random.rand(3 ,4) + m1\n",
    "print(m)"
   ]
  },
  {
   "cell_type": "code",
   "execution_count": 28,
   "metadata": {},
   "outputs": [
    {
     "name": "stdout",
     "output_type": "stream",
     "text": [
      "[[-0.11536278 -0.5828888  -0.09426699 -0.6381312 ]\n",
      " [-1.01529701  0.81676432  1.24833763 -1.23424558]\n",
      " [ 0.02694082  0.71658151  1.20494195  0.02450348]]\n"
     ]
    }
   ],
   "source": [
    "# 平均が０、標準偏差が１となる、正規分布に従うランダムな数値　（３行４列の行列）\n",
    "n = np.random.randn(3 ,4)\n",
    "print(n)"
   ]
  },
  {
   "cell_type": "markdown",
   "metadata": {},
   "source": [
    "### 配列の演算"
   ]
  },
  {
   "cell_type": "code",
   "execution_count": 7,
   "metadata": {},
   "outputs": [
    {
     "ename": "NameError",
     "evalue": "name 'a' is not defined",
     "output_type": "error",
     "traceback": [
      "\u001b[1;31m---------------------------------------------------------------------------\u001b[0m",
      "\u001b[1;31mNameError\u001b[0m                                 Traceback (most recent call last)",
      "\u001b[1;32m<ipython-input-7-ab5850dc54e0>\u001b[0m in \u001b[0;36m<module>\u001b[1;34m\u001b[0m\n\u001b[0;32m      1\u001b[0m \u001b[1;31m# 配列に対して、スカラーでの四則計算\u001b[0m\u001b[1;33m\u001b[0m\u001b[1;33m\u001b[0m\u001b[1;33m\u001b[0m\u001b[0m\n\u001b[1;32m----> 2\u001b[1;33m \u001b[0mprint\u001b[0m\u001b[1;33m(\u001b[0m\u001b[1;34m'元の値：'\u001b[0m\u001b[1;33m,\u001b[0m\u001b[0ma\u001b[0m\u001b[1;33m)\u001b[0m\u001b[1;33m\u001b[0m\u001b[1;33m\u001b[0m\u001b[0m\n\u001b[0m\u001b[0;32m      3\u001b[0m \u001b[0mprint\u001b[0m\u001b[1;33m(\u001b[0m\u001b[1;34m'--------'\u001b[0m\u001b[1;33m)\u001b[0m\u001b[1;33m\u001b[0m\u001b[1;33m\u001b[0m\u001b[0m\n\u001b[0;32m      4\u001b[0m \u001b[0mprint\u001b[0m\u001b[1;33m(\u001b[0m\u001b[1;34m'足し算：'\u001b[0m\u001b[1;33m,\u001b[0m\u001b[0ma\u001b[0m \u001b[1;33m+\u001b[0m \u001b[1;36m3\u001b[0m\u001b[1;33m)\u001b[0m  \u001b[1;31m# 各要素に3を足す\u001b[0m\u001b[1;33m\u001b[0m\u001b[1;33m\u001b[0m\u001b[0m\n\u001b[0;32m      5\u001b[0m \u001b[0mprint\u001b[0m\u001b[1;33m(\u001b[0m\u001b[1;34m'--------'\u001b[0m\u001b[1;33m)\u001b[0m\u001b[1;33m\u001b[0m\u001b[1;33m\u001b[0m\u001b[0m\n",
      "\u001b[1;31mNameError\u001b[0m: name 'a' is not defined"
     ]
    }
   ],
   "source": [
    "# 配列に対して、スカラーでの四則計算\n",
    "print('元の値：',a) \n",
    "print('--------')\n",
    "print('足し算：',a + 3)  # 各要素に3を足す\n",
    "print('--------')\n",
    "print('掛け算：',a * 3)  # 各要素に3をかける"
   ]
  },
  {
   "cell_type": "code",
   "execution_count": 8,
   "metadata": {},
   "outputs": [
    {
     "name": "stdout",
     "output_type": "stream",
     "text": [
      "元の値： [[0 1 2]\n",
      " [3 4 5]]\n",
      "--------\n",
      "元の値： [[2 0 1]\n",
      " [5 3 4]]\n",
      "--------\n",
      "足し算： [[2 1 3]\n",
      " [8 7 9]]\n",
      "--------\n",
      "掛け算： [[ 0  0  2]\n",
      " [15 12 20]]\n"
     ]
    }
   ],
   "source": [
    "# 配列同士の四則計算\n",
    "b = np.array([[0, 1, 2], [3, 4, 5]])  # 2次元配列\n",
    "c = np.array([[2, 0, 1], [5, 3, 4]])  # 2次元配列\n",
    "\n",
    "print('元の値：',b)\n",
    "print('--------')\n",
    "print('元の値：',c)\n",
    "print('--------')\n",
    "print('足し算：',b + c)\n",
    "print('--------')\n",
    "print('掛け算：',b * c)"
   ]
  },
  {
   "cell_type": "code",
   "execution_count": 9,
   "metadata": {
    "scrolled": true
   },
   "outputs": [
    {
     "name": "stdout",
     "output_type": "stream",
     "text": [
      "元の値： [[ 3  5  7]\n",
      " [ 2  6 10]]\n",
      "--------\n",
      "合計　　　　　　　　： 33\n",
      "合計（axis=0は列毎）： [ 5 11 17]\n",
      "合計（axis=1は行毎）： [15 18]\n",
      "--------\n",
      "平均 average　　　　： 5.5\n",
      "平均 mean　　　　　 ： 5.5\n",
      "平均（axis=0は列毎）： [2.5 5.5 8.5]\n",
      "平均（axis=1は行毎）： [5. 6.]\n"
     ]
    }
   ],
   "source": [
    "b = np.array([[3, 5, 7], [2, 6, 10]])\n",
    "\n",
    "print('元の値：',b)\n",
    "print('--------')\n",
    "print('合計　　　　　　　　：',np.sum(b))\n",
    "print('合計（axis=0は列毎）：',np.sum(b ,axis=0))\n",
    "print('合計（axis=1は行毎）：',np.sum(b ,axis=1))\n",
    "print('--------')\n",
    "print('平均 average　　　　：',np.average(b))\n",
    "print('平均 mean　　　　　 ：',np.mean(b))\n",
    "print('平均（axis=0は列毎）：',np.mean(b ,axis=0))\n",
    "print('平均（axis=1は行毎）：',np.mean(b ,axis=1))"
   ]
  },
  {
   "cell_type": "code",
   "execution_count": 10,
   "metadata": {},
   "outputs": [
    {
     "name": "stdout",
     "output_type": "stream",
     "text": [
      "元の値： [[ 3  5  7]\n",
      " [ 2  6 10]]\n",
      "--------\n",
      "最大　　　　　　　　： 10\n",
      "最大値が格納された位置 5\n",
      "最大値が格納されたインデックス (1, 2)\n",
      "最大　　　　　　　　： 10\n",
      "--------\n",
      "最大（axis=0は列毎）： [ 3  6 10]\n",
      "最大値が格納された位置 [0 1 1]\n",
      "--------\n",
      "最大（axis=1は行毎）： [ 7 10]\n",
      "最大値が格納された位置 [2 2]\n",
      "--------\n",
      "最小　　　　　　　　： 2\n",
      "最小値が格納された位置 3\n",
      "最小値が格納されたインデックス (1, 0)\n",
      "最小　　　　　　　　： 2\n",
      "--------\n",
      "最小（axis=0は列毎）： [2 5 7]\n",
      "最小値が格納された位置 [1 0 0]\n",
      "--------\n",
      "最小（axis=1は行毎）： [3 2]\n",
      "最小値が格納された位置 [0 0]\n"
     ]
    }
   ],
   "source": [
    "print('元の値：',b)\n",
    "print('--------')\n",
    "print('最大　　　　　　　　：',np.max(b))\n",
    "print('最大値が格納された位置' ,np.argmax(b))\n",
    "idx=np.unravel_index(np.argmax(b), b.shape)\n",
    "print('最大値が格納されたインデックス' ,idx)\n",
    "print('最大　　　　　　　　：',b[idx])\n",
    "print('--------')\n",
    "print('最大（axis=0は列毎）：',np.max(b ,axis=0))\n",
    "print('最大値が格納された位置' ,np.argmax(b ,axis=0))\n",
    "print('--------')\n",
    "print('最大（axis=1は行毎）：',np.max(b ,axis=1))\n",
    "print('最大値が格納された位置' ,np.argmax(b ,axis=1))\n",
    "print('--------')\n",
    "print('最小　　　　　　　　：',np.min(b))\n",
    "print('最小値が格納された位置' ,np.argmin(b))\n",
    "idx=np.unravel_index(np.argmin(b), b.shape)\n",
    "print('最小値が格納されたインデックス' ,idx)\n",
    "print('最小　　　　　　　　：',b[idx])\n",
    "print('--------')\n",
    "print('最小（axis=0は列毎）：',np.min(b ,axis=0))\n",
    "print('最小値が格納された位置' ,np.argmin(b ,axis=0))\n",
    "print('--------')\n",
    "print('最小（axis=1は行毎）：',np.min(b ,axis=1))\n",
    "print('最小値が格納された位置' ,np.argmin(b ,axis=1))"
   ]
  },
  {
   "cell_type": "markdown",
   "metadata": {},
   "source": [
    "### 平方根"
   ]
  },
  {
   "cell_type": "code",
   "execution_count": 55,
   "metadata": {},
   "outputs": [
    {
     "name": "stdout",
     "output_type": "stream",
     "text": [
      "x= [0 1 2 3 4 5 6 7 8 9]\n",
      "y= [0.         1.         1.41421356 1.73205081 2.         2.23606798\n",
      " 2.44948974 2.64575131 2.82842712 3.        ]\n"
     ]
    },
    {
     "data": {
      "image/png": "[encoded data removed]",
      "text/plain": [
       "<Figure size 432x288 with 1 Axes>"
      ]
     },
     "metadata": {
      "needs_background": "light"
     },
     "output_type": "display_data"
    }
   ],
   "source": [
    "import matplotlib.pyplot as plt\n",
    "import japanize_matplotlib\n",
    "\n",
    "# 値表示\n",
    "x = np.arange(0 ,10 ,1)   #　x を0～9まで\n",
    "y = np.sqrt(x)            #  x に対する平方根\n",
    "print('x=', x)\n",
    "print('y=',y)\n",
    "\n",
    "# グラフ表示\n",
    "x = np.linspace(0 ,9)     #　x を0～9まで\n",
    "y = np.sqrt(x)            #  x に対する平方根\n",
    "plt.plot(x , y)           # グラフ表示\n",
    "plt.show()"
   ]
  },
  {
   "cell_type": "markdown",
   "metadata": {},
   "source": [
    "### 単位行列"
   ]
  },
  {
   "cell_type": "code",
   "execution_count": 4,
   "metadata": {},
   "outputs": [
    {
     "name": "stdout",
     "output_type": "stream",
     "text": [
      "[[1. 0.]\n",
      " [0. 1.]]\n"
     ]
    }
   ],
   "source": [
    "I = np.eye(2)\n",
    "print(I)"
   ]
  },
  {
   "cell_type": "code",
   "execution_count": 5,
   "metadata": {},
   "outputs": [
    {
     "name": "stdout",
     "output_type": "stream",
     "text": [
      "[[1. 0. 0.]\n",
      " [0. 1. 0.]\n",
      " [0. 0. 1.]]\n"
     ]
    }
   ],
   "source": [
    "I = np.eye(3)\n",
    "print(I)"
   ]
  },
  {
   "cell_type": "markdown",
   "metadata": {},
   "source": [
    "### 行列積"
   ]
  },
  {
   "cell_type": "code",
   "execution_count": 3,
   "metadata": {},
   "outputs": [
    {
     "name": "stdout",
     "output_type": "stream",
     "text": [
      "元の値： [1 2]\n",
      "元の値： [[3]\n",
      " [4]]\n",
      "行列積 [11]\n",
      "----------\n",
      "元の値： [[1 2]\n",
      " [3 4]]\n",
      "元の値： [[5]\n",
      " [6]]\n",
      "行列積 [[17]\n",
      " [39]]\n",
      "----------\n",
      "元の値： [1 2]\n",
      "元の値： [[3 4]\n",
      " [5 6]]\n",
      "元の値： [[3]\n",
      " [1]]\n",
      "行列積 [55]\n",
      "行列積 [55]\n"
     ]
    }
   ],
   "source": [
    "a = np.array([1, 2])\n",
    "b = np.array([[3], [4]])  \n",
    "print('元の値：',a)\n",
    "print('元の値：',b)\n",
    "print('行列積',np.dot(a ,b))\n",
    "print('----------')\n",
    "\n",
    "A = np.array([[1, 2],\n",
    "              [3, 4]])\n",
    "b = np.array([[5], [6]])  \n",
    "print('元の値：',A)\n",
    "print('元の値：',b)\n",
    "print('行列積',np.dot(A, b))\n",
    "print('----------')\n",
    "\n",
    "a = np.array([1, 2])\n",
    "B = np.array([[3, 4],\n",
    "              [5, 6]])\n",
    "c = np.array([[3], [1]])  \n",
    "print('元の値：',a)\n",
    "print('元の値：',B)\n",
    "print('元の値：',c)\n",
    "print('行列積', np.dot(a ,np.dot(B, c)))\n",
    "print('行列積', np.dot(np.dot(a ,B) ,c))"
   ]
  },
  {
   "cell_type": "markdown",
   "metadata": {},
   "source": [
    "### 転置"
   ]
  },
  {
   "cell_type": "code",
   "execution_count": 4,
   "metadata": {
    "scrolled": true
   },
   "outputs": [
    {
     "name": "stdout",
     "output_type": "stream",
     "text": [
      "宣言時 [[1 2 3]\n",
      " [4 5 6]]\n",
      "転置後 [[1 4]\n",
      " [2 5]\n",
      " [3 6]]\n",
      "-----------------\n",
      "転置後にもう一度転置 [[1 2 3]\n",
      " [4 5 6]]\n",
      "-----------------\n",
      "行列積の転置 [[ 58 139]\n",
      " [ 64 154]]\n",
      "転置後の行列積 [[ 58 139]\n",
      " [ 64 154]]\n",
      "-----------------\n"
     ]
    }
   ],
   "source": [
    "A = np.array([[1, 2, 3],\n",
    "              [4, 5, 6]])\n",
    "print('宣言時',A)\n",
    "print('転置後',A.T)\n",
    "print('-----------------')\n",
    "\n",
    "B=A.T\n",
    "print('転置後にもう一度転置',B.T)\n",
    "print('-----------------')\n",
    "\n",
    "B = np.array([[7, 8],\n",
    "              [9, 10],\n",
    "              [11,12]])\n",
    "C = np.dot(A ,B)\n",
    "print('行列積の転置',C.T)\n",
    "print('転置後の行列積',np.dot(B.T ,A.T))\n",
    "print('-----------------')"
   ]
  },
  {
   "cell_type": "markdown",
   "metadata": {},
   "source": [
    "### 逆行列"
   ]
  },
  {
   "cell_type": "code",
   "execution_count": 13,
   "metadata": {
    "scrolled": true
   },
   "outputs": [
    {
     "name": "stdout",
     "output_type": "stream",
     "text": [
      "[[ 2. -1.]\n",
      " [-1.  1.]]\n"
     ]
    }
   ],
   "source": [
    "A=np.array([[1,1],\n",
    "            [1,2]])\n",
    "# 逆行列を求める\n",
    "A_=np.linalg.inv(A)\n",
    "print(A_)"
   ]
  },
  {
   "cell_type": "code",
   "execution_count": 12,
   "metadata": {},
   "outputs": [
    {
     "name": "stdout",
     "output_type": "stream",
     "text": [
      "[[1. 0.]\n",
      " [0. 1.]]\n"
     ]
    }
   ],
   "source": [
    "# 行列Ａと、その逆行列との行列積\n",
    "print(np.dot(A,A_))"
   ]
  },
  {
   "cell_type": "markdown",
   "metadata": {},
   "source": [
    "### 行列式"
   ]
  },
  {
   "cell_type": "code",
   "execution_count": 3,
   "metadata": {},
   "outputs": [
    {
     "name": "stdout",
     "output_type": "stream",
     "text": [
      "-2.0000000000000004\n"
     ]
    }
   ],
   "source": [
    "A=np.array([[1,2],\n",
    "            [3,4]])\n",
    "print(np.linalg.det(A))"
   ]
  },
  {
   "cell_type": "code",
   "execution_count": 5,
   "metadata": {},
   "outputs": [
    {
     "name": "stdout",
     "output_type": "stream",
     "text": [
      "0.0\n"
     ]
    }
   ],
   "source": [
    "B=np.array([[1,2],\n",
    "            [0,0]])\n",
    "print(np.linalg.det(B))"
   ]
  },
  {
   "cell_type": "markdown",
   "metadata": {},
   "source": [
    "### ソートする"
   ]
  },
  {
   "cell_type": "code",
   "execution_count": 1,
   "metadata": {},
   "outputs": [],
   "source": [
    "b = [5, 3, 6, 1, 8, 10, 2]"
   ]
  },
  {
   "cell_type": "code",
   "execution_count": 4,
   "metadata": {},
   "outputs": [
    {
     "name": "stdout",
     "output_type": "stream",
     "text": [
      "[ 1  2  3  5  6  8 10]\n"
     ]
    }
   ],
   "source": [
    "print(np.sort(b))"
   ]
  },
  {
   "cell_type": "code",
   "execution_count": null,
   "metadata": {},
   "outputs": [],
   "source": []
  }
 ],
 "metadata": {
  "kernelspec": {
   "display_name": "Python 3",
   "language": "python",
   "name": "python3"
  },
  "language_info": {
   "codemirror_mode": {
    "name": "ipython",
    "version": 3
   },
   "file_extension": ".py",
   "mimetype": "text/x-python",
   "name": "python",
   "nbconvert_exporter": "python",
   "pygments_lexer": "ipython3",
   "version": "3.7.1"
  }
 },
 "nbformat": 4,
 "nbformat_minor": 4
}
