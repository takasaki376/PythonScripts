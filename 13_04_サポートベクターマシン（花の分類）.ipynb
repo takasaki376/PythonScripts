{
 "cells": [
  {
   "cell_type": "markdown",
   "metadata": {},
   "source": [
    "## ライブラリのインポート"
   ]
  },
  {
   "cell_type": "code",
   "execution_count": 1,
   "metadata": {},
   "outputs": [],
   "source": [
    "import numpy as np\n",
    "#サイキットラーン　（メモリの節約のため、sklearnの中からsvmのみをインポートする\n",
    "from sklearn import svm\n",
    "# アイリスの計測データ\n",
    "from sklearn.datasets import load_iris\n",
    "# 予測結果の精度表示\n",
    "from sklearn import metrics\n",
    "# 訓練データと検証データの分割\n",
    "from sklearn.model_selection import train_test_split\n",
    "# データを扱う\n",
    "import pandas as pd\n",
    "# グラフ描画\n",
    "from matplotlib import pyplot as plt\n",
    "import japanize_matplotlib"
   ]
  },
  {
   "cell_type": "markdown",
   "metadata": {},
   "source": [
    "## テスト用データの読み込み"
   ]
  },
  {
   "cell_type": "code",
   "execution_count": 2,
   "metadata": {},
   "outputs": [],
   "source": [
    "iris = load_iris()\n",
    "iris_data=iris.data\n",
    "iris_target=iris.target"
   ]
  },
  {
   "cell_type": "code",
   "execution_count": 3,
   "metadata": {},
   "outputs": [
    {
     "data": {
      "text/html": [
       "<div>\n",
       "<style scoped>\n",
       "    .dataframe tbody tr th:only-of-type {\n",
       "        vertical-align: middle;\n",
       "    }\n",
       "\n",
       "    .dataframe tbody tr th {\n",
       "        vertical-align: top;\n",
       "    }\n",
       "\n",
       "    .dataframe thead th {\n",
       "        text-align: right;\n",
       "    }\n",
       "</style>\n",
       "<table border=\"1\" class=\"dataframe\">\n",
       "  <thead>\n",
       "    <tr style=\"text-align: right;\">\n",
       "      <th></th>\n",
       "      <th>sepal length (cm)</th>\n",
       "      <th>sepal width (cm)</th>\n",
       "      <th>petal length (cm)</th>\n",
       "      <th>petal width (cm)</th>\n",
       "    </tr>\n",
       "  </thead>\n",
       "  <tbody>\n",
       "    <tr>\n",
       "      <th>0</th>\n",
       "      <td>5.1</td>\n",
       "      <td>3.5</td>\n",
       "      <td>1.4</td>\n",
       "      <td>0.2</td>\n",
       "    </tr>\n",
       "    <tr>\n",
       "      <th>1</th>\n",
       "      <td>4.9</td>\n",
       "      <td>3.0</td>\n",
       "      <td>1.4</td>\n",
       "      <td>0.2</td>\n",
       "    </tr>\n",
       "    <tr>\n",
       "      <th>2</th>\n",
       "      <td>4.7</td>\n",
       "      <td>3.2</td>\n",
       "      <td>1.3</td>\n",
       "      <td>0.2</td>\n",
       "    </tr>\n",
       "    <tr>\n",
       "      <th>3</th>\n",
       "      <td>4.6</td>\n",
       "      <td>3.1</td>\n",
       "      <td>1.5</td>\n",
       "      <td>0.2</td>\n",
       "    </tr>\n",
       "    <tr>\n",
       "      <th>4</th>\n",
       "      <td>5.0</td>\n",
       "      <td>3.6</td>\n",
       "      <td>1.4</td>\n",
       "      <td>0.2</td>\n",
       "    </tr>\n",
       "  </tbody>\n",
       "</table>\n",
       "</div>"
      ],
      "text/plain": [
       "   sepal length (cm)  sepal width (cm)  petal length (cm)  petal width (cm)\n",
       "0                5.1               3.5                1.4               0.2\n",
       "1                4.9               3.0                1.4               0.2\n",
       "2                4.7               3.2                1.3               0.2\n",
       "3                4.6               3.1                1.5               0.2\n",
       "4                5.0               3.6                1.4               0.2"
      ]
     },
     "execution_count": 3,
     "metadata": {},
     "output_type": "execute_result"
    }
   ],
   "source": [
    "# アイリスの計測データの各項目\n",
    "## sepal length (cm)\t\tがく片の長さ\n",
    "## sepal width (cm)\t\t\tがく片の幅\n",
    "## petal length (cm)\t\t花弁の長さ\n",
    "## petal length (cm)\t\t花弁の幅\n",
    "\n",
    "# アイリスの計測データを表形式で表示\n",
    "df_x=pd.DataFrame(iris.data ,columns=iris.feature_names)\n",
    "df_x.head()"
   ]
  },
  {
   "cell_type": "code",
   "execution_count": 4,
   "metadata": {},
   "outputs": [
    {
     "name": "stdout",
     "output_type": "stream",
     "text": [
      "['setosa' 'versicolor' 'virginica']\n"
     ]
    }
   ],
   "source": [
    "# 花の種類の名前\n",
    "print(iris.target_names)"
   ]
  },
  {
   "cell_type": "code",
   "execution_count": 5,
   "metadata": {},
   "outputs": [
    {
     "data": {
      "text/html": [
       "<div>\n",
       "<style scoped>\n",
       "    .dataframe tbody tr th:only-of-type {\n",
       "        vertical-align: middle;\n",
       "    }\n",
       "\n",
       "    .dataframe tbody tr th {\n",
       "        vertical-align: top;\n",
       "    }\n",
       "\n",
       "    .dataframe thead th {\n",
       "        text-align: right;\n",
       "    }\n",
       "</style>\n",
       "<table border=\"1\" class=\"dataframe\">\n",
       "  <thead>\n",
       "    <tr style=\"text-align: right;\">\n",
       "      <th></th>\n",
       "      <th>target</th>\n",
       "    </tr>\n",
       "  </thead>\n",
       "  <tbody>\n",
       "    <tr>\n",
       "      <th>0</th>\n",
       "      <td>0</td>\n",
       "    </tr>\n",
       "    <tr>\n",
       "      <th>1</th>\n",
       "      <td>0</td>\n",
       "    </tr>\n",
       "    <tr>\n",
       "      <th>2</th>\n",
       "      <td>0</td>\n",
       "    </tr>\n",
       "    <tr>\n",
       "      <th>3</th>\n",
       "      <td>0</td>\n",
       "    </tr>\n",
       "    <tr>\n",
       "      <th>4</th>\n",
       "      <td>0</td>\n",
       "    </tr>\n",
       "    <tr>\n",
       "      <th>5</th>\n",
       "      <td>0</td>\n",
       "    </tr>\n",
       "    <tr>\n",
       "      <th>6</th>\n",
       "      <td>0</td>\n",
       "    </tr>\n",
       "    <tr>\n",
       "      <th>7</th>\n",
       "      <td>0</td>\n",
       "    </tr>\n",
       "    <tr>\n",
       "      <th>8</th>\n",
       "      <td>0</td>\n",
       "    </tr>\n",
       "    <tr>\n",
       "      <th>9</th>\n",
       "      <td>0</td>\n",
       "    </tr>\n",
       "    <tr>\n",
       "      <th>10</th>\n",
       "      <td>0</td>\n",
       "    </tr>\n",
       "  </tbody>\n",
       "</table>\n",
       "</div>"
      ],
      "text/plain": [
       "    target\n",
       "0        0\n",
       "1        0\n",
       "2        0\n",
       "3        0\n",
       "4        0\n",
       "5        0\n",
       "6        0\n",
       "7        0\n",
       "8        0\n",
       "9        0\n",
       "10       0"
      ]
     },
     "execution_count": 5,
     "metadata": {},
     "output_type": "execute_result"
    }
   ],
   "source": [
    "# アイリスの計測データを分類結果で表示 (targetに分析結果が格納されている)\n",
    "df_y=pd.DataFrame(iris.target ,columns=['target'])\n",
    "# 0～49 までの50個の分類結果が\"0\" Setosa\n",
    "df_y[0:11]"
   ]
  },
  {
   "cell_type": "code",
   "execution_count": 6,
   "metadata": {},
   "outputs": [
    {
     "data": {
      "text/html": [
       "<div>\n",
       "<style scoped>\n",
       "    .dataframe tbody tr th:only-of-type {\n",
       "        vertical-align: middle;\n",
       "    }\n",
       "\n",
       "    .dataframe tbody tr th {\n",
       "        vertical-align: top;\n",
       "    }\n",
       "\n",
       "    .dataframe thead th {\n",
       "        text-align: right;\n",
       "    }\n",
       "</style>\n",
       "<table border=\"1\" class=\"dataframe\">\n",
       "  <thead>\n",
       "    <tr style=\"text-align: right;\">\n",
       "      <th></th>\n",
       "      <th>target</th>\n",
       "    </tr>\n",
       "  </thead>\n",
       "  <tbody>\n",
       "    <tr>\n",
       "      <th>45</th>\n",
       "      <td>0</td>\n",
       "    </tr>\n",
       "    <tr>\n",
       "      <th>46</th>\n",
       "      <td>0</td>\n",
       "    </tr>\n",
       "    <tr>\n",
       "      <th>47</th>\n",
       "      <td>0</td>\n",
       "    </tr>\n",
       "    <tr>\n",
       "      <th>48</th>\n",
       "      <td>0</td>\n",
       "    </tr>\n",
       "    <tr>\n",
       "      <th>49</th>\n",
       "      <td>0</td>\n",
       "    </tr>\n",
       "    <tr>\n",
       "      <th>50</th>\n",
       "      <td>1</td>\n",
       "    </tr>\n",
       "    <tr>\n",
       "      <th>51</th>\n",
       "      <td>1</td>\n",
       "    </tr>\n",
       "    <tr>\n",
       "      <th>52</th>\n",
       "      <td>1</td>\n",
       "    </tr>\n",
       "    <tr>\n",
       "      <th>53</th>\n",
       "      <td>1</td>\n",
       "    </tr>\n",
       "    <tr>\n",
       "      <th>54</th>\n",
       "      <td>1</td>\n",
       "    </tr>\n",
       "    <tr>\n",
       "      <th>55</th>\n",
       "      <td>1</td>\n",
       "    </tr>\n",
       "    <tr>\n",
       "      <th>56</th>\n",
       "      <td>1</td>\n",
       "    </tr>\n",
       "    <tr>\n",
       "      <th>57</th>\n",
       "      <td>1</td>\n",
       "    </tr>\n",
       "    <tr>\n",
       "      <th>58</th>\n",
       "      <td>1</td>\n",
       "    </tr>\n",
       "    <tr>\n",
       "      <th>59</th>\n",
       "      <td>1</td>\n",
       "    </tr>\n",
       "    <tr>\n",
       "      <th>60</th>\n",
       "      <td>1</td>\n",
       "    </tr>\n",
       "  </tbody>\n",
       "</table>\n",
       "</div>"
      ],
      "text/plain": [
       "    target\n",
       "45       0\n",
       "46       0\n",
       "47       0\n",
       "48       0\n",
       "49       0\n",
       "50       1\n",
       "51       1\n",
       "52       1\n",
       "53       1\n",
       "54       1\n",
       "55       1\n",
       "56       1\n",
       "57       1\n",
       "58       1\n",
       "59       1\n",
       "60       1"
      ]
     },
     "execution_count": 6,
     "metadata": {},
     "output_type": "execute_result"
    }
   ],
   "source": [
    "# 50～99 までの50個の分類結果が\"1\" Versicolor\n",
    "df_y[45:61]"
   ]
  },
  {
   "cell_type": "code",
   "execution_count": 7,
   "metadata": {},
   "outputs": [
    {
     "data": {
      "text/html": [
       "<div>\n",
       "<style scoped>\n",
       "    .dataframe tbody tr th:only-of-type {\n",
       "        vertical-align: middle;\n",
       "    }\n",
       "\n",
       "    .dataframe tbody tr th {\n",
       "        vertical-align: top;\n",
       "    }\n",
       "\n",
       "    .dataframe thead th {\n",
       "        text-align: right;\n",
       "    }\n",
       "</style>\n",
       "<table border=\"1\" class=\"dataframe\">\n",
       "  <thead>\n",
       "    <tr style=\"text-align: right;\">\n",
       "      <th></th>\n",
       "      <th>target</th>\n",
       "    </tr>\n",
       "  </thead>\n",
       "  <tbody>\n",
       "    <tr>\n",
       "      <th>95</th>\n",
       "      <td>1</td>\n",
       "    </tr>\n",
       "    <tr>\n",
       "      <th>96</th>\n",
       "      <td>1</td>\n",
       "    </tr>\n",
       "    <tr>\n",
       "      <th>97</th>\n",
       "      <td>1</td>\n",
       "    </tr>\n",
       "    <tr>\n",
       "      <th>98</th>\n",
       "      <td>1</td>\n",
       "    </tr>\n",
       "    <tr>\n",
       "      <th>99</th>\n",
       "      <td>1</td>\n",
       "    </tr>\n",
       "    <tr>\n",
       "      <th>100</th>\n",
       "      <td>2</td>\n",
       "    </tr>\n",
       "    <tr>\n",
       "      <th>101</th>\n",
       "      <td>2</td>\n",
       "    </tr>\n",
       "    <tr>\n",
       "      <th>102</th>\n",
       "      <td>2</td>\n",
       "    </tr>\n",
       "    <tr>\n",
       "      <th>103</th>\n",
       "      <td>2</td>\n",
       "    </tr>\n",
       "    <tr>\n",
       "      <th>104</th>\n",
       "      <td>2</td>\n",
       "    </tr>\n",
       "    <tr>\n",
       "      <th>105</th>\n",
       "      <td>2</td>\n",
       "    </tr>\n",
       "    <tr>\n",
       "      <th>106</th>\n",
       "      <td>2</td>\n",
       "    </tr>\n",
       "    <tr>\n",
       "      <th>107</th>\n",
       "      <td>2</td>\n",
       "    </tr>\n",
       "    <tr>\n",
       "      <th>108</th>\n",
       "      <td>2</td>\n",
       "    </tr>\n",
       "    <tr>\n",
       "      <th>109</th>\n",
       "      <td>2</td>\n",
       "    </tr>\n",
       "    <tr>\n",
       "      <th>110</th>\n",
       "      <td>2</td>\n",
       "    </tr>\n",
       "  </tbody>\n",
       "</table>\n",
       "</div>"
      ],
      "text/plain": [
       "     target\n",
       "95        1\n",
       "96        1\n",
       "97        1\n",
       "98        1\n",
       "99        1\n",
       "100       2\n",
       "101       2\n",
       "102       2\n",
       "103       2\n",
       "104       2\n",
       "105       2\n",
       "106       2\n",
       "107       2\n",
       "108       2\n",
       "109       2\n",
       "110       2"
      ]
     },
     "execution_count": 7,
     "metadata": {},
     "output_type": "execute_result"
    }
   ],
   "source": [
    "# 100～149 までの50個の分類結果が\"2\" Versinica\n",
    "df_y[95:111]"
   ]
  },
  {
   "cell_type": "code",
   "execution_count": 8,
   "metadata": {},
   "outputs": [
    {
     "data": {
      "image/png": "[encoded data removed]",
      "text/plain": [
       "<Figure size 432x288 with 1 Axes>"
      ]
     },
     "metadata": {
      "needs_background": "light"
     },
     "output_type": "display_data"
    },
    {
     "data": {
      "image/png": "[encoded data removed]",
      "text/plain": [
       "<Figure size 432x288 with 1 Axes>"
      ]
     },
     "metadata": {
      "needs_background": "light"
     },
     "output_type": "display_data"
    }
   ],
   "source": [
    "# 散布図で表示\n",
    "st_data = iris_data[:50]      # Setosa\n",
    "vc_data = iris_data[50:100]   # Versicolor\n",
    "vn_data = iris_data[100:150]  # Versinica\n",
    "\n",
    "plt.scatter(st_data[:, 0], st_data[:, 1], label=\"Setosa\")      # Sepal lengthとSepal width\n",
    "plt.scatter(vc_data[:, 0], vc_data[:, 1], label=\"Versicolor\")  # Sepal lengthとSepal width\n",
    "plt.scatter(vn_data[:, 0], vn_data[:, 1], label=\"Versinica\")  # Sepal lengthとSepal width\n",
    "plt.legend()\n",
    "plt.title('ガクの長さと幅での分布')\n",
    "plt.xlabel(\"Sepal length (cm)\")    # ガクの長さ\n",
    "plt.ylabel(\"Sepal width (cm)\")     # ガクの幅\n",
    "plt.show()\n",
    "\n",
    "plt.scatter(st_data[:, 2], st_data[:, 3], label=\"Setosa\")      # Petal lengthとPetal width\n",
    "plt.scatter(vc_data[:, 2], vc_data[:, 3], label=\"Versicolor\")  # Petal lengthとPetal width\n",
    "plt.scatter(vn_data[:, 2], vn_data[:, 3], label=\"Versinica\")   # Petal lengthとPetal width\n",
    "plt.legend()\n",
    "plt.title('花弁の長さと幅での分布')\n",
    "plt.xlabel(\"Petal length (cm)\")   # 花弁の長さ\n",
    "plt.ylabel(\"Petal width (cm)\")    # 花弁の幅\n",
    "plt.show()"
   ]
  },
  {
   "cell_type": "markdown",
   "metadata": {},
   "source": [
    "## 特微量のペアプロット（データ可視化）"
   ]
  },
  {
   "cell_type": "code",
   "execution_count": 9,
   "metadata": {},
   "outputs": [
    {
     "ename": "ModuleNotFoundError",
     "evalue": "No module named 'mglearn'",
     "output_type": "error",
     "traceback": [
      "\u001b[1;31m---------------------------------------------------------------------------\u001b[0m",
      "\u001b[1;31mModuleNotFoundError\u001b[0m                       Traceback (most recent call last)",
      "\u001b[1;32m<ipython-input-9-9939f1a77110>\u001b[0m in \u001b[0;36m<module>\u001b[1;34m\u001b[0m\n\u001b[0;32m      1\u001b[0m \u001b[1;31m# DataFrameからscatter_matrixを作成\u001b[0m\u001b[1;33m\u001b[0m\u001b[1;33m\u001b[0m\u001b[1;33m\u001b[0m\u001b[0m\n\u001b[0;32m      2\u001b[0m \u001b[1;32mfrom\u001b[0m \u001b[0mpandas\u001b[0m\u001b[1;33m.\u001b[0m\u001b[0mplotting\u001b[0m \u001b[1;32mimport\u001b[0m \u001b[0mscatter_matrix\u001b[0m\u001b[1;33m\u001b[0m\u001b[1;33m\u001b[0m\u001b[0m\n\u001b[1;32m----> 3\u001b[1;33m \u001b[1;32mimport\u001b[0m \u001b[0mmglearn\u001b[0m\u001b[1;33m\u001b[0m\u001b[1;33m\u001b[0m\u001b[0m\n\u001b[0m\u001b[0;32m      4\u001b[0m \u001b[0mgrr\u001b[0m \u001b[1;33m=\u001b[0m \u001b[0mscatter_matrix\u001b[0m\u001b[1;33m(\u001b[0m\u001b[0mdf_x\u001b[0m\u001b[1;33m,\u001b[0m \u001b[0mc\u001b[0m\u001b[1;33m=\u001b[0m\u001b[0miris\u001b[0m\u001b[1;33m.\u001b[0m\u001b[0mtarget\u001b[0m\u001b[1;33m,\u001b[0m \u001b[0mfigsize\u001b[0m\u001b[1;33m=\u001b[0m\u001b[1;33m(\u001b[0m\u001b[1;36m15\u001b[0m\u001b[1;33m,\u001b[0m \u001b[1;36m15\u001b[0m\u001b[1;33m)\u001b[0m\u001b[1;33m,\u001b[0m \u001b[0mmarker\u001b[0m\u001b[1;33m=\u001b[0m\u001b[1;34m'o'\u001b[0m\u001b[1;33m,\u001b[0m \u001b[0mhist_kwds\u001b[0m\u001b[1;33m=\u001b[0m\u001b[1;33m{\u001b[0m\u001b[1;34m'bins'\u001b[0m\u001b[1;33m:\u001b[0m \u001b[1;36m20\u001b[0m\u001b[1;33m}\u001b[0m\u001b[1;33m,\u001b[0m \u001b[0ms\u001b[0m\u001b[1;33m=\u001b[0m\u001b[1;36m60\u001b[0m\u001b[1;33m,\u001b[0m \u001b[0malpha\u001b[0m\u001b[1;33m=\u001b[0m\u001b[1;36m.8\u001b[0m\u001b[1;33m,\u001b[0m \u001b[0mcmap\u001b[0m\u001b[1;33m=\u001b[0m\u001b[0mmglearn\u001b[0m\u001b[1;33m.\u001b[0m\u001b[0mcm3\u001b[0m\u001b[1;33m)\u001b[0m\u001b[1;33m\u001b[0m\u001b[1;33m\u001b[0m\u001b[0m\n\u001b[0;32m      5\u001b[0m \u001b[0mplt\u001b[0m\u001b[1;33m.\u001b[0m\u001b[0mshow\u001b[0m\u001b[1;33m(\u001b[0m\u001b[1;33m)\u001b[0m\u001b[1;33m\u001b[0m\u001b[1;33m\u001b[0m\u001b[0m\n",
      "\u001b[1;31mModuleNotFoundError\u001b[0m: No module named 'mglearn'"
     ]
    }
   ],
   "source": [
    "# DataFrameからscatter_matrixを作成\n",
    "from pandas.plotting import scatter_matrix\n",
    "import mglearn\n",
    "grr = scatter_matrix(df_x, c=iris.target, figsize=(15, 15), marker='o', hist_kwds={'bins': 20}, s=60, alpha=.8, cmap=mglearn.cm3)\n",
    "plt.show()"
   ]
  },
  {
   "cell_type": "markdown",
   "metadata": {},
   "source": [
    "## 訓練データと検証データに分割する"
   ]
  },
  {
   "cell_type": "code",
   "execution_count": 12,
   "metadata": {},
   "outputs": [],
   "source": [
    "# 訓練データと検証データの分割\n",
    "# random_stateは再現性を確保するために指定する\n",
    "X_train,X_test,y_train,y_test=train_test_split(iris_data, iris_target, test_size=0.4, random_state=1) "
   ]
  },
  {
   "cell_type": "markdown",
   "metadata": {},
   "source": [
    "## 学習する"
   ]
  },
  {
   "cell_type": "code",
   "execution_count": 13,
   "metadata": {},
   "outputs": [
    {
     "data": {
      "text/plain": [
       "SVC()"
      ]
     },
     "execution_count": 13,
     "metadata": {},
     "output_type": "execute_result"
    }
   ],
   "source": [
    "# サポートベクターマシーン\n",
    "clf = svm.SVC()  \n",
    "# 訓練\n",
    "clf.fit(X_train, y_train)  "
   ]
  },
  {
   "cell_type": "markdown",
   "metadata": {},
   "source": [
    "## 予測する"
   ]
  },
  {
   "cell_type": "code",
   "execution_count": 14,
   "metadata": {},
   "outputs": [
    {
     "name": "stdout",
     "output_type": "stream",
     "text": [
      "[0 1 2]\n"
     ]
    }
   ],
   "source": [
    "# 品種の判定 (Sepal length, Sepal width, Petal length, Petal width)\n",
    "#  ３種類の値を渡す　：Setosaの想定、Versicolourの想定、Virginicaの想定\n",
    "print(clf.predict([[5.1, 3.5, 1.4, 0.1], [6.5, 2.5, 4.4, 1.4], [5.9, 3.0, 6.2, 2.0]]))"
   ]
  },
  {
   "cell_type": "markdown",
   "metadata": {},
   "source": [
    "## 予測値と正解の比較"
   ]
  },
  {
   "cell_type": "code",
   "execution_count": 15,
   "metadata": {},
   "outputs": [
    {
     "name": "stdout",
     "output_type": "stream",
     "text": [
      "              precision    recall  f1-score   support\n",
      "\n",
      "           0       1.00      1.00      1.00        19\n",
      "           1       1.00      0.95      0.98        21\n",
      "           2       0.95      1.00      0.98        20\n",
      "\n",
      "    accuracy                           0.98        60\n",
      "   macro avg       0.98      0.98      0.98        60\n",
      "weighted avg       0.98      0.98      0.98        60\n",
      "\n",
      "-----\n",
      "[[19  0  0]\n",
      " [ 0 20  1]\n",
      " [ 0  0 20]]\n"
     ]
    }
   ],
   "source": [
    "y_hat = clf.predict(X_test)  # テストデータで予測\n",
    "print(metrics.classification_report(y_test, y_hat))  # 正解率など\n",
    "print('-----')\n",
    "print(metrics.confusion_matrix(y_test, y_hat))  # 行:正解、列:予測"
   ]
  },
  {
   "cell_type": "markdown",
   "metadata": {},
   "source": [
    "## 検証データを使って予測値の検証"
   ]
  },
  {
   "cell_type": "code",
   "execution_count": 16,
   "metadata": {},
   "outputs": [
    {
     "data": {
      "text/plain": [
       "0.9666666666666667"
      ]
     },
     "execution_count": 16,
     "metadata": {},
     "output_type": "execute_result"
    }
   ],
   "source": [
    "# 検証 <-訓練データ \n",
    "clf.score(X_train ,y_train)"
   ]
  },
  {
   "cell_type": "code",
   "execution_count": 17,
   "metadata": {},
   "outputs": [
    {
     "data": {
      "text/plain": [
       "0.9833333333333333"
      ]
     },
     "execution_count": 17,
     "metadata": {},
     "output_type": "execute_result"
    }
   ],
   "source": [
    "# 検証 <-検証データ\n",
    "# (検証データと値が近いなら信用できる。\n",
    "#  どこまでの差異を近いとするかはそれぞれ\n",
    "#  判断する必要がある。)\n",
    "clf.score(X_test,y_test)"
   ]
  },
  {
   "cell_type": "markdown",
   "metadata": {},
   "source": [
    "## 予測値の散布図描画"
   ]
  },
  {
   "cell_type": "code",
   "execution_count": 18,
   "metadata": {},
   "outputs": [
    {
     "data": {
      "image/png": "[encoded data removed]",
      "text/plain": [
       "<Figure size 432x288 with 1 Axes>"
      ]
     },
     "metadata": {
      "needs_background": "light"
     },
     "output_type": "display_data"
    },
    {
     "data": {
      "image/png": "[encoded data removed]",
      "text/plain": [
       "<Figure size 432x288 with 1 Axes>"
      ]
     },
     "metadata": {
      "needs_background": "light"
     },
     "output_type": "display_data"
    }
   ],
   "source": [
    "#予測結果を格納\n",
    "st_predict_sepal = [[],[]]  # Setosa\n",
    "st_predict_petal = [[],[]]  # Setosa\n",
    "vc_predict_sepal = [[],[]]   # Versicolor\n",
    "vc_predict_petal = [[],[]]   # Versicolor\n",
    "vn_predict_sepal = [[],[]]   # Versinica\n",
    "vn_predict_petal = [[],[]]   # Versinica\n",
    "i = 0\n",
    "# 予測値に対してデータを分割\n",
    "for _y_hat in y_hat:\n",
    "    if _y_hat == 0:\n",
    "        st_predict_sepal[0].append(X_test[i][0])\n",
    "        st_predict_sepal[1].append(X_test[i][1])\n",
    "        st_predict_petal[0].append(X_test[i][2])\n",
    "        st_predict_petal[1].append(X_test[i][3])\n",
    "    elif _y_hat == 1:\n",
    "        vc_predict_sepal[0].append(X_test[i][0])\n",
    "        vc_predict_sepal[1].append(X_test[i][1])\n",
    "        vc_predict_petal[0].append(X_test[i][2])\n",
    "        vc_predict_petal[1].append(X_test[i][3])\n",
    "    elif _y_hat == 2:\n",
    "        vn_predict_sepal[0].append(X_test[i][0])\n",
    "        vn_predict_sepal[1].append(X_test[i][1])\n",
    "        vn_predict_petal[0].append(X_test[i][2])\n",
    "        vn_predict_petal[1].append(X_test[i][3])\n",
    "    i += 1\n",
    "\n",
    "plt.scatter(st_predict_sepal[0], st_predict_sepal[1], label=\"Setosa\")      # Sepal lengthとSepal width\n",
    "plt.scatter(vc_predict_sepal[0], vc_predict_sepal[1], label=\"Versicolor\")  # Sepal lengthとSepal width\n",
    "plt.scatter(vn_predict_sepal[0], vn_predict_sepal[1], label=\"Versinica\")  # Sepal lengthとSepal width\n",
    "plt.legend()\n",
    "plt.title('ガクの長さと幅での分布(検証データ）')\n",
    "plt.xlabel(\"Sepal length (cm)\")    # ガクの長さ\n",
    "plt.ylabel(\"Sepal width (cm)\")     # ガクの幅\n",
    "plt.show()\n",
    "\n",
    "plt.scatter(st_predict_petal[0], st_predict_petal[1], label=\"Setosa\")      # Petal lengthとPetal width\n",
    "plt.scatter(vc_predict_petal[0], vc_predict_petal[1], label=\"Versicolor\")  # Petal lengthとPetal width\n",
    "plt.scatter(vn_predict_petal[0], vn_predict_petal[1], label=\"Versinica\")   # Petal lengthとPetal width\n",
    "plt.legend()\n",
    "plt.title('花弁の長さと幅での分布(検証データ)')\n",
    "plt.xlabel(\"Petal length (cm)\")   # 花弁の長さ\n",
    "plt.ylabel(\"Petal width (cm)\")    # 花弁の幅\n",
    "plt.show()"
   ]
  },
  {
   "cell_type": "code",
   "execution_count": 19,
   "metadata": {},
   "outputs": [
    {
     "data": {
      "image/png": "[encoded data removed]",
      "text/plain": [
       "<Figure size 432x288 with 1 Axes>"
      ]
     },
     "metadata": {
      "needs_background": "light"
     },
     "output_type": "display_data"
    },
    {
     "data": {
      "image/png": "[encoded data removed]",
      "text/plain": [
       "<Figure size 432x288 with 1 Axes>"
      ]
     },
     "metadata": {
      "needs_background": "light"
     },
     "output_type": "display_data"
    }
   ],
   "source": [
    "y_hat2 = clf.predict(iris_data)  # テストデータ全件で予測\n",
    "\n",
    "#予測結果を格納\n",
    "st_predict_sepal = [[],[]]  # Setosa\n",
    "st_predict_petal = [[],[]]  # Setosa\n",
    "vc_predict_sepal = [[],[]]   # Versicolor\n",
    "vc_predict_petal = [[],[]]   # Versicolor\n",
    "vn_predict_sepal = [[],[]]   # Versinica\n",
    "vn_predict_petal = [[],[]]   # Versinica\n",
    "i = 0\n",
    "# 予測値に対してデータを分割\n",
    "for _y_hat in y_hat2:\n",
    "    if _y_hat == 0:\n",
    "        st_predict_sepal[0].append(iris_data[i][0])\n",
    "        st_predict_sepal[1].append(iris_data[i][1])\n",
    "        st_predict_petal[0].append(iris_data[i][2])\n",
    "        st_predict_petal[1].append(iris_data[i][3])\n",
    "    elif _y_hat == 1:\n",
    "        vc_predict_sepal[0].append(iris_data[i][0])\n",
    "        vc_predict_sepal[1].append(iris_data[i][1])\n",
    "        vc_predict_petal[0].append(iris_data[i][2])\n",
    "        vc_predict_petal[1].append(iris_data[i][3])\n",
    "    elif _y_hat == 2:\n",
    "        vn_predict_sepal[0].append(iris_data[i][0])\n",
    "        vn_predict_sepal[1].append(iris_data[i][1])\n",
    "        vn_predict_petal[0].append(iris_data[i][2])\n",
    "        vn_predict_petal[1].append(iris_data[i][3])\n",
    "    i += 1\n",
    "\n",
    "plt.scatter(st_predict_sepal[0], st_predict_sepal[1], label=\"Setosa\")      # Sepal lengthとSepal width\n",
    "plt.scatter(vc_predict_sepal[0], vc_predict_sepal[1], label=\"Versicolor\")  # Sepal lengthとSepal width\n",
    "plt.scatter(vn_predict_sepal[0], vn_predict_sepal[1], label=\"Versinica\")  # Sepal lengthとSepal width\n",
    "plt.legend()\n",
    "plt.title('ガクの長さと幅での分布(全データ）')\n",
    "plt.xlabel(\"Sepal length (cm)\")    # ガクの長さ\n",
    "plt.ylabel(\"Sepal width (cm)\")     # ガクの幅\n",
    "plt.show()\n",
    "\n",
    "plt.scatter(st_predict_petal[0], st_predict_petal[1], label=\"Setosa\")      # Petal lengthとPetal width\n",
    "plt.scatter(vc_predict_petal[0], vc_predict_petal[1], label=\"Versicolor\")  # Petal lengthとPetal width\n",
    "plt.scatter(vn_predict_petal[0], vn_predict_petal[1], label=\"Versinica\")   # Petal lengthとPetal width\n",
    "plt.legend()\n",
    "plt.title('花弁の長さと幅での分布(全データ)')\n",
    "plt.xlabel(\"Petal length (cm)\")   # 花弁の長さ\n",
    "plt.ylabel(\"Petal width (cm)\")    # 花弁の幅\n",
    "plt.show()"
   ]
  },
  {
   "cell_type": "markdown",
   "metadata": {},
   "source": [
    "## 予測する"
   ]
  },
  {
   "cell_type": "code",
   "execution_count": 20,
   "metadata": {},
   "outputs": [],
   "source": [
    "def print_predict(_x , _y):\n",
    "    print('入力データ',_x)\n",
    "    y_predict = clf.predict(_x)\n",
    "    print('予測値',y_predict)\n",
    "    print('正解',_y)"
   ]
  },
  {
   "cell_type": "code",
   "execution_count": 21,
   "metadata": {},
   "outputs": [
    {
     "name": "stdout",
     "output_type": "stream",
     "text": [
      "入力データ [[5.1 3.5 1.4 0.2]]\n",
      "予測値 [0]\n",
      "正解 [0]\n"
     ]
    }
   ],
   "source": [
    "# 全データの１件目　　：　Setosa\n",
    "print_predict(iris_data[0:1] , iris_target[0:1])"
   ]
  },
  {
   "cell_type": "code",
   "execution_count": 22,
   "metadata": {},
   "outputs": [
    {
     "name": "stdout",
     "output_type": "stream",
     "text": [
      "入力データ [[6.4 3.2 4.5 1.5]]\n",
      "予測値 [1]\n",
      "正解 [1]\n"
     ]
    }
   ],
   "source": [
    "# 全データの５１件目：　Versicolor\n",
    "print_predict(iris_data[51:52] , iris_target[51:52])"
   ]
  },
  {
   "cell_type": "code",
   "execution_count": 23,
   "metadata": {},
   "outputs": [
    {
     "name": "stdout",
     "output_type": "stream",
     "text": [
      "入力データ [[5.8 2.7 5.1 1.9]]\n",
      "予測値 [2]\n",
      "正解 [2]\n"
     ]
    }
   ],
   "source": [
    "# 全データの１０１件目　　：　Versinica\n",
    "print_predict(iris_data[101:102] , iris_target[101:102])"
   ]
  },
  {
   "cell_type": "code",
   "execution_count": null,
   "metadata": {},
   "outputs": [],
   "source": []
  },
  {
   "cell_type": "code",
   "execution_count": 40,
   "metadata": {},
   "outputs": [
    {
     "data": {
      "text/html": [
       "<div>\n",
       "<style scoped>\n",
       "    .dataframe tbody tr th:only-of-type {\n",
       "        vertical-align: middle;\n",
       "    }\n",
       "\n",
       "    .dataframe tbody tr th {\n",
       "        vertical-align: top;\n",
       "    }\n",
       "\n",
       "    .dataframe thead th {\n",
       "        text-align: right;\n",
       "    }\n",
       "</style>\n",
       "<table border=\"1\" class=\"dataframe\">\n",
       "  <thead>\n",
       "    <tr style=\"text-align: right;\">\n",
       "      <th></th>\n",
       "      <th>sepal length (cm)</th>\n",
       "      <th>sepal width (cm)</th>\n",
       "      <th>petal length (cm)</th>\n",
       "      <th>petal width (cm)</th>\n",
       "    </tr>\n",
       "  </thead>\n",
       "  <tbody>\n",
       "    <tr>\n",
       "      <th>0</th>\n",
       "      <td>3.1</td>\n",
       "      <td>3.2</td>\n",
       "      <td>3.3</td>\n",
       "      <td>3.4</td>\n",
       "    </tr>\n",
       "  </tbody>\n",
       "</table>\n",
       "</div>"
      ],
      "text/plain": [
       "   sepal length (cm)  sepal width (cm)  petal length (cm)  petal width (cm)\n",
       "0                3.1               3.2                3.3               3.4"
      ]
     },
     "execution_count": 40,
     "metadata": {},
     "output_type": "execute_result"
    }
   ],
   "source": [
    "request = [\n",
    "    {\n",
    "        \"sepal_length\" :3.1,\n",
    "        \"sepal_width\"  :3.2,\n",
    "        \"petal_length\" :3.3,\n",
    "        \"petal_width\"  :3.4\n",
    "    }\n",
    "]\n",
    "\n",
    "x_pred = pd.DataFrame(request)\n",
    "x_pred = x_pred.rename(columns={'sepal_length':'sepal length (cm)','sepal_width':'sepal width (cm)','petal_length':'petal length (cm)','petal_width':'petal width (cm)' })\n",
    "x_pred\n",
    "        "
   ]
  },
  {
   "cell_type": "code",
   "execution_count": 41,
   "metadata": {},
   "outputs": [
    {
     "data": {
      "text/plain": [
       "3.2"
      ]
     },
     "execution_count": 41,
     "metadata": {},
     "output_type": "execute_result"
    }
   ],
   "source": [
    "x_pred.iat[0,1]"
   ]
  },
  {
   "cell_type": "code",
   "execution_count": 28,
   "metadata": {},
   "outputs": [],
   "source": [
    "result = clf.predict(x_pred)  # テストデータで予測"
   ]
  },
  {
   "cell_type": "code",
   "execution_count": 29,
   "metadata": {},
   "outputs": [
    {
     "data": {
      "text/plain": [
       "array([2])"
      ]
     },
     "execution_count": 29,
     "metadata": {},
     "output_type": "execute_result"
    }
   ],
   "source": [
    "result"
   ]
  },
  {
   "cell_type": "code",
   "execution_count": 44,
   "metadata": {},
   "outputs": [
    {
     "name": "stdout",
     "output_type": "stream",
     "text": [
      "defaultdict(<class 'int'>, {'se_setosa': defaultdict(<class 'int'>, {}), 'se_versicolor': defaultdict(<class 'int'>, {}), 'se_virginica': defaultdict(<class 'int'>, {'x': 3.1, 'y': 3.2}), 'pe_setosa': defaultdict(<class 'int'>, {}), 'pe_versicolor': defaultdict(<class 'int'>, {}), 'pe_virginica': defaultdict(<class 'int'>, {'x': 3.3, 'y': 3.4})})\n"
     ]
    }
   ],
   "source": [
    "from collections import defaultdict\n",
    "predictions = defaultdict(int)\n",
    "se_setosa = defaultdict(int)\n",
    "se_versicolor = defaultdict(int)\n",
    "se_virginica = defaultdict(int)\n",
    "pe_setosa = defaultdict(int)\n",
    "pe_versicolor = defaultdict(int)\n",
    "pe_virginica = defaultdict(int)\n",
    "\n",
    "        \n",
    "if result[0] == 0:\n",
    "    se_setosa['x'] = x_pred.iat[0,0]\n",
    "    se_setosa['y'] = x_pred.iat[0,1]\n",
    "    pe_setosa['x'] = x_pred.iat[0,2]\n",
    "    pe_setosa['y'] = x_pred.iat[0,3]\n",
    "\n",
    "if result[0] == 1:\n",
    "    se_versicolor['x'] = x_pred.iat[0,0]\n",
    "    se_versicolor['y'] = x_pred.iat[0,1]\n",
    "    pe_versicolor['x'] = x_pred.iat[0,2]\n",
    "    pe_versicolor['y'] = x_pred.iat[0,3]\n",
    "\n",
    "if result[0] == 2:\n",
    "    se_virginica['x'] = x_pred.iat[0,0]\n",
    "    se_virginica['y'] = x_pred.iat[0,1]\n",
    "    pe_virginica['x'] = x_pred.iat[0,2]\n",
    "    pe_virginica['y'] = x_pred.iat[0,3]\n",
    "predictions['se_setosa'] = se_setosa.copy()\n",
    "predictions['se_versicolor'] = se_versicolor.copy()\n",
    "predictions['se_virginica'] = se_virginica.copy()\n",
    "predictions['pe_setosa'] = pe_setosa.copy()\n",
    "predictions['pe_versicolor'] = pe_versicolor.copy()\n",
    "predictions['pe_virginica'] = pe_virginica.copy()\n",
    "print(predictions)"
   ]
  },
  {
   "cell_type": "code",
   "execution_count": null,
   "metadata": {},
   "outputs": [],
   "source": []
  }
 ],
 "metadata": {
  "kernelspec": {
   "display_name": "Python 3",
   "language": "python",
   "name": "python3"
  },
  "language_info": {
   "codemirror_mode": {
    "name": "ipython",
    "version": 3
   },
   "file_extension": ".py",
   "mimetype": "text/x-python",
   "name": "python",
   "nbconvert_exporter": "python",
   "pygments_lexer": "ipython3",
   "version": "3.8.5"
  }
 },
 "nbformat": 4,
 "nbformat_minor": 4
}
