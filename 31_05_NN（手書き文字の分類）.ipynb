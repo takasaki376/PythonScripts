{
 "cells": [
  {
   "cell_type": "markdown",
   "metadata": {},
   "source": [
    "## ライブラリのインポート"
   ]
  },
  {
   "cell_type": "code",
   "execution_count": 1,
   "metadata": {},
   "outputs": [
    {
     "name": "stderr",
     "output_type": "stream",
     "text": [
      "C:\\Users\\takasaki\\Anaconda3\\envs\\matplotlib\\lib\\site-packages\\japanize_matplotlib\\japanize_matplotlib.py:15: MatplotlibDeprecationWarning: \n",
      "The createFontList function was deprecated in Matplotlib 3.2 and will be removed two minor releases later. Use FontManager.addfont instead.\n",
      "  font_list = font_manager.createFontList(font_files)\n"
     ]
    }
   ],
   "source": [
    "import numpy as np\n",
    "#サイキットラーン　（メモリの節約のため、sklearnの中からsvmのみをインポートする\n",
    "from sklearn import svm\n",
    "# 手書き文字の画像データ\n",
    "from sklearn.datasets import load_digits\n",
    "# 予測結果の精度表示\n",
    "from sklearn import metrics\n",
    "# 訓練データと検証データの分割\n",
    "from sklearn.model_selection import train_test_split\n",
    "# データを扱う\n",
    "import pandas as pd\n",
    "# グラフ描画\n",
    "from matplotlib import pyplot as plt\n",
    "import japanize_matplotlib"
   ]
  },
  {
   "cell_type": "code",
   "execution_count": 2,
   "metadata": {},
   "outputs": [],
   "source": [
    "import torch\n",
    "# 自動微分の関数 \n",
    "from torch.autograd import Variable\n",
    "# ニューラルネットワークの関数\n",
    "import torch.nn as nn\n",
    "# 活性化関数\n",
    "import torch.nn.functional as F\n",
    "# 最適化のアルゴリズムの関数\n",
    "import torch.optim as optim\n",
    "#ユーティリティのデータから\n",
    "from torch.utils.data import DataLoader ,TensorDataset"
   ]
  },
  {
   "cell_type": "markdown",
   "metadata": {},
   "source": [
    "## テスト用データの読み込み"
   ]
  },
  {
   "cell_type": "code",
   "execution_count": 3,
   "metadata": {},
   "outputs": [],
   "source": [
    "digits = load_digits()\n",
    "x = digits.data\n",
    "y = digits.target"
   ]
  },
  {
   "cell_type": "code",
   "execution_count": 4,
   "metadata": {},
   "outputs": [
    {
     "data": {
      "text/html": [
       "<div>\n",
       "<style scoped>\n",
       "    .dataframe tbody tr th:only-of-type {\n",
       "        vertical-align: middle;\n",
       "    }\n",
       "\n",
       "    .dataframe tbody tr th {\n",
       "        vertical-align: top;\n",
       "    }\n",
       "\n",
       "    .dataframe thead th {\n",
       "        text-align: right;\n",
       "    }\n",
       "</style>\n",
       "<table border=\"1\" class=\"dataframe\">\n",
       "  <thead>\n",
       "    <tr style=\"text-align: right;\">\n",
       "      <th></th>\n",
       "      <th>pixel_0_0</th>\n",
       "      <th>pixel_0_1</th>\n",
       "      <th>pixel_0_2</th>\n",
       "      <th>pixel_0_3</th>\n",
       "      <th>pixel_0_4</th>\n",
       "      <th>pixel_0_5</th>\n",
       "      <th>pixel_0_6</th>\n",
       "      <th>pixel_0_7</th>\n",
       "      <th>pixel_1_0</th>\n",
       "      <th>pixel_1_1</th>\n",
       "      <th>...</th>\n",
       "      <th>pixel_6_6</th>\n",
       "      <th>pixel_6_7</th>\n",
       "      <th>pixel_7_0</th>\n",
       "      <th>pixel_7_1</th>\n",
       "      <th>pixel_7_2</th>\n",
       "      <th>pixel_7_3</th>\n",
       "      <th>pixel_7_4</th>\n",
       "      <th>pixel_7_5</th>\n",
       "      <th>pixel_7_6</th>\n",
       "      <th>pixel_7_7</th>\n",
       "    </tr>\n",
       "  </thead>\n",
       "  <tbody>\n",
       "    <tr>\n",
       "      <th>0</th>\n",
       "      <td>0.0</td>\n",
       "      <td>0.0</td>\n",
       "      <td>5.0</td>\n",
       "      <td>13.0</td>\n",
       "      <td>9.0</td>\n",
       "      <td>1.0</td>\n",
       "      <td>0.0</td>\n",
       "      <td>0.0</td>\n",
       "      <td>0.0</td>\n",
       "      <td>0.0</td>\n",
       "      <td>...</td>\n",
       "      <td>0.0</td>\n",
       "      <td>0.0</td>\n",
       "      <td>0.0</td>\n",
       "      <td>0.0</td>\n",
       "      <td>6.0</td>\n",
       "      <td>13.0</td>\n",
       "      <td>10.0</td>\n",
       "      <td>0.0</td>\n",
       "      <td>0.0</td>\n",
       "      <td>0.0</td>\n",
       "    </tr>\n",
       "    <tr>\n",
       "      <th>1</th>\n",
       "      <td>0.0</td>\n",
       "      <td>0.0</td>\n",
       "      <td>0.0</td>\n",
       "      <td>12.0</td>\n",
       "      <td>13.0</td>\n",
       "      <td>5.0</td>\n",
       "      <td>0.0</td>\n",
       "      <td>0.0</td>\n",
       "      <td>0.0</td>\n",
       "      <td>0.0</td>\n",
       "      <td>...</td>\n",
       "      <td>0.0</td>\n",
       "      <td>0.0</td>\n",
       "      <td>0.0</td>\n",
       "      <td>0.0</td>\n",
       "      <td>0.0</td>\n",
       "      <td>11.0</td>\n",
       "      <td>16.0</td>\n",
       "      <td>10.0</td>\n",
       "      <td>0.0</td>\n",
       "      <td>0.0</td>\n",
       "    </tr>\n",
       "    <tr>\n",
       "      <th>2</th>\n",
       "      <td>0.0</td>\n",
       "      <td>0.0</td>\n",
       "      <td>0.0</td>\n",
       "      <td>4.0</td>\n",
       "      <td>15.0</td>\n",
       "      <td>12.0</td>\n",
       "      <td>0.0</td>\n",
       "      <td>0.0</td>\n",
       "      <td>0.0</td>\n",
       "      <td>0.0</td>\n",
       "      <td>...</td>\n",
       "      <td>5.0</td>\n",
       "      <td>0.0</td>\n",
       "      <td>0.0</td>\n",
       "      <td>0.0</td>\n",
       "      <td>0.0</td>\n",
       "      <td>3.0</td>\n",
       "      <td>11.0</td>\n",
       "      <td>16.0</td>\n",
       "      <td>9.0</td>\n",
       "      <td>0.0</td>\n",
       "    </tr>\n",
       "    <tr>\n",
       "      <th>3</th>\n",
       "      <td>0.0</td>\n",
       "      <td>0.0</td>\n",
       "      <td>7.0</td>\n",
       "      <td>15.0</td>\n",
       "      <td>13.0</td>\n",
       "      <td>1.0</td>\n",
       "      <td>0.0</td>\n",
       "      <td>0.0</td>\n",
       "      <td>0.0</td>\n",
       "      <td>8.0</td>\n",
       "      <td>...</td>\n",
       "      <td>9.0</td>\n",
       "      <td>0.0</td>\n",
       "      <td>0.0</td>\n",
       "      <td>0.0</td>\n",
       "      <td>7.0</td>\n",
       "      <td>13.0</td>\n",
       "      <td>13.0</td>\n",
       "      <td>9.0</td>\n",
       "      <td>0.0</td>\n",
       "      <td>0.0</td>\n",
       "    </tr>\n",
       "    <tr>\n",
       "      <th>4</th>\n",
       "      <td>0.0</td>\n",
       "      <td>0.0</td>\n",
       "      <td>0.0</td>\n",
       "      <td>1.0</td>\n",
       "      <td>11.0</td>\n",
       "      <td>0.0</td>\n",
       "      <td>0.0</td>\n",
       "      <td>0.0</td>\n",
       "      <td>0.0</td>\n",
       "      <td>0.0</td>\n",
       "      <td>...</td>\n",
       "      <td>0.0</td>\n",
       "      <td>0.0</td>\n",
       "      <td>0.0</td>\n",
       "      <td>0.0</td>\n",
       "      <td>0.0</td>\n",
       "      <td>2.0</td>\n",
       "      <td>16.0</td>\n",
       "      <td>4.0</td>\n",
       "      <td>0.0</td>\n",
       "      <td>0.0</td>\n",
       "    </tr>\n",
       "  </tbody>\n",
       "</table>\n",
       "<p>5 rows × 64 columns</p>\n",
       "</div>"
      ],
      "text/plain": [
       "   pixel_0_0  pixel_0_1  pixel_0_2  pixel_0_3  pixel_0_4  pixel_0_5  \\\n",
       "0        0.0        0.0        5.0       13.0        9.0        1.0   \n",
       "1        0.0        0.0        0.0       12.0       13.0        5.0   \n",
       "2        0.0        0.0        0.0        4.0       15.0       12.0   \n",
       "3        0.0        0.0        7.0       15.0       13.0        1.0   \n",
       "4        0.0        0.0        0.0        1.0       11.0        0.0   \n",
       "\n",
       "   pixel_0_6  pixel_0_7  pixel_1_0  pixel_1_1  ...  pixel_6_6  pixel_6_7  \\\n",
       "0        0.0        0.0        0.0        0.0  ...        0.0        0.0   \n",
       "1        0.0        0.0        0.0        0.0  ...        0.0        0.0   \n",
       "2        0.0        0.0        0.0        0.0  ...        5.0        0.0   \n",
       "3        0.0        0.0        0.0        8.0  ...        9.0        0.0   \n",
       "4        0.0        0.0        0.0        0.0  ...        0.0        0.0   \n",
       "\n",
       "   pixel_7_0  pixel_7_1  pixel_7_2  pixel_7_3  pixel_7_4  pixel_7_5  \\\n",
       "0        0.0        0.0        6.0       13.0       10.0        0.0   \n",
       "1        0.0        0.0        0.0       11.0       16.0       10.0   \n",
       "2        0.0        0.0        0.0        3.0       11.0       16.0   \n",
       "3        0.0        0.0        7.0       13.0       13.0        9.0   \n",
       "4        0.0        0.0        0.0        2.0       16.0        4.0   \n",
       "\n",
       "   pixel_7_6  pixel_7_7  \n",
       "0        0.0        0.0  \n",
       "1        0.0        0.0  \n",
       "2        9.0        0.0  \n",
       "3        0.0        0.0  \n",
       "4        0.0        0.0  \n",
       "\n",
       "[5 rows x 64 columns]"
      ]
     },
     "execution_count": 4,
     "metadata": {},
     "output_type": "execute_result"
    }
   ],
   "source": [
    "# 手書き文字の画像データを表形式で表示\n",
    "df_x=pd.DataFrame(digits.data ,columns=digits.feature_names)\n",
    "df_x.head()"
   ]
  },
  {
   "cell_type": "markdown",
   "metadata": {},
   "source": [
    "### 補足情報\n",
    "画像データの説明"
   ]
  },
  {
   "cell_type": "code",
   "execution_count": 5,
   "metadata": {},
   "outputs": [
    {
     "name": "stdout",
     "output_type": "stream",
     "text": [
      "--- 画像データ（１枚目） ---\n",
      "[[ 0.  0.  5. 13.  9.  1.  0.  0.]\n",
      " [ 0.  0. 13. 15. 10. 15.  5.  0.]\n",
      " [ 0.  3. 15.  2.  0. 11.  8.  0.]\n",
      " [ 0.  4. 12.  0.  0.  8.  8.  0.]\n",
      " [ 0.  5.  8.  0.  0.  9.  8.  0.]\n",
      " [ 0.  4. 11.  0.  1. 12.  7.  0.]\n",
      " [ 0.  2. 14.  5. 10. 12.  0.  0.]\n",
      " [ 0.  0.  6. 13. 10.  0.  0.  0.]]\n",
      "データの格納件数 (1797, 8, 8)\n",
      "\n",
      "--- 1次元画像データ（１枚目） ---\n",
      "[ 0.  0.  5. 13.  9.  1.  0.  0.  0.  0. 13. 15. 10. 15.  5.  0.  0.  3.\n",
      " 15.  2.  0. 11.  8.  0.  0.  4. 12.  0.  0.  8.  8.  0.  0.  5.  8.  0.\n",
      "  0.  9.  8.  0.  0.  4. 11.  0.  1. 12.  7.  0.  0.  2. 14.  5. 10. 12.\n",
      "  0.  0.  0.  0.  6. 13. 10.  0.  0.  0.]\n",
      "データの格納件数 (1797, 64)\n"
     ]
    }
   ],
   "source": [
    "## 画像データは、8×8の画素数で１画素あたりの数字は色の明るさを表す\n",
    "## 0～15の数字で、0が白、15が黒となっている\n",
    "print(\"--- 画像データ（１枚目） ---\")\n",
    "print(digits.images[0])\n",
    "print('データの格納件数',digits.images.shape)\n",
    "print('')\n",
    "## dataには画像データを１次元に並べた値が格納されている。\n",
    "print(\"--- 1次元画像データ（１枚目） ---\")\n",
    "print(digits.data[0])\n",
    "print('データの格納件数',digits.data.shape)"
   ]
  },
  {
   "cell_type": "code",
   "execution_count": 7,
   "metadata": {},
   "outputs": [
    {
     "data": {
      "image/png": "[encoded data removed]",
      "text/plain": [
       "<Figure size 432x288 with 10 Axes>"
      ]
     },
     "metadata": {
      "needs_background": "light"
     },
     "output_type": "display_data"
    }
   ],
   "source": [
    "# 画像と正解値の表示\n",
    "images = digits.images\n",
    "labels = digits.target\n",
    "for i in range(10):\n",
    "    plt.subplot(2, 5, i + 1)  # 2行5列、i+1の位置  (画像表示の指示)\n",
    "    plt.imshow(images[i], cmap=\"Greys\")    # 表示の対象データ\n",
    "    plt.axis(\"off\")                        # 軸は表示しない\n",
    "    plt.title(\"Label: \" +  str(labels[i]))\n",
    "plt.show()"
   ]
  },
  {
   "cell_type": "code",
   "execution_count": 8,
   "metadata": {},
   "outputs": [
    {
     "data": {
      "text/html": [
       "<div>\n",
       "<style scoped>\n",
       "    .dataframe tbody tr th:only-of-type {\n",
       "        vertical-align: middle;\n",
       "    }\n",
       "\n",
       "    .dataframe tbody tr th {\n",
       "        vertical-align: top;\n",
       "    }\n",
       "\n",
       "    .dataframe thead th {\n",
       "        text-align: right;\n",
       "    }\n",
       "</style>\n",
       "<table border=\"1\" class=\"dataframe\">\n",
       "  <thead>\n",
       "    <tr style=\"text-align: right;\">\n",
       "      <th></th>\n",
       "      <th>target</th>\n",
       "    </tr>\n",
       "  </thead>\n",
       "  <tbody>\n",
       "    <tr>\n",
       "      <th>0</th>\n",
       "      <td>0</td>\n",
       "    </tr>\n",
       "    <tr>\n",
       "      <th>1</th>\n",
       "      <td>1</td>\n",
       "    </tr>\n",
       "    <tr>\n",
       "      <th>2</th>\n",
       "      <td>2</td>\n",
       "    </tr>\n",
       "    <tr>\n",
       "      <th>3</th>\n",
       "      <td>3</td>\n",
       "    </tr>\n",
       "    <tr>\n",
       "      <th>4</th>\n",
       "      <td>4</td>\n",
       "    </tr>\n",
       "    <tr>\n",
       "      <th>5</th>\n",
       "      <td>5</td>\n",
       "    </tr>\n",
       "    <tr>\n",
       "      <th>6</th>\n",
       "      <td>6</td>\n",
       "    </tr>\n",
       "    <tr>\n",
       "      <th>7</th>\n",
       "      <td>7</td>\n",
       "    </tr>\n",
       "    <tr>\n",
       "      <th>8</th>\n",
       "      <td>8</td>\n",
       "    </tr>\n",
       "    <tr>\n",
       "      <th>9</th>\n",
       "      <td>9</td>\n",
       "    </tr>\n",
       "    <tr>\n",
       "      <th>10</th>\n",
       "      <td>0</td>\n",
       "    </tr>\n",
       "    <tr>\n",
       "      <th>11</th>\n",
       "      <td>1</td>\n",
       "    </tr>\n",
       "    <tr>\n",
       "      <th>12</th>\n",
       "      <td>2</td>\n",
       "    </tr>\n",
       "    <tr>\n",
       "      <th>13</th>\n",
       "      <td>3</td>\n",
       "    </tr>\n",
       "    <tr>\n",
       "      <th>14</th>\n",
       "      <td>4</td>\n",
       "    </tr>\n",
       "    <tr>\n",
       "      <th>15</th>\n",
       "      <td>5</td>\n",
       "    </tr>\n",
       "    <tr>\n",
       "      <th>16</th>\n",
       "      <td>6</td>\n",
       "    </tr>\n",
       "    <tr>\n",
       "      <th>17</th>\n",
       "      <td>7</td>\n",
       "    </tr>\n",
       "    <tr>\n",
       "      <th>18</th>\n",
       "      <td>8</td>\n",
       "    </tr>\n",
       "    <tr>\n",
       "      <th>19</th>\n",
       "      <td>9</td>\n",
       "    </tr>\n",
       "  </tbody>\n",
       "</table>\n",
       "</div>"
      ],
      "text/plain": [
       "    target\n",
       "0        0\n",
       "1        1\n",
       "2        2\n",
       "3        3\n",
       "4        4\n",
       "5        5\n",
       "6        6\n",
       "7        7\n",
       "8        8\n",
       "9        9\n",
       "10       0\n",
       "11       1\n",
       "12       2\n",
       "13       3\n",
       "14       4\n",
       "15       5\n",
       "16       6\n",
       "17       7\n",
       "18       8\n",
       "19       9"
      ]
     },
     "execution_count": 8,
     "metadata": {},
     "output_type": "execute_result"
    }
   ],
   "source": [
    "# 手書き文字の画像データを分類結果で表示 (targetに分析結果が格納されている)\n",
    "df_y=pd.DataFrame(digits.target ,columns=['target'])\n",
    "df_y.head(20)"
   ]
  },
  {
   "cell_type": "markdown",
   "metadata": {},
   "source": [
    "## 訓練データと検証データに分割する"
   ]
  },
  {
   "cell_type": "code",
   "execution_count": 9,
   "metadata": {},
   "outputs": [],
   "source": [
    "# 訓練データと検証データの分割\n",
    "# random_stateは再現性を確保するために指定する\n",
    "x_train,x_test,y_train,y_test=train_test_split(x, y, test_size=0.4, random_state=1) \n",
    "\n",
    "# Tensorに変換\n",
    "X_train = torch.tensor(x_train, dtype=torch.float32)\n",
    "Y_train = torch.tensor(y_train, dtype=torch.int64) \n",
    "X_test = torch.tensor(x_test, dtype=torch.float32)\n",
    "Y_test = torch.tensor(y_test, dtype=torch.int64) "
   ]
  },
  {
   "cell_type": "markdown",
   "metadata": {},
   "source": [
    "# ニューラルネットワークの定義"
   ]
  },
  {
   "cell_type": "markdown",
   "metadata": {},
   "source": [
    "ニューラルネットワークのノード数や階層を定義する \\\n",
    "出力値を求める関数を定義する（ノード数によって変わる、求めたい値によっても変わる）"
   ]
  },
  {
   "cell_type": "code",
   "execution_count": 76,
   "metadata": {},
   "outputs": [],
   "source": [
    "# Module を継承して、Netクラスを作成する\n",
    "#  ノード数や階層を増やす　⇒　精度が向上する、学習のパフォーマンスは落ちる\n",
    "#  ノード数や階層を減らす　⇒　精度が下がる、学習のパフォーマンスは上がる\n",
    "#   　ノードや階層を変更しても精度が上がらない　⇒　入力データが不足している\n",
    "net = nn.Sequential(\n",
    "        #   中間層のノード数は、精度向上やパフォーマンス向上を狙って調整する\n",
    "        nn.Linear(64 , 32),         # nn.Linear (入力のノード数 , 中間層ノード数)\n",
    "        nn.ReLU(), \n",
    "        nn.Linear(32 , 16),             # nn.Linear (中間層ノード数 , 中間層ノード数)\n",
    "        nn.ReLU(),\n",
    "        nn.Linear(16,  10)        # nn.Linear (中間層ノード数 , 出力のノード数)\n",
    "        )"
   ]
  },
  {
   "cell_type": "markdown",
   "metadata": {},
   "source": [
    "## 学習する"
   ]
  },
  {
   "cell_type": "code",
   "execution_count": 77,
   "metadata": {},
   "outputs": [],
   "source": [
    "# 損失の定義 (交差エントロピー誤差関数)\n",
    "criterion = nn.CrossEntropyLoss()"
   ]
  },
  {
   "cell_type": "code",
   "execution_count": 78,
   "metadata": {},
   "outputs": [],
   "source": [
    "# 最適化のアルゴリズムの選択　（SDG）\n",
    "## model.parameters  調整する値\n",
    "## lr(learning rate) ：学習率　どれぐらいの幅でパラメータを更新していくのか\n",
    "#optimizer = optim.SGD(net.parameters() , lr=0.01)\n",
    "optimizer = optim.Adam(net.parameters() , lr=0.01)"
   ]
  },
  {
   "cell_type": "code",
   "execution_count": 79,
   "metadata": {},
   "outputs": [
    {
     "name": "stdout",
     "output_type": "stream",
     "text": [
      "Epoch 100 ,Loss 0.002004167065024376\n",
      "Epoch 200 ,Loss 0.0005543346633203328\n",
      "Epoch 300 ,Loss 0.00026616326067596674\n",
      "Epoch 400 ,Loss 0.0001549169683130458\n",
      "Epoch 500 ,Loss 0.00010238768300041556\n",
      "Epoch 600 ,Loss 7.296158582903445e-05\n",
      "Epoch 700 ,Loss 5.45859984413255e-05\n",
      "Epoch 800 ,Loss 4.232744686305523e-05\n",
      "Epoch 900 ,Loss 3.376140011823736e-05\n",
      "Epoch 1000 ,Loss 2.753933767962735e-05\n"
     ]
    }
   ],
   "source": [
    "loss_list = []\n",
    "loss_temp = 0\n",
    "# 損失を初期化　\n",
    "total_loss = 0\n",
    "\n",
    "# トレーニングの回数分ループする。\n",
    "for epoch in range(1000):\n",
    "       \n",
    "    # 出力を計算する \n",
    "    output = net(X_train)\n",
    "\n",
    "    # 損失の計算 (出力の結果；output と 正解：y_trainを渡す)\n",
    "    loss = criterion(output ,Y_train)\n",
    "\n",
    "    # パラメータの勾配を初期化する\n",
    "    optimizer.zero_grad()\n",
    "    # ロスを伝播する\n",
    "    loss.backward()\n",
    "\n",
    "    # パラメータを更新する\n",
    "    optimizer.step()\n",
    "\n",
    "    # トータルロスを格納\n",
    "    total_loss += loss.item()\n",
    "    loss_list.append(loss.item())\n",
    "    loss_temp += loss\n",
    "\n",
    "    # 10回毎に回数とトータルロスを表示する\n",
    "    if (epoch+1)%100 == 0:\n",
    "        print('Epoch' , epoch+1 ,  ',Loss' , loss.item())\n",
    "        loss_temp = 0"
   ]
  },
  {
   "cell_type": "code",
   "execution_count": 14,
   "metadata": {},
   "outputs": [
    {
     "data": {
      "image/png": "[encoded data removed]",
      "text/plain": [
       "<Figure size 432x288 with 1 Axes>"
      ]
     },
     "metadata": {
      "needs_background": "light"
     },
     "output_type": "display_data"
    }
   ],
   "source": [
    "plt.plot(range(len(loss_list)), loss_list, label=\"Train\")\n",
    "plt.legend()\n",
    "\n",
    "plt.xlabel(\"Epochs\")\n",
    "plt.ylabel(\"Error\")\n",
    "plt.show()"
   ]
  },
  {
   "cell_type": "code",
   "execution_count": 71,
   "metadata": {},
   "outputs": [
    {
     "name": "stdout",
     "output_type": "stream",
     "text": [
      "              precision    recall  f1-score   support\n",
      "\n",
      "           0       1.00      1.00      1.00       104\n",
      "           1       0.96      0.97      0.97       114\n",
      "           2       0.99      1.00      1.00       109\n",
      "           3       1.00      0.98      0.99       100\n",
      "           4       0.99      0.99      0.99       102\n",
      "           5       1.00      0.99      1.00       117\n",
      "           6       1.00      1.00      1.00       111\n",
      "           7       1.00      1.00      1.00       105\n",
      "           8       0.98      0.96      0.97       112\n",
      "           9       0.97      1.00      0.99       104\n",
      "\n",
      "    accuracy                           0.99      1078\n",
      "   macro avg       0.99      0.99      0.99      1078\n",
      "weighted avg       0.99      0.99      0.99      1078\n",
      "\n",
      "-----\n",
      "[[104   0   0   0   0   0   0   0   0   0]\n",
      " [  0 111   0   0   1   0   0   0   1   1]\n",
      " [  0   0 109   0   0   0   0   0   0   0]\n",
      " [  0   0   1  98   0   0   0   0   1   0]\n",
      " [  0   0   0   0 101   0   0   0   0   1]\n",
      " [  0   0   0   0   0 116   0   0   0   1]\n",
      " [  0   0   0   0   0   0 111   0   0   0]\n",
      " [  0   0   0   0   0   0   0 105   0   0]\n",
      " [  0   5   0   0   0   0   0   0 107   0]\n",
      " [  0   0   0   0   0   0   0   0   0 104]]\n"
     ]
    }
   ],
   "source": [
    "y_hat = net(X_train)\n",
    "print(metrics.classification_report(Y_train, np.array(y_hat.argmax(1))))  # 正解率など\n",
    "print('-----')\n",
    "print(metrics.confusion_matrix(Y_train, np.array(y_hat.argmax(1))))  # 行:正解、列:予測"
   ]
  },
  {
   "cell_type": "markdown",
   "metadata": {},
   "source": [
    "# 予測する"
   ]
  },
  {
   "cell_type": "markdown",
   "metadata": {},
   "source": [
    "## 誤差の確認"
   ]
  },
  {
   "cell_type": "code",
   "execution_count": 74,
   "metadata": {},
   "outputs": [
    {
     "name": "stdout",
     "output_type": "stream",
     "text": [
      "95.13212795549374%\n"
     ]
    }
   ],
   "source": [
    "# 学習を行わないモードに変更\n",
    "net.eval()\n",
    "\n",
    "\n",
    "# テストデータｘに対する結果　（値の大きい方を取得する）\n",
    "y_hat = net(X_test)\n",
    "count = (y_hat.argmax(1) == Y_test).sum().item()\n",
    "\n",
    "# テストｘの結果とｙの比較　（結果が一致したら加算して、不一致は加算しない。その結果をデータ数で割る）\n",
    "accuracy = str(count/len(Y_test)*100) + '%'\n",
    "print(accuracy)"
   ]
  },
  {
   "cell_type": "code",
   "execution_count": 61,
   "metadata": {},
   "outputs": [
    {
     "data": {
      "image/png": "[encoded data removed]",
      "text/plain": [
       "<Figure size 432x288 with 10 Axes>"
      ]
     },
     "metadata": {
      "needs_background": "light"
     },
     "output_type": "display_data"
    }
   ],
   "source": [
    "# 予測結果と画像の対応\n",
    "images = digits.images\n",
    "\n",
    "for i in range(10):\n",
    "    data = torch.tensor(digits.data[i], dtype=torch.float32)\n",
    "    y_predict = net(data)\n",
    "    plt.subplot(2, 5, i + 1)  # 2行5列、i+1の位置\n",
    "    plt.imshow(images[i], cmap=\"Greys\")\n",
    "    plt.axis(\"off\")\n",
    "    plt.title(\"Gues: \" +  str(y_predict.argmax(0).item()))    ## 判断結果を表示する（判断結果の下に実際の画像を表示する）\n",
    "              \n",
    "plt.show()"
   ]
  },
  {
   "cell_type": "markdown",
   "metadata": {},
   "source": [
    "## 予測値と正解の比較"
   ]
  },
  {
   "cell_type": "code",
   "execution_count": 69,
   "metadata": {},
   "outputs": [
    {
     "name": "stdout",
     "output_type": "stream",
     "text": [
      "              precision    recall  f1-score   support\n",
      "\n",
      "           0       1.00      0.97      0.99        74\n",
      "           1       0.94      0.96      0.95        68\n",
      "           2       0.92      1.00      0.96        68\n",
      "           3       0.96      0.95      0.96        83\n",
      "           4       0.97      0.99      0.98        79\n",
      "           5       0.92      0.89      0.91        65\n",
      "           6       0.93      0.97      0.95        70\n",
      "           7       0.97      0.91      0.94        74\n",
      "           8       0.92      0.97      0.94        62\n",
      "           9       0.96      0.91      0.93        76\n",
      "\n",
      "    accuracy                           0.95       719\n",
      "   macro avg       0.95      0.95      0.95       719\n",
      "weighted avg       0.95      0.95      0.95       719\n",
      "\n",
      "-----\n",
      "[[72  0  0  0  1  1  0  0  0  0]\n",
      " [ 0 65  1  0  0  0  2  0  0  0]\n",
      " [ 0  0 68  0  0  0  0  0  0  0]\n",
      " [ 0  0  3 79  0  0  0  1  0  0]\n",
      " [ 0  0  0  0 78  0  1  0  0  0]\n",
      " [ 0  0  2  2  0 58  2  0  1  0]\n",
      " [ 0  2  0  0  0  0 68  0  0  0]\n",
      " [ 0  0  0  0  1  0  0 67  3  3]\n",
      " [ 0  1  0  0  0  1  0  0 60  0]\n",
      " [ 0  1  0  1  0  3  0  1  1 69]]\n"
     ]
    }
   ],
   "source": [
    "y_hat = net(X_test)\n",
    "print(metrics.classification_report(y_test, np.array(y_hat.argmax(1))))  # 正解率など\n",
    "print('-----')\n",
    "print(metrics.confusion_matrix(y_test, np.array(y_hat.argmax(1))))  # 行:正解、列:予測"
   ]
  },
  {
   "cell_type": "code",
   "execution_count": null,
   "metadata": {},
   "outputs": [],
   "source": []
  },
  {
   "cell_type": "code",
   "execution_count": null,
   "metadata": {},
   "outputs": [],
   "source": []
  }
 ],
 "metadata": {
  "kernelspec": {
   "display_name": "Python 3",
   "language": "python",
   "name": "python3"
  },
  "language_info": {
   "codemirror_mode": {
    "name": "ipython",
    "version": 3
   },
   "file_extension": ".py",
   "mimetype": "text/x-python",
   "name": "python",
   "nbconvert_exporter": "python",
   "pygments_lexer": "ipython3",
   "version": "3.7.1"
  }
 },
 "nbformat": 4,
 "nbformat_minor": 4
}
