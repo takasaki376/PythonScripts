{
 "cells": [
  {
   "cell_type": "markdown",
   "metadata": {},
   "source": [
    "## ライブラリのインポート"
   ]
  },
  {
   "cell_type": "code",
   "execution_count": 1,
   "metadata": {},
   "outputs": [
    {
     "name": "stderr",
     "output_type": "stream",
     "text": [
      "C:\\Users\\takasaki\\Anaconda3\\envs\\matplotlib\\lib\\site-packages\\japanize_matplotlib\\japanize_matplotlib.py:15: MatplotlibDeprecationWarning: \n",
      "The createFontList function was deprecated in Matplotlib 3.2 and will be removed two minor releases later. Use FontManager.addfont instead.\n",
      "  font_list = font_manager.createFontList(font_files)\n"
     ]
    }
   ],
   "source": [
    "import numpy as np\n",
    "# アイリスの計測データ\n",
    "from sklearn.datasets import load_iris\n",
    "# 訓練データと検証データの分割\n",
    "from sklearn.model_selection import train_test_split\n",
    "# データを扱う\n",
    "import pandas as pd\n",
    "# 予測結果の精度表示\n",
    "from sklearn import metrics\n",
    "# グラフ描画\n",
    "from matplotlib import pyplot as plt\n",
    "import japanize_matplotlib"
   ]
  },
  {
   "cell_type": "code",
   "execution_count": 2,
   "metadata": {},
   "outputs": [],
   "source": [
    "import torch\n",
    "# 自動微分の関数 \n",
    "from torch.autograd import Variable\n",
    "# ニューラルネットワークの関数\n",
    "import torch.nn as nn\n",
    "# 活性化関数\n",
    "import torch.nn.functional as F\n",
    "# 最適化のアルゴリズムの関数\n",
    "import torch.optim as optim\n",
    "#ユーティリティのデータから\n",
    "from torch.utils.data import DataLoader ,TensorDataset, Dataset"
   ]
  },
  {
   "cell_type": "markdown",
   "metadata": {},
   "source": [
    "# テスト用データの読み込み"
   ]
  },
  {
   "cell_type": "code",
   "execution_count": 157,
   "metadata": {},
   "outputs": [],
   "source": [
    "class IrisDataset(Dataset):\n",
    "    def __init__(self, testsize=0.2):\n",
    "        iris = load_iris()\n",
    "        X=iris.data\n",
    "        \n",
    "        self.target = iris.target\n",
    "        Y = np.zeros((len(iris.target), 1 + iris.target.max()), dtype=int)\n",
    "        Y[np.arange(len(iris.target)), iris.target] = 1\n",
    "        \n",
    "        # 訓練データと検証データに分割する\n",
    "        X_train,X_test,Y_train,Y_test=train_test_split(X, Y, test_size=testsize, random_state=1) \n",
    "        \n",
    "        # テンソルに変換\n",
    "        self.X_data = torch.FloatTensor(X_train)\n",
    "        self.X_test = torch.FloatTensor(X_test)\n",
    "        self.Y_data = torch.FloatTensor(Y_train)\n",
    "        self.Y_test = torch.FloatTensor(Y_test)\n",
    "        self.X_fulldata = torch.FloatTensor(X)\n",
    "        self.Y_fulldata = torch.FloatTensor(Y)\n",
    "        \n",
    "        self.datalen = len(self.Y_data)\n",
    "        self.in_size = self.X_data.shape[1]\n",
    "        self.out_size = self.Y_data.shape[1]\n",
    "        print('X_size=', self.in_size)\n",
    "        print('Y_size=', self.out_size)\n",
    "        print('record_cnt=', self.datalen)\n",
    "        \n",
    "    def __getitem__(self, index):\n",
    "        return self.X_data[index], self.Y_data[index]\n",
    "    \n",
    "    def __len__(self):\n",
    "        return self.datalen"
   ]
  },
  {
   "cell_type": "code",
   "execution_count": 158,
   "metadata": {},
   "outputs": [
    {
     "name": "stdout",
     "output_type": "stream",
     "text": [
      "X_size= 4\n",
      "Y_size= 3\n",
      "record_cnt= 120\n"
     ]
    }
   ],
   "source": [
    "Batch_size = 20\n",
    "dataset = IrisDataset()\n",
    "trainloader = DataLoader(dataset=dataset, batch_size = Batch_size, shuffle=True)"
   ]
  },
  {
   "cell_type": "markdown",
   "metadata": {},
   "source": [
    "# ニューラルネットワークの定義"
   ]
  },
  {
   "cell_type": "markdown",
   "metadata": {},
   "source": [
    "ニューラルネットワークのノード数や階層を定義する \\\n",
    "出力値を求める関数を定義する（ノード数によって変わる、求めたい値によっても変わる）"
   ]
  },
  {
   "cell_type": "code",
   "execution_count": 136,
   "metadata": {},
   "outputs": [],
   "source": [
    "# Module を継承して、Netクラスを作成する\n",
    "#  ノード数や階層を増やす　⇒　精度が向上する、学習のパフォーマンスは落ちる\n",
    "#  ノード数や階層を減らす　⇒　精度が下がる、学習のパフォーマンスは上がる\n",
    "#   　ノードや階層を変更しても精度が上がらない　⇒　入力データが不足している\n",
    "class Net(nn.Module):\n",
    "    # 初期化の関数\n",
    "    def __init__(self, in_features, out_features, h1=10, h2=8):\n",
    "        super(Net ,self).__init__()\n",
    "        #   中間層のノード数は、精度向上やパフォーマンス向上を狙って調整する\n",
    "        self.fc1 = nn.Linear(in_features , h1)         # nn.Linear (入力のノード数 , 中間層ノード数)\n",
    "        self.fc2 = nn.Linear(h1, h2)                   # nn.Linear (中間層ノード数 , 中間層ノード数)\n",
    "        self.fc3 = nn.Linear(h2, out_features)         # nn.Linear (中間層ノード数 , 出力のノード数)\n",
    "        \n",
    "    # ネットワークを通して、出力値を求める関数\n",
    "    def forward(self ,x):\n",
    "        x = F.relu(self.fc1(x))              # 入力のノードを中間層（１階層目）に渡して結果を得る\n",
    "        x = F.relu(self.fc2(x))              # 中間層（１階層目）の結果を中間層（２階層目）に渡して結果を得る\n",
    "        x = self.fc3(x)                      # 中間層（２階層目）の結果を出力層に渡す\n",
    "        # dim　:求めたい確率の値　今回は１になる確率\n",
    "        return F.log_softmax(x , dim=1)"
   ]
  },
  {
   "cell_type": "markdown",
   "metadata": {},
   "source": [
    "# 学習する"
   ]
  },
  {
   "cell_type": "code",
   "execution_count": 142,
   "metadata": {},
   "outputs": [],
   "source": [
    "# モデルの定義\n",
    "model = Net(in_features = dataset.in_size, out_features = dataset.out_size)\n",
    "# 損失の定義 (平均二乗誤差)\n",
    "criterion = nn.MSELoss()"
   ]
  },
  {
   "cell_type": "code",
   "execution_count": 143,
   "metadata": {},
   "outputs": [],
   "source": [
    "# 最適化のアルゴリズムの選択　（確率的勾配効果法（SGD：Stochastic Gradient Descent）\n",
    "## model.parameters  調整する値\n",
    "## lr(learning rate) ：学習率　どれぐらいの幅でパラメータを更新していくのか\n",
    "optimizer = optim.SGD(model.parameters() , lr=0.01)"
   ]
  },
  {
   "cell_type": "code",
   "execution_count": 144,
   "metadata": {},
   "outputs": [
    {
     "name": "stdout",
     "output_type": "stream",
     "text": [
      "Epoch\t20\t\tLoss\t0.00558964\t\taccuracy:\t54.000%\n",
      "Epoch\t40\t\tLoss\t0.00555402\t\taccuracy:\t89.000%\n",
      "Epoch\t60\t\tLoss\t0.00554392\t\taccuracy:\t87.000%\n",
      "Epoch\t80\t\tLoss\t0.00553907\t\taccuracy:\t87.000%\n",
      "Epoch\t100\t\tLoss\t0.00553530\t\taccuracy:\t89.000%\n",
      "Epoch\t120\t\tLoss\t0.00553163\t\taccuracy:\t90.000%\n",
      "Epoch\t140\t\tLoss\t0.00552751\t\taccuracy:\t92.000%\n",
      "Epoch\t160\t\tLoss\t0.00552319\t\taccuracy:\t93.000%\n",
      "Epoch\t180\t\tLoss\t0.00551858\t\taccuracy:\t94.000%\n",
      "Epoch\t200\t\tLoss\t0.00551392\t\taccuracy:\t96.000%\n",
      "Epoch\t220\t\tLoss\t0.00550928\t\taccuracy:\t96.000%\n",
      "Epoch\t240\t\tLoss\t0.00550484\t\taccuracy:\t96.000%\n",
      "Epoch\t260\t\tLoss\t0.00550107\t\taccuracy:\t96.000%\n",
      "Epoch\t280\t\tLoss\t0.00549790\t\taccuracy:\t96.000%\n",
      "Epoch\t300\t\tLoss\t0.00549506\t\taccuracy:\t96.000%\n",
      "Epoch\t320\t\tLoss\t0.00549273\t\taccuracy:\t96.000%\n",
      "Epoch\t340\t\tLoss\t0.00549125\t\taccuracy:\t97.000%\n",
      "Epoch\t360\t\tLoss\t0.00548949\t\taccuracy:\t97.000%\n",
      "Epoch\t380\t\tLoss\t0.00548885\t\taccuracy:\t96.000%\n",
      "Epoch\t400\t\tLoss\t0.00548784\t\taccuracy:\t97.000%\n",
      "Epoch\t420\t\tLoss\t0.00548694\t\taccuracy:\t97.000%\n",
      "Epoch\t440\t\tLoss\t0.00548677\t\taccuracy:\t97.000%\n",
      "Epoch\t460\t\tLoss\t0.00548703\t\taccuracy:\t97.000%\n",
      "Epoch\t480\t\tLoss\t0.00548585\t\taccuracy:\t97.000%\n",
      "Epoch\t500\t\tLoss\t0.00548594\t\taccuracy:\t97.000%\n"
     ]
    }
   ],
   "source": [
    "loss_list = []\n",
    "loss_temp = 0\n",
    "\n",
    "epochs=500\n",
    "logdisp=20\n",
    "\n",
    "accuracy_list = []\n",
    "\n",
    "correct_counter = 0\n",
    "acccnt=len(dataset)*logdisp\n",
    "\n",
    "# トレーニングの回数分ループする。\n",
    "for epoch in range(epochs):\n",
    "    # 損失を初期化　\n",
    "    total_loss = 0\n",
    "    \n",
    "    # データの件数分ループする。（x_train , y_train　に１レコードずつ格納される）\n",
    "    for x_train , y_train in trainloader:\n",
    "        # Variable ：　torch,autograd.Variable  ：テンソルをwrapして計算操作を記録する\n",
    "        x_train ,y_train = Variable(x_train) ,Variable(y_train)\n",
    "        # 出力を計算する \n",
    "        output = model(x_train)\n",
    "        # 損失の計算 (出力の結果；output と 正解：y_trainを渡す)\n",
    "        loss = criterion(output ,y_train)\n",
    "        y_pred = torch.max(output.data, axis=1)[1]\n",
    "        t_true = torch.max(y_train.data, axis=1)[1]\n",
    "\n",
    "        correct_temp = (t_true == y_pred).sum()\n",
    "        correct_counter += correct_temp\n",
    "        \n",
    "        # パラメータの勾配を初期化する\n",
    "        optimizer.zero_grad()\n",
    "        # ロスを伝播する\n",
    "        loss.backward()\n",
    "        # パラメータを更新する\n",
    "        optimizer.step()\n",
    "        # トータルロスを格納\n",
    "        total_loss += loss.item()\n",
    "        \n",
    "    # 10回毎に回数とトータルロスを表示する\n",
    "    if (epoch+1)%logdisp == 0:\n",
    "        loss_tmp=total_loss/acccnt\n",
    "        print(f'Epoch\\t{epoch+1}\\t\\tLoss\\t{loss_tmp:.8f}\\t\\taccuracy:\\t{(correct_counter*100)/acccnt:.3f}%')\n",
    "        \n",
    "        accuracy_list.append(correct_counter.item()*100/(acccnt))\n",
    "        loss_list.append(loss_tmp)\n",
    "        loss_temp=0\n",
    "        total_loss=0\n",
    "        correct_counter = 0\n",
    "        "
   ]
  },
  {
   "cell_type": "code",
   "execution_count": 145,
   "metadata": {},
   "outputs": [
    {
     "data": {
      "text/plain": [
       "[<matplotlib.lines.Line2D at 0x2539eea32e8>]"
      ]
     },
     "execution_count": 145,
     "metadata": {},
     "output_type": "execute_result"
    },
    {
     "data": {
      "image/png": "[encoded data removed]",
      "text/plain": [
       "<Figure size 432x288 with 1 Axes>"
      ]
     },
     "metadata": {
      "needs_background": "light"
     },
     "output_type": "display_data"
    }
   ],
   "source": [
    "# ロスのプロット\n",
    "plt.plot(loss_list)"
   ]
  },
  {
   "cell_type": "code",
   "execution_count": 146,
   "metadata": {},
   "outputs": [
    {
     "data": {
      "text/plain": [
       "[<matplotlib.lines.Line2D at 0x2539eefb5c0>]"
      ]
     },
     "execution_count": 146,
     "metadata": {},
     "output_type": "execute_result"
    },
    {
     "data": {
      "image/png": "[encoded data removed]",
      "text/plain": [
       "<Figure size 432x288 with 1 Axes>"
      ]
     },
     "metadata": {
      "needs_background": "light"
     },
     "output_type": "display_data"
    }
   ],
   "source": [
    "plt.plot(accuracy_list)"
   ]
  },
  {
   "cell_type": "markdown",
   "metadata": {},
   "source": [
    "## 誤差の確認"
   ]
  },
  {
   "cell_type": "code",
   "execution_count": 147,
   "metadata": {},
   "outputs": [],
   "source": [
    "# 学習を行わないモードに変更\n",
    "model.eval()\n",
    "\n",
    "# テストデータ\n",
    "x_test ,y_test = Variable(dataset.X_test) ,Variable(dataset.Y_test)\n",
    "# テストデータｘに対する結果　（値の大きい方を取得する）\n",
    "y_hat = torch.max(model(x_test).data ,1)[1]\n",
    "# 正解データは形を変えているので、元に戻す\n",
    "y_true = np.argmax(y_test, axis=1)\n",
    "# テストｘの結果とｙの比較　（結果が一致したら加算して、不一致は加算しない。その結果をデータ数で割る）\n",
    "accuracy = np.sum(y_true.numpy() == y_hat.numpy()) /len(y_test.data)"
   ]
  },
  {
   "cell_type": "code",
   "execution_count": 148,
   "metadata": {},
   "outputs": [
    {
     "data": {
      "text/plain": [
       "array([0, 1, 1, 0, 2, 1, 2, 0, 0, 2, 1, 0, 2, 1, 1, 0, 1, 1, 0, 0, 1, 1,\n",
       "       1, 0, 2, 1, 0, 0, 1, 2], dtype=int64)"
      ]
     },
     "execution_count": 148,
     "metadata": {},
     "output_type": "execute_result"
    }
   ],
   "source": [
    "# 正解データ\n",
    "y_true.numpy()"
   ]
  },
  {
   "cell_type": "code",
   "execution_count": 149,
   "metadata": {},
   "outputs": [
    {
     "data": {
      "text/plain": [
       "array([0, 1, 1, 0, 2, 1, 2, 0, 0, 2, 1, 0, 2, 1, 1, 0, 1, 1, 0, 0, 1, 1,\n",
       "       1, 0, 2, 1, 0, 0, 1, 2], dtype=int64)"
      ]
     },
     "execution_count": 149,
     "metadata": {},
     "output_type": "execute_result"
    }
   ],
   "source": [
    "# 予測値\n",
    "y_hat.numpy()"
   ]
  },
  {
   "cell_type": "code",
   "execution_count": 150,
   "metadata": {},
   "outputs": [
    {
     "data": {
      "text/plain": [
       "1.0"
      ]
     },
     "execution_count": 150,
     "metadata": {},
     "output_type": "execute_result"
    }
   ],
   "source": [
    "# 予測値の正解率\n",
    "accuracy"
   ]
  },
  {
   "cell_type": "code",
   "execution_count": 151,
   "metadata": {},
   "outputs": [
    {
     "name": "stdout",
     "output_type": "stream",
     "text": [
      "              precision    recall  f1-score   support\n",
      "\n",
      "           0       1.00      1.00      1.00        11\n",
      "           1       1.00      1.00      1.00        13\n",
      "           2       1.00      1.00      1.00         6\n",
      "\n",
      "    accuracy                           1.00        30\n",
      "   macro avg       1.00      1.00      1.00        30\n",
      "weighted avg       1.00      1.00      1.00        30\n",
      "\n",
      "-----\n",
      "[[11  0  0]\n",
      " [ 0 13  0]\n",
      " [ 0  0  6]]\n"
     ]
    }
   ],
   "source": [
    "y_hat_numpy = y_hat.numpy()\n",
    "print(metrics.classification_report(y_true.numpy(),y_hat.numpy() ))  # 正解率など\n",
    "print('-----')\n",
    "print(metrics.confusion_matrix(y_true.numpy(), y_hat.numpy() ))     # 行:正解、列:予測"
   ]
  },
  {
   "cell_type": "code",
   "execution_count": 152,
   "metadata": {},
   "outputs": [
    {
     "data": {
      "image/png": "[encoded data removed]",
      "text/plain": [
       "<Figure size 432x288 with 1 Axes>"
      ]
     },
     "metadata": {
      "needs_background": "light"
     },
     "output_type": "display_data"
    },
    {
     "data": {
      "image/png": "[encoded data removed]",
      "text/plain": [
       "<Figure size 432x288 with 1 Axes>"
      ]
     },
     "metadata": {
      "needs_background": "light"
     },
     "output_type": "display_data"
    }
   ],
   "source": [
    "#予測結果を格納\n",
    "st_predict_sepal = [[],[]]  # Setosa\n",
    "st_predict_petal = [[],[]]  # Setosa\n",
    "vc_predict_sepal = [[],[]]   # Versicolor\n",
    "vc_predict_petal = [[],[]]   # Versicolor\n",
    "vn_predict_sepal = [[],[]]   # Versinica\n",
    "vn_predict_petal = [[],[]]   # Versinica\n",
    "i = 0\n",
    "# 予測値に対してデータを分割\n",
    "for _y_hat in y_hat.numpy():\n",
    "    if _y_hat == 0:\n",
    "        st_predict_sepal[0].append(dataset.X_test[i][0])\n",
    "        st_predict_sepal[1].append(dataset.X_test[i][1])\n",
    "        st_predict_petal[0].append(dataset.X_test[i][2])\n",
    "        st_predict_petal[1].append(dataset.X_test[i][3])\n",
    "    elif _y_hat == 1:\n",
    "        vc_predict_sepal[0].append(dataset.X_test[i][0])\n",
    "        vc_predict_sepal[1].append(dataset.X_test[i][1])\n",
    "        vc_predict_petal[0].append(dataset.X_test[i][2])\n",
    "        vc_predict_petal[1].append(dataset.X_test[i][3])\n",
    "    elif _y_hat == 2:\n",
    "        vn_predict_sepal[0].append(dataset.X_test[i][0])\n",
    "        vn_predict_sepal[1].append(dataset.X_test[i][1])\n",
    "        vn_predict_petal[0].append(dataset.X_test[i][2])\n",
    "        vn_predict_petal[1].append(dataset.X_test[i][3])\n",
    "    else:\n",
    "        continue\n",
    "    i += 1\n",
    "\n",
    "plt.scatter(st_predict_sepal[0], st_predict_sepal[1], label=\"Setosa\")      # Sepal lengthとSepal width\n",
    "plt.scatter(vc_predict_sepal[0], vc_predict_sepal[1], label=\"Versicolor\")  # Sepal lengthとSepal width\n",
    "plt.scatter(vn_predict_sepal[0], vn_predict_sepal[1], label=\"Versinica\")  # Sepal lengthとSepal width\n",
    "plt.legend()\n",
    "plt.title('ガクの長さと幅での分布(全データ）')\n",
    "plt.xlabel(\"Sepal length (cm)\")    # ガクの長さ\n",
    "plt.ylabel(\"Sepal width (cm)\")     # ガクの幅\n",
    "plt.show()\n",
    "\n",
    "plt.scatter(st_predict_petal[0], st_predict_petal[1], label=\"Setosa\")      # Petal lengthとPetal width\n",
    "plt.scatter(vc_predict_petal[0], vc_predict_petal[1], label=\"Versicolor\")  # Petal lengthとPetal width\n",
    "plt.scatter(vn_predict_petal[0], vn_predict_petal[1], label=\"Versinica\")   # Petal lengthとPetal width\n",
    "plt.legend()\n",
    "plt.title('花弁の長さと幅での分布(全データ)')\n",
    "plt.xlabel(\"Petal length (cm)\")   # 花弁の長さ\n",
    "plt.ylabel(\"Petal width (cm)\")    # 花弁の幅\n",
    "plt.show()"
   ]
  },
  {
   "cell_type": "code",
   "execution_count": 153,
   "metadata": {},
   "outputs": [
    {
     "data": {
      "image/png": "[encoded data removed]",
      "text/plain": [
       "<Figure size 432x288 with 1 Axes>"
      ]
     },
     "metadata": {
      "needs_background": "light"
     },
     "output_type": "display_data"
    },
    {
     "data": {
      "image/png": "[encoded data removed]",
      "text/plain": [
       "<Figure size 432x288 with 1 Axes>"
      ]
     },
     "metadata": {
      "needs_background": "light"
     },
     "output_type": "display_data"
    }
   ],
   "source": [
    "y_hat2 = torch.max(model(dataset.X_fulldata) ,1)[1]\n",
    "\n",
    "#予測結果を格納\n",
    "st_predict_sepal = [[],[]]  # Setosa\n",
    "st_predict_petal = [[],[]]  # Setosa\n",
    "vc_predict_sepal = [[],[]]   # Versicolor\n",
    "vc_predict_petal = [[],[]]   # Versicolor\n",
    "vn_predict_sepal = [[],[]]   # Versinica\n",
    "vn_predict_petal = [[],[]]   # Versinica\n",
    "i = 0\n",
    "# 予測値に対してデータを分割\n",
    "for _y_hat in y_hat2.numpy():\n",
    "    if _y_hat == 0:\n",
    "        st_predict_sepal[0].append(dataset.X_fulldata[i][0])\n",
    "        st_predict_sepal[1].append(dataset.X_fulldata[i][1])\n",
    "        st_predict_petal[0].append(dataset.X_fulldata[i][2])\n",
    "        st_predict_petal[1].append(dataset.X_fulldata[i][3])\n",
    "    elif _y_hat == 1:\n",
    "        vc_predict_sepal[0].append(dataset.X_fulldata[i][0])\n",
    "        vc_predict_sepal[1].append(dataset.X_fulldata[i][1])\n",
    "        vc_predict_petal[0].append(dataset.X_fulldata[i][2])\n",
    "        vc_predict_petal[1].append(dataset.X_fulldata[i][3])\n",
    "    elif _y_hat == 2:\n",
    "        vn_predict_sepal[0].append(dataset.X_fulldata[i][0])\n",
    "        vn_predict_sepal[1].append(dataset.X_fulldata[i][1])\n",
    "        vn_predict_petal[0].append(dataset.X_fulldata[i][2])\n",
    "        vn_predict_petal[1].append(dataset.X_fulldata[i][3])\n",
    "    else:\n",
    "        continue\n",
    "    i += 1\n",
    "\n",
    "plt.scatter(st_predict_sepal[0], st_predict_sepal[1], label=\"Setosa\")      # Sepal lengthとSepal width\n",
    "plt.scatter(vc_predict_sepal[0], vc_predict_sepal[1], label=\"Versicolor\")  # Sepal lengthとSepal width\n",
    "plt.scatter(vn_predict_sepal[0], vn_predict_sepal[1], label=\"Versinica\")  # Sepal lengthとSepal width\n",
    "plt.legend()\n",
    "plt.title('ガクの長さと幅での分布(全データ）')\n",
    "plt.xlabel(\"Sepal length (cm)\")    # ガクの長さ\n",
    "plt.ylabel(\"Sepal width (cm)\")     # ガクの幅\n",
    "plt.show()\n",
    "\n",
    "plt.scatter(st_predict_petal[0], st_predict_petal[1], label=\"Setosa\")      # Petal lengthとPetal width\n",
    "plt.scatter(vc_predict_petal[0], vc_predict_petal[1], label=\"Versicolor\")  # Petal lengthとPetal width\n",
    "plt.scatter(vn_predict_petal[0], vn_predict_petal[1], label=\"Versinica\")   # Petal lengthとPetal width\n",
    "plt.legend()\n",
    "plt.title('花弁の長さと幅での分布(全データ)')\n",
    "plt.xlabel(\"Petal length (cm)\")   # 花弁の長さ\n",
    "plt.ylabel(\"Petal width (cm)\")    # 花弁の幅\n",
    "plt.show()"
   ]
  },
  {
   "cell_type": "code",
   "execution_count": 159,
   "metadata": {},
   "outputs": [
    {
     "name": "stdout",
     "output_type": "stream",
     "text": [
      "              precision    recall  f1-score   support\n",
      "\n",
      "           0       1.00      1.00      1.00        50\n",
      "           1       1.00      0.94      0.97        50\n",
      "           2       0.94      1.00      0.97        50\n",
      "\n",
      "    accuracy                           0.98       150\n",
      "   macro avg       0.98      0.98      0.98       150\n",
      "weighted avg       0.98      0.98      0.98       150\n",
      "\n",
      "-----\n",
      "[[50  0  0]\n",
      " [ 0 47  3]\n",
      " [ 0  0 50]]\n"
     ]
    }
   ],
   "source": [
    "print(metrics.classification_report(dataset.target , y_hat2.numpy() ))  # 正解率など\n",
    "print('-----')\n",
    "print(metrics.confusion_matrix(dataset.target, y_hat2.numpy() ))     # 行:正解、列:予測"
   ]
  },
  {
   "cell_type": "markdown",
   "metadata": {},
   "source": [
    "## 予測する"
   ]
  },
  {
   "cell_type": "code",
   "execution_count": 166,
   "metadata": {},
   "outputs": [],
   "source": [
    "def print_predict(_x , _y):\n",
    "    print('入力データ',_x)\n",
    "    y_predict = model(_x).data\n",
    "    print('予測値(確率)',y_predict)\n",
    "    print('予測値',torch.max(y_predict ,1)[1])\n",
    "    print('正解',_y)"
   ]
  },
  {
   "cell_type": "code",
   "execution_count": 167,
   "metadata": {},
   "outputs": [
    {
     "name": "stdout",
     "output_type": "stream",
     "text": [
      "入力データ tensor([[5.1000, 3.5000, 1.4000, 0.2000]])\n",
      "予測値(確率) tensor([[-0.8338, -1.2783, -1.2479]])\n",
      "予測値 tensor([0])\n",
      "正解 [0]\n"
     ]
    }
   ],
   "source": [
    "# 全データの１件目　　：　Setosa\n",
    "print_predict(dataset.X_fulldata[0:1] , dataset.target[0:1])"
   ]
  },
  {
   "cell_type": "code",
   "execution_count": 168,
   "metadata": {},
   "outputs": [
    {
     "name": "stdout",
     "output_type": "stream",
     "text": [
      "入力データ tensor([[6.4000, 3.2000, 4.5000, 1.5000]])\n",
      "予測値(確率) tensor([[-1.2412, -0.8819, -1.2141]])\n",
      "予測値 tensor([1])\n",
      "正解 [1]\n"
     ]
    }
   ],
   "source": [
    "# 全データの５１件目：　Versicolor\n",
    "print_predict(dataset.X_fulldata[51:52] , dataset.target[51:52])"
   ]
  },
  {
   "cell_type": "code",
   "execution_count": 169,
   "metadata": {},
   "outputs": [
    {
     "name": "stdout",
     "output_type": "stream",
     "text": [
      "入力データ tensor([[5.8000, 2.7000, 5.1000, 1.9000]])\n",
      "予測値(確率) tensor([[-1.2486, -1.2031, -0.8848]])\n",
      "予測値 tensor([2])\n",
      "正解 [2]\n"
     ]
    }
   ],
   "source": [
    "# 全データの１０１件目　　：　Versinica\n",
    "print_predict(dataset.X_fulldata[101:102] , dataset.target[101:102])"
   ]
  },
  {
   "cell_type": "code",
   "execution_count": null,
   "metadata": {},
   "outputs": [],
   "source": []
  }
 ],
 "metadata": {
  "kernelspec": {
   "display_name": "Python 3",
   "language": "python",
   "name": "python3"
  },
  "language_info": {
   "codemirror_mode": {
    "name": "ipython",
    "version": 3
   },
   "file_extension": ".py",
   "mimetype": "text/x-python",
   "name": "python",
   "nbconvert_exporter": "python",
   "pygments_lexer": "ipython3",
   "version": "3.7.1"
  }
 },
 "nbformat": 4,
 "nbformat_minor": 4
}
