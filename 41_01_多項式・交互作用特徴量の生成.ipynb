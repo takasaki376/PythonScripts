{
 "cells": [
  {
   "cell_type": "markdown",
   "metadata": {},
   "source": [
    "# 多項式・交互作用特徴量の生成"
   ]
  },
  {
   "cell_type": "markdown",
   "metadata": {},
   "source": [
    "多項式特徴量、交互作用特徴量の2つは、sklearn.preprocessingモジュールの、PolynomialFeatures関数を使うことで、同時に生成することができます。"
   ]
  },
  {
   "cell_type": "markdown",
   "metadata": {},
   "source": [
    "手順 \\\n",
    "polynomial = PolynomialFeatures(degree=次数, include_bias=False) \\\n",
    "polynomial_result = polynomial.fit_transform(データ)"
   ]
  },
  {
   "cell_type": "markdown",
   "metadata": {},
   "source": [
    "degreeで指定した次数によって、項目を増やす。 \\\n",
    "例えば、degree=3とした場合で、入力データが$X_1$、$X_2$、$X_3$、であった場合、 \\\n",
    "1次の多項式特徴量：3列 （元の特徴量そのまま） \\\n",
    "  →$X_1$、$X_2$、$X_3$ \\\n",
    "2次の多項式特徴量：3列 （元の特徴量の2乗） \\\n",
    "　→$X_1^2$、$X_2^2$、$X_3^2$ \\\n",
    "2次の交互作用特徴量：3列（2次の組み合わせの数） \\\n",
    "  →$X_1X_2$、$X_1X_3$、$X_2X_3$"
   ]
  },
  {
   "cell_type": "markdown",
   "metadata": {},
   "source": [
    "## ライブラリのインポート"
   ]
  },
  {
   "cell_type": "code",
   "execution_count": 1,
   "metadata": {},
   "outputs": [
    {
     "name": "stderr",
     "output_type": "stream",
     "text": [
      "C:\\Users\\takasaki\\Anaconda3\\envs\\matplotlib\\lib\\site-packages\\japanize_matplotlib\\japanize_matplotlib.py:15: MatplotlibDeprecationWarning: \n",
      "The createFontList function was deprecated in Matplotlib 3.2 and will be removed two minor releases later. Use FontManager.addfont instead.\n",
      "  font_list = font_manager.createFontList(font_files)\n"
     ]
    }
   ],
   "source": [
    "import numpy as np\n",
    "# アイリスの計測データ\n",
    "from sklearn.datasets import load_iris\n",
    "# データを扱う\n",
    "import pandas as pd\n",
    "# グラフ描画\n",
    "from matplotlib import pyplot as plt\n",
    "import japanize_matplotlib"
   ]
  },
  {
   "cell_type": "code",
   "execution_count": null,
   "metadata": {},
   "outputs": [],
   "source": [
    "# 多項式・交互作用特徴量\n",
    "from sklearn.preprocessing import PolynomialFeatures\n",
    "# 特徴量選択\n",
    "from sklearn.linear_model import LogisticRegression\n",
    "from sklearn.feature_selection import SelectFromModel"
   ]
  },
  {
   "cell_type": "markdown",
   "metadata": {},
   "source": [
    "## テスト用データの読み込み"
   ]
  },
  {
   "cell_type": "code",
   "execution_count": 2,
   "metadata": {},
   "outputs": [
    {
     "data": {
      "text/html": [
       "<div>\n",
       "<style scoped>\n",
       "    .dataframe tbody tr th:only-of-type {\n",
       "        vertical-align: middle;\n",
       "    }\n",
       "\n",
       "    .dataframe tbody tr th {\n",
       "        vertical-align: top;\n",
       "    }\n",
       "\n",
       "    .dataframe thead th {\n",
       "        text-align: right;\n",
       "    }\n",
       "</style>\n",
       "<table border=\"1\" class=\"dataframe\">\n",
       "  <thead>\n",
       "    <tr style=\"text-align: right;\">\n",
       "      <th></th>\n",
       "      <th>sepal length (cm)</th>\n",
       "      <th>sepal width (cm)</th>\n",
       "      <th>petal length (cm)</th>\n",
       "      <th>petal width (cm)</th>\n",
       "    </tr>\n",
       "  </thead>\n",
       "  <tbody>\n",
       "    <tr>\n",
       "      <th>0</th>\n",
       "      <td>5.1</td>\n",
       "      <td>3.5</td>\n",
       "      <td>1.4</td>\n",
       "      <td>0.2</td>\n",
       "    </tr>\n",
       "    <tr>\n",
       "      <th>1</th>\n",
       "      <td>4.9</td>\n",
       "      <td>3.0</td>\n",
       "      <td>1.4</td>\n",
       "      <td>0.2</td>\n",
       "    </tr>\n",
       "    <tr>\n",
       "      <th>2</th>\n",
       "      <td>4.7</td>\n",
       "      <td>3.2</td>\n",
       "      <td>1.3</td>\n",
       "      <td>0.2</td>\n",
       "    </tr>\n",
       "    <tr>\n",
       "      <th>3</th>\n",
       "      <td>4.6</td>\n",
       "      <td>3.1</td>\n",
       "      <td>1.5</td>\n",
       "      <td>0.2</td>\n",
       "    </tr>\n",
       "    <tr>\n",
       "      <th>4</th>\n",
       "      <td>5.0</td>\n",
       "      <td>3.6</td>\n",
       "      <td>1.4</td>\n",
       "      <td>0.2</td>\n",
       "    </tr>\n",
       "  </tbody>\n",
       "</table>\n",
       "</div>"
      ],
      "text/plain": [
       "   sepal length (cm)  sepal width (cm)  petal length (cm)  petal width (cm)\n",
       "0                5.1               3.5                1.4               0.2\n",
       "1                4.9               3.0                1.4               0.2\n",
       "2                4.7               3.2                1.3               0.2\n",
       "3                4.6               3.1                1.5               0.2\n",
       "4                5.0               3.6                1.4               0.2"
      ]
     },
     "execution_count": 2,
     "metadata": {},
     "output_type": "execute_result"
    }
   ],
   "source": [
    "iris = load_iris()\n",
    "# アイリスの計測データの各項目\n",
    "## sepal length (cm)\t\tがく片の長さ\n",
    "## sepal width (cm)\t\t\tがく片の幅\n",
    "## petal length (cm)\t\t花弁の長さ\n",
    "## petal length (cm)\t\t花弁の幅\n",
    "\n",
    "# アイリスの計測データを表形式で表示\n",
    "df_x=pd.DataFrame(iris.data ,columns=iris.feature_names)\n",
    "df_x.head()"
   ]
  },
  {
   "cell_type": "markdown",
   "metadata": {},
   "source": [
    "## 多項式・交互作用特徴量の生成"
   ]
  },
  {
   "cell_type": "code",
   "execution_count": 3,
   "metadata": {},
   "outputs": [],
   "source": [
    "polynomial = PolynomialFeatures(degree=3, include_bias=False)\n",
    "polynomial_arr = polynomial.fit_transform(iris.data)"
   ]
  },
  {
   "cell_type": "code",
   "execution_count": 4,
   "metadata": {},
   "outputs": [],
   "source": [
    "# polynomial_arrのデータフレーム化 （※カラムはshape[1]でpolynomial_arrの列数分だけ出力）\n",
    "X_polynomial = pd.DataFrame(polynomial_arr, columns=[\"poly\" + str(x) for x in range(polynomial_arr.shape[1])])"
   ]
  },
  {
   "cell_type": "code",
   "execution_count": 5,
   "metadata": {},
   "outputs": [
    {
     "name": "stdout",
     "output_type": "stream",
     "text": [
      "<class 'pandas.core.frame.DataFrame'>\n",
      "RangeIndex: 150 entries, 0 to 149\n",
      "Data columns (total 34 columns):\n",
      " #   Column  Non-Null Count  Dtype  \n",
      "---  ------  --------------  -----  \n",
      " 0   poly0   150 non-null    float64\n",
      " 1   poly1   150 non-null    float64\n",
      " 2   poly2   150 non-null    float64\n",
      " 3   poly3   150 non-null    float64\n",
      " 4   poly4   150 non-null    float64\n",
      " 5   poly5   150 non-null    float64\n",
      " 6   poly6   150 non-null    float64\n",
      " 7   poly7   150 non-null    float64\n",
      " 8   poly8   150 non-null    float64\n",
      " 9   poly9   150 non-null    float64\n",
      " 10  poly10  150 non-null    float64\n",
      " 11  poly11  150 non-null    float64\n",
      " 12  poly12  150 non-null    float64\n",
      " 13  poly13  150 non-null    float64\n",
      " 14  poly14  150 non-null    float64\n",
      " 15  poly15  150 non-null    float64\n",
      " 16  poly16  150 non-null    float64\n",
      " 17  poly17  150 non-null    float64\n",
      " 18  poly18  150 non-null    float64\n",
      " 19  poly19  150 non-null    float64\n",
      " 20  poly20  150 non-null    float64\n",
      " 21  poly21  150 non-null    float64\n",
      " 22  poly22  150 non-null    float64\n",
      " 23  poly23  150 non-null    float64\n",
      " 24  poly24  150 non-null    float64\n",
      " 25  poly25  150 non-null    float64\n",
      " 26  poly26  150 non-null    float64\n",
      " 27  poly27  150 non-null    float64\n",
      " 28  poly28  150 non-null    float64\n",
      " 29  poly29  150 non-null    float64\n",
      " 30  poly30  150 non-null    float64\n",
      " 31  poly31  150 non-null    float64\n",
      " 32  poly32  150 non-null    float64\n",
      " 33  poly33  150 non-null    float64\n",
      "dtypes: float64(34)\n",
      "memory usage: 40.0 KB\n"
     ]
    }
   ],
   "source": [
    "X_polynomial.info()"
   ]
  },
  {
   "cell_type": "markdown",
   "metadata": {},
   "source": [
    "## 特徴量選択の条件の指定"
   ]
  },
  {
   "cell_type": "markdown",
   "metadata": {},
   "source": [
    "生成した多項式・交互作用特徴量に対して、不要なものを除外して、必要な特徴量（目的変数と関連性の高い説明変数）を選択する。"
   ]
  },
  {
   "cell_type": "code",
   "execution_count": 11,
   "metadata": {},
   "outputs": [],
   "source": [
    "# 組み込み法に使うモデルの指定\n",
    "fs_model = LogisticRegression(penalty='l2', random_state=0)\n",
    "# 閾値の指定\n",
    "fs_threshold = \"mean\"\n",
    "# 組み込み法モデルの初期化\n",
    "selector = SelectFromModel(fs_model, threshold=fs_threshold)"
   ]
  },
  {
   "cell_type": "code",
   "execution_count": 16,
   "metadata": {},
   "outputs": [
    {
     "data": {
      "text/plain": [
       "array([0, 0, 0, 0, 0, 0, 0, 0, 0, 0, 0, 0, 0, 0, 0, 0, 0, 0, 0, 0, 0, 0,\n",
       "       0, 0, 0, 0, 0, 0, 0, 0, 0, 0, 0, 0, 0, 0, 0, 0, 0, 0, 0, 0, 0, 0,\n",
       "       0, 0, 0, 0, 0, 0, 1, 1, 1, 1, 1, 1, 1, 1, 1, 1, 1, 1, 1, 1, 1, 1,\n",
       "       1, 1, 1, 1, 1, 1, 1, 1, 1, 1, 1, 1, 1, 1, 1, 1, 1, 1, 1, 1, 1, 1,\n",
       "       1, 1, 1, 1, 1, 1, 1, 1, 1, 1, 1, 1, 2, 2, 2, 2, 2, 2, 2, 2, 2, 2,\n",
       "       2, 2, 2, 2, 2, 2, 2, 2, 2, 2, 2, 2, 2, 2, 2, 2, 2, 2, 2, 2, 2, 2,\n",
       "       2, 2, 2, 2, 2, 2, 2, 2, 2, 2, 2, 2, 2, 2, 2, 2, 2, 2])"
      ]
     },
     "execution_count": 16,
     "metadata": {},
     "output_type": "execute_result"
    }
   ],
   "source": [
    "iris.target"
   ]
  },
  {
   "cell_type": "code",
   "execution_count": 12,
   "metadata": {},
   "outputs": [
    {
     "name": "stdout",
     "output_type": "stream",
     "text": [
      "[False False False False  True False  True False False False False  True\n",
      " False False  True  True  True False  True  True False  True False  True\n",
      "  True  True False False False False  True False  True  True]\n"
     ]
    },
    {
     "name": "stderr",
     "output_type": "stream",
     "text": [
      "C:\\Users\\takasaki\\Anaconda3\\envs\\matplotlib\\lib\\site-packages\\sklearn\\linear_model\\_logistic.py:764: ConvergenceWarning: lbfgs failed to converge (status=1):\n",
      "STOP: TOTAL NO. of ITERATIONS REACHED LIMIT.\n",
      "\n",
      "Increase the number of iterations (max_iter) or scale the data as shown in:\n",
      "    https://scikit-learn.org/stable/modules/preprocessing.html\n",
      "Please also refer to the documentation for alternative solver options:\n",
      "    https://scikit-learn.org/stable/modules/linear_model.html#logistic-regression\n",
      "  extra_warning_msg=_LOGISTIC_SOLVER_CONVERGENCE_MSG)\n"
     ]
    }
   ],
   "source": [
    "# 特徴量選択の実行\n",
    "selector.fit(X_polynomial, iris.target)\n",
    "mask = selector.get_support()\n",
    "print(mask)"
   ]
  },
  {
   "cell_type": "code",
   "execution_count": 13,
   "metadata": {},
   "outputs": [],
   "source": [
    "# 選択された特徴量だけのサンプル取得\n",
    "X_polynomial_masked = X_polynomial.loc[:, mask]"
   ]
  },
  {
   "cell_type": "markdown",
   "metadata": {},
   "source": [
    "## 選択された特徴量の表示"
   ]
  },
  {
   "cell_type": "code",
   "execution_count": 14,
   "metadata": {},
   "outputs": [
    {
     "name": "stdout",
     "output_type": "stream",
     "text": [
      "選択された特徴量の表示（最初の5行）\n",
      "   poly4  poly6  poly11   poly14  poly15  poly16  poly18  poly19  poly21  \\\n",
      "0  26.01   7.14    1.96  132.651  91.035  36.414  62.475  24.990   9.996   \n",
      "1  24.01   6.86    1.96  117.649  72.030  33.614  44.100  20.580   9.604   \n",
      "2  22.09   6.11    1.69  103.823  70.688  28.717  48.128  19.552   7.943   \n",
      "3  21.16   6.90    2.25   97.336  65.596  31.740  44.206  21.390  10.350   \n",
      "4  25.00   7.00    1.96  125.000  90.000  35.000  64.800  25.200   9.800   \n",
      "\n",
      "   poly23  poly24  poly25  poly30  poly32  poly33  \n",
      "0   0.204  42.875  17.150   2.744   0.056   0.008  \n",
      "1   0.196  27.000  12.600   2.744   0.056   0.008  \n",
      "2   0.188  32.768  13.312   2.197   0.052   0.008  \n",
      "3   0.184  29.791  14.415   3.375   0.060   0.008  \n",
      "4   0.200  46.656  18.144   2.744   0.056   0.008  \n",
      "選択された特徴量の数の確認\n",
      "(150, 15)\n"
     ]
    }
   ],
   "source": [
    "print(\"選択された特徴量の表示（最初の5行）\")\n",
    "print(X_polynomial_masked.head())\n",
    "print(\"選択された特徴量の数の確認\")\n",
    "print(X_polynomial_masked.shape)"
   ]
  },
  {
   "cell_type": "code",
   "execution_count": 15,
   "metadata": {},
   "outputs": [
    {
     "name": "stdout",
     "output_type": "stream",
     "text": [
      "[False False False False  True False  True False False False False  True\n",
      " False False  True  True  True False  True  True False  True False  True\n",
      "  True  True False False False False  True False  True  True]\n"
     ]
    }
   ],
   "source": [
    "print(mask)"
   ]
  },
  {
   "cell_type": "code",
   "execution_count": null,
   "metadata": {},
   "outputs": [],
   "source": []
  }
 ],
 "metadata": {
  "kernelspec": {
   "display_name": "Python 3",
   "language": "python",
   "name": "python3"
  },
  "language_info": {
   "codemirror_mode": {
    "name": "ipython",
    "version": 3
   },
   "file_extension": ".py",
   "mimetype": "text/x-python",
   "name": "python",
   "nbconvert_exporter": "python",
   "pygments_lexer": "ipython3",
   "version": "3.7.1"
  }
 },
 "nbformat": 4,
 "nbformat_minor": 4
}
